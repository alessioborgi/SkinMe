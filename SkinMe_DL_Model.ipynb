{
  "cells": [
    {
      "cell_type": "markdown",
      "metadata": {
        "id": "bYcNUzxIRouF"
      },
      "source": [
        "# **SKIN ME DL MODELS**"
      ]
    },
    {
      "cell_type": "markdown",
      "metadata": {
        "id": "PdUxjmfownUy"
      },
      "source": [
        "#**STEP 0: OVERVIEW**\n",
        "\n"
      ]
    },
    {
      "cell_type": "markdown",
      "metadata": {
        "id": "NLlIgclXSRW1"
      },
      "source": [
        "**Authors:** Alessio Borgi, Federica Bruni, Maria Emilia Russo \n",
        "\n",
        "**Credit & Attributions:** Dataset [Harvard Dataverse](https://dataverse.harvard.edu/dataset.xhtml?persistentId=doi:10.7910/DVN/DBW86T) **HAM10000** (i.e., \"Human Against Machine with 10000 training images\").\n",
        "\n",
        "**SkinMe** is a Deep Learning Project whose aim is to detect Melanoma Cancer through CNN and LSTM.\n",
        "\n",
        "### **TABLE OF CONTENTS:**\n",
        "- **STEP 0:** OVERVIEW\n",
        "- **STEP 1:** IMPORTS & SET-UP \n",
        "  - **STEP 1.1:** IMPORTING LIBRARIES]\n",
        "  - **STEP 1.2:** SET UP\n",
        "- **STEP 3:** DATA VISUALIZATION\n",
        "  - **STEP 3.1:** DISEASE CLASS DISTRIBUTION IN THE DATASET\n",
        "  - **STEP 3.2:** DISEASE LOCALIZATION\n",
        "  - **STEP 3.3:** PATIENT AGE\n",
        "  - **STEP 3.4:** SKIN LESION VERIFICATION\n",
        "  - **STEP 3.5:** PATIENT GENDER\n",
        "- **STEP 4:** DATASET TRAIN-TEST SPLIT\n",
        "  - **STEP 4.1:** DATASET CLASSES DECLARATION]\n",
        "  - **STEP 4.2:** DATASET TRAIN-TEST SPLIT\n",
        "- **STEP 5:** DATASET BALANCING\n",
        "- **STEP 6:** IMAGE VISUALIZATION\n",
        "- **STEP 7:** CNN MODEL\n",
        "  - **STEP 7.1:** MODEL BUILDING\n",
        "  - **STEP 7.2:** MODEL FITTING\n",
        "  - **STEP 7.3:** MODEL EVALUATION\n",
        "  - **STEP 7.4:** TESTING THE EXAMPLE\n",
        "- **STEP 8:** LSTM MODEL\n",
        "  - **STEP 8.1:** MODEL BUILDING\n",
        "  - **STEP 8.2:** MODEL FITTING\n",
        "  - **STEP 8.3:** MODEL EVALUATION\n",
        "  - **STEP 8.4:** TESTING THE EXAMPLE\n"
      ]
    },
    {
      "cell_type": "markdown",
      "metadata": {
        "id": "CITglgXP2wiK"
      },
      "source": [
        "# **STEP 1: IMPORTS & SET-UP**\n",
        "\n",
        "As a first step of our Project, we can proceed to **Import** all the necessary **Libraries** we will be using throughout the whole project and to **Set-Up** the necessary **environment** for the project to work."
      ]
    },
    {
      "cell_type": "markdown",
      "metadata": {
        "id": "rlOfU5sBKIrG"
      },
      "source": [
        "## **STEP 1.1: IMPORTING LIBRARIES**\n",
        "\n",
        "We import from the most general **Libraries** (like pandas and numpy for handling the Dataset and the Tensors), to the more specific ones(like imblearn.over_sampling for the balancing of the Dataset).\n"
      ]
    },
    {
      "cell_type": "code",
      "execution_count": 1,
      "metadata": {
        "id": "kES_rD67rrG6"
      },
      "outputs": [],
      "source": [
        "import PIL\n",
        "import time\n",
        "import keras\n",
        "import random\n",
        "import warnings \n",
        "import numpy as np\n",
        "import pandas as pd\n",
        "import seaborn as sns\n",
        "import tensorflow as tf\n",
        "from datetime import datetime\n",
        "import matplotlib.pyplot as plt\n",
        "from keras.datasets import mnist\n",
        "from keras.utils import np_utils\n",
        "import sklearn.metrics as metrics\n",
        "from keras.models import Sequential\n",
        "from imblearn.over_sampling import SMOTE\n",
        "from sklearn.metrics import confusion_matrix\n",
        "from keras.layers import LSTM, Dense,Dropout\n",
        "from keras.layers import Conv2D, MaxPooling2D\n",
        "from tensorflow.keras.models import Sequential\n",
        "from keras.layers import Dense, Dropout, Flatten\n",
        "from imblearn.over_sampling import RandomOverSampler\n",
        "from sklearn.model_selection import train_test_split\n",
        "from tensorflow.keras.layers import Conv2D, Flatten, Dense, MaxPool2D\n",
        "warnings.filterwarnings('ignore')\n"
      ]
    },
    {
      "cell_type": "markdown",
      "metadata": {
        "id": "nJvq5OxBKj1j"
      },
      "source": [
        "## **STEP 1.2: SET-UP**\n",
        "\n",
        "As a set-up step, you will have to **Mount** your **drive** content. In order to do this, you will have to have on your Drive, a **Folder**, named as **\"SkinMeProject\"**.\n",
        "Inside it, you should have two Folders: \n",
        "- **\"dataset\"**: This will contain:\n",
        "  - **\"CNN_weights.h5\"**: This file is used for retrieving and saving weights each time, in such a way to neither loose the work done by the Training nor restart from a totally not-trained CNN model.  \n",
        "  - **\"LSTM_weights.h5\"**: This file is used for retrieving and saving weights each time, in such a way to neither loose the work done by the Training nor restart from a totally not-trained LSTM model.\n",
        "  - **\"HAM10000_metadata.csv\"**: This is the file that contains the metadata for the HAM10000 Dataset.\n",
        "  - **\"hmnist_28_28_RGB.csv\"**: This is the actual file that contains the HAM10000 Dataset.\n",
        "\n",
        "- **\"test_imgs\"**: This is the folder it will contain the images to test for.\n",
        "\n",
        "In the same level, we will find this file itself, named **\"SkinMe_DL_Models.ipynb\"**.\n",
        "\n",
        "Once we have set-up the folder, we can also save both the data and metadata path.\n"
      ]
    },
    {
      "cell_type": "code",
      "execution_count": 2,
      "metadata": {
        "id": "kj2A4zjDDx8C",
        "colab": {
          "base_uri": "https://localhost:8080/"
        },
        "outputId": "f7cc2c2d-b533-4b62-83d1-178b9d699c7f"
      },
      "outputs": [
        {
          "output_type": "stream",
          "name": "stdout",
          "text": [
            "Mounted at /content/drive\n"
          ]
        }
      ],
      "source": [
        "from google.colab import drive\n",
        "drive.mount('/content/drive')"
      ]
    },
    {
      "cell_type": "code",
      "execution_count": 3,
      "metadata": {
        "id": "g7tDvsg5sNZK"
      },
      "outputs": [],
      "source": [
        "data_path='drive/MyDrive/SkinMeProject/dataset/hmnist_28_28_RGB.csv'\n",
        "metadata_path='drive/MyDrive/SkinMeProject/dataset/HAM10000_metadata.csv'"
      ]
    },
    {
      "cell_type": "markdown",
      "metadata": {
        "id": "Xp6IRzqhu1Q9"
      },
      "source": [
        "# **STEP 2: LOADING DATASET**\n",
        "\n",
        "Once we have gone through the simple imports and set-up process, we can finally **Load** the **Data Dataset** and the **MetaData Dataset**. In this way, we can save them into Pandas Dataframes, in sucha a way to be very easy to manage.\n",
        "\n",
        "We also proceed to have a brief look on them, by printing out the first 5 samples of each. \n",
        "\n",
        "Note that, the Data Dataset will show a **5x2352** Table. This is because we have that each **sample** in the **HAM10000 Dataset** as a **28x28x3** shape (28 column pixels, 28 row pixels, and 3 color channels(R,G,B)). In the csv, these samples are **Flattened** to **one dimension**, and from this the result follows (2352=28x28x3). "
      ]
    },
    {
      "cell_type": "code",
      "execution_count": 4,
      "metadata": {
        "colab": {
          "base_uri": "https://localhost:8080/",
          "height": 297
        },
        "id": "EmtHUtxJQoHK",
        "outputId": "e453d048-5445-4ced-c042-4bbc7e2294f0"
      },
      "outputs": [
        {
          "output_type": "execute_result",
          "data": {
            "text/plain": [
              "   pixel0000  pixel0001  pixel0002  pixel0003  pixel0004  pixel0005  \\\n",
              "0        192        153        193        195        155        192   \n",
              "1         25         14         30         68         48         75   \n",
              "2        192        138        153        200        145        163   \n",
              "3         38         19         30         95         59         72   \n",
              "4        158        113        139        194        144        174   \n",
              "\n",
              "   pixel0006  pixel0007  pixel0008  pixel0009  ...  pixel2343  pixel2344  \\\n",
              "0        197        154        185        202  ...        173        124   \n",
              "1        123         93        126        158  ...         60         39   \n",
              "2        201        142        160        206  ...        167        129   \n",
              "3        143        103        119        171  ...         44         26   \n",
              "4        215        162        191        225  ...        209        166   \n",
              "\n",
              "   pixel2345  pixel2346  pixel2347  pixel2348  pixel2349  pixel2350  \\\n",
              "0        138        183        147        166        185        154   \n",
              "1         55         25         14         28         25         14   \n",
              "2        143        159        124        142        136        104   \n",
              "3         36         25         12         17         25         12   \n",
              "4        185        172        135        149        109         78   \n",
              "\n",
              "   pixel2351  label  \n",
              "0        177      2  \n",
              "1         27      2  \n",
              "2        117      2  \n",
              "3         15      2  \n",
              "4         92      2  \n",
              "\n",
              "[5 rows x 2353 columns]"
            ],
            "text/html": [
              "\n",
              "  <div id=\"df-a13f254d-dcde-4ba5-b48f-42dab3fd87f5\">\n",
              "    <div class=\"colab-df-container\">\n",
              "      <div>\n",
              "<style scoped>\n",
              "    .dataframe tbody tr th:only-of-type {\n",
              "        vertical-align: middle;\n",
              "    }\n",
              "\n",
              "    .dataframe tbody tr th {\n",
              "        vertical-align: top;\n",
              "    }\n",
              "\n",
              "    .dataframe thead th {\n",
              "        text-align: right;\n",
              "    }\n",
              "</style>\n",
              "<table border=\"1\" class=\"dataframe\">\n",
              "  <thead>\n",
              "    <tr style=\"text-align: right;\">\n",
              "      <th></th>\n",
              "      <th>pixel0000</th>\n",
              "      <th>pixel0001</th>\n",
              "      <th>pixel0002</th>\n",
              "      <th>pixel0003</th>\n",
              "      <th>pixel0004</th>\n",
              "      <th>pixel0005</th>\n",
              "      <th>pixel0006</th>\n",
              "      <th>pixel0007</th>\n",
              "      <th>pixel0008</th>\n",
              "      <th>pixel0009</th>\n",
              "      <th>...</th>\n",
              "      <th>pixel2343</th>\n",
              "      <th>pixel2344</th>\n",
              "      <th>pixel2345</th>\n",
              "      <th>pixel2346</th>\n",
              "      <th>pixel2347</th>\n",
              "      <th>pixel2348</th>\n",
              "      <th>pixel2349</th>\n",
              "      <th>pixel2350</th>\n",
              "      <th>pixel2351</th>\n",
              "      <th>label</th>\n",
              "    </tr>\n",
              "  </thead>\n",
              "  <tbody>\n",
              "    <tr>\n",
              "      <th>0</th>\n",
              "      <td>192</td>\n",
              "      <td>153</td>\n",
              "      <td>193</td>\n",
              "      <td>195</td>\n",
              "      <td>155</td>\n",
              "      <td>192</td>\n",
              "      <td>197</td>\n",
              "      <td>154</td>\n",
              "      <td>185</td>\n",
              "      <td>202</td>\n",
              "      <td>...</td>\n",
              "      <td>173</td>\n",
              "      <td>124</td>\n",
              "      <td>138</td>\n",
              "      <td>183</td>\n",
              "      <td>147</td>\n",
              "      <td>166</td>\n",
              "      <td>185</td>\n",
              "      <td>154</td>\n",
              "      <td>177</td>\n",
              "      <td>2</td>\n",
              "    </tr>\n",
              "    <tr>\n",
              "      <th>1</th>\n",
              "      <td>25</td>\n",
              "      <td>14</td>\n",
              "      <td>30</td>\n",
              "      <td>68</td>\n",
              "      <td>48</td>\n",
              "      <td>75</td>\n",
              "      <td>123</td>\n",
              "      <td>93</td>\n",
              "      <td>126</td>\n",
              "      <td>158</td>\n",
              "      <td>...</td>\n",
              "      <td>60</td>\n",
              "      <td>39</td>\n",
              "      <td>55</td>\n",
              "      <td>25</td>\n",
              "      <td>14</td>\n",
              "      <td>28</td>\n",
              "      <td>25</td>\n",
              "      <td>14</td>\n",
              "      <td>27</td>\n",
              "      <td>2</td>\n",
              "    </tr>\n",
              "    <tr>\n",
              "      <th>2</th>\n",
              "      <td>192</td>\n",
              "      <td>138</td>\n",
              "      <td>153</td>\n",
              "      <td>200</td>\n",
              "      <td>145</td>\n",
              "      <td>163</td>\n",
              "      <td>201</td>\n",
              "      <td>142</td>\n",
              "      <td>160</td>\n",
              "      <td>206</td>\n",
              "      <td>...</td>\n",
              "      <td>167</td>\n",
              "      <td>129</td>\n",
              "      <td>143</td>\n",
              "      <td>159</td>\n",
              "      <td>124</td>\n",
              "      <td>142</td>\n",
              "      <td>136</td>\n",
              "      <td>104</td>\n",
              "      <td>117</td>\n",
              "      <td>2</td>\n",
              "    </tr>\n",
              "    <tr>\n",
              "      <th>3</th>\n",
              "      <td>38</td>\n",
              "      <td>19</td>\n",
              "      <td>30</td>\n",
              "      <td>95</td>\n",
              "      <td>59</td>\n",
              "      <td>72</td>\n",
              "      <td>143</td>\n",
              "      <td>103</td>\n",
              "      <td>119</td>\n",
              "      <td>171</td>\n",
              "      <td>...</td>\n",
              "      <td>44</td>\n",
              "      <td>26</td>\n",
              "      <td>36</td>\n",
              "      <td>25</td>\n",
              "      <td>12</td>\n",
              "      <td>17</td>\n",
              "      <td>25</td>\n",
              "      <td>12</td>\n",
              "      <td>15</td>\n",
              "      <td>2</td>\n",
              "    </tr>\n",
              "    <tr>\n",
              "      <th>4</th>\n",
              "      <td>158</td>\n",
              "      <td>113</td>\n",
              "      <td>139</td>\n",
              "      <td>194</td>\n",
              "      <td>144</td>\n",
              "      <td>174</td>\n",
              "      <td>215</td>\n",
              "      <td>162</td>\n",
              "      <td>191</td>\n",
              "      <td>225</td>\n",
              "      <td>...</td>\n",
              "      <td>209</td>\n",
              "      <td>166</td>\n",
              "      <td>185</td>\n",
              "      <td>172</td>\n",
              "      <td>135</td>\n",
              "      <td>149</td>\n",
              "      <td>109</td>\n",
              "      <td>78</td>\n",
              "      <td>92</td>\n",
              "      <td>2</td>\n",
              "    </tr>\n",
              "  </tbody>\n",
              "</table>\n",
              "<p>5 rows × 2353 columns</p>\n",
              "</div>\n",
              "      <button class=\"colab-df-convert\" onclick=\"convertToInteractive('df-a13f254d-dcde-4ba5-b48f-42dab3fd87f5')\"\n",
              "              title=\"Convert this dataframe to an interactive table.\"\n",
              "              style=\"display:none;\">\n",
              "        \n",
              "  <svg xmlns=\"http://www.w3.org/2000/svg\" height=\"24px\"viewBox=\"0 0 24 24\"\n",
              "       width=\"24px\">\n",
              "    <path d=\"M0 0h24v24H0V0z\" fill=\"none\"/>\n",
              "    <path d=\"M18.56 5.44l.94 2.06.94-2.06 2.06-.94-2.06-.94-.94-2.06-.94 2.06-2.06.94zm-11 1L8.5 8.5l.94-2.06 2.06-.94-2.06-.94L8.5 2.5l-.94 2.06-2.06.94zm10 10l.94 2.06.94-2.06 2.06-.94-2.06-.94-.94-2.06-.94 2.06-2.06.94z\"/><path d=\"M17.41 7.96l-1.37-1.37c-.4-.4-.92-.59-1.43-.59-.52 0-1.04.2-1.43.59L10.3 9.45l-7.72 7.72c-.78.78-.78 2.05 0 2.83L4 21.41c.39.39.9.59 1.41.59.51 0 1.02-.2 1.41-.59l7.78-7.78 2.81-2.81c.8-.78.8-2.07 0-2.86zM5.41 20L4 18.59l7.72-7.72 1.47 1.35L5.41 20z\"/>\n",
              "  </svg>\n",
              "      </button>\n",
              "      \n",
              "  <style>\n",
              "    .colab-df-container {\n",
              "      display:flex;\n",
              "      flex-wrap:wrap;\n",
              "      gap: 12px;\n",
              "    }\n",
              "\n",
              "    .colab-df-convert {\n",
              "      background-color: #E8F0FE;\n",
              "      border: none;\n",
              "      border-radius: 50%;\n",
              "      cursor: pointer;\n",
              "      display: none;\n",
              "      fill: #1967D2;\n",
              "      height: 32px;\n",
              "      padding: 0 0 0 0;\n",
              "      width: 32px;\n",
              "    }\n",
              "\n",
              "    .colab-df-convert:hover {\n",
              "      background-color: #E2EBFA;\n",
              "      box-shadow: 0px 1px 2px rgba(60, 64, 67, 0.3), 0px 1px 3px 1px rgba(60, 64, 67, 0.15);\n",
              "      fill: #174EA6;\n",
              "    }\n",
              "\n",
              "    [theme=dark] .colab-df-convert {\n",
              "      background-color: #3B4455;\n",
              "      fill: #D2E3FC;\n",
              "    }\n",
              "\n",
              "    [theme=dark] .colab-df-convert:hover {\n",
              "      background-color: #434B5C;\n",
              "      box-shadow: 0px 1px 3px 1px rgba(0, 0, 0, 0.15);\n",
              "      filter: drop-shadow(0px 1px 2px rgba(0, 0, 0, 0.3));\n",
              "      fill: #FFFFFF;\n",
              "    }\n",
              "  </style>\n",
              "\n",
              "      <script>\n",
              "        const buttonEl =\n",
              "          document.querySelector('#df-a13f254d-dcde-4ba5-b48f-42dab3fd87f5 button.colab-df-convert');\n",
              "        buttonEl.style.display =\n",
              "          google.colab.kernel.accessAllowed ? 'block' : 'none';\n",
              "\n",
              "        async function convertToInteractive(key) {\n",
              "          const element = document.querySelector('#df-a13f254d-dcde-4ba5-b48f-42dab3fd87f5');\n",
              "          const dataTable =\n",
              "            await google.colab.kernel.invokeFunction('convertToInteractive',\n",
              "                                                     [key], {});\n",
              "          if (!dataTable) return;\n",
              "\n",
              "          const docLinkHtml = 'Like what you see? Visit the ' +\n",
              "            '<a target=\"_blank\" href=https://colab.research.google.com/notebooks/data_table.ipynb>data table notebook</a>'\n",
              "            + ' to learn more about interactive tables.';\n",
              "          element.innerHTML = '';\n",
              "          dataTable['output_type'] = 'display_data';\n",
              "          await google.colab.output.renderOutput(dataTable, element);\n",
              "          const docLink = document.createElement('div');\n",
              "          docLink.innerHTML = docLinkHtml;\n",
              "          element.appendChild(docLink);\n",
              "        }\n",
              "      </script>\n",
              "    </div>\n",
              "  </div>\n",
              "  "
            ]
          },
          "metadata": {},
          "execution_count": 4
        }
      ],
      "source": [
        "dataset = pd.read_csv(data_path)\n",
        "dataset.head()"
      ]
    },
    {
      "cell_type": "code",
      "execution_count": 5,
      "metadata": {
        "colab": {
          "base_uri": "https://localhost:8080/",
          "height": 268
        },
        "id": "_v58dEBGUKpK",
        "outputId": "e6ded49b-e9ec-4409-80b3-3371adfda496"
      },
      "outputs": [
        {
          "output_type": "execute_result",
          "data": {
            "text/plain": [
              "     lesion_id      image_id   dx dx_type   age   sex localization\n",
              "0  HAM_0000118  ISIC_0027419  bkl   histo  80.0  male        scalp\n",
              "1  HAM_0000118  ISIC_0025030  bkl   histo  80.0  male        scalp\n",
              "2  HAM_0002730  ISIC_0026769  bkl   histo  80.0  male        scalp\n",
              "3  HAM_0002730  ISIC_0025661  bkl   histo  80.0  male        scalp\n",
              "4  HAM_0001466  ISIC_0031633  bkl   histo  75.0  male          ear"
            ],
            "text/html": [
              "\n",
              "  <div id=\"df-d8bb9974-6e21-4a46-9ca7-900db4a39770\">\n",
              "    <div class=\"colab-df-container\">\n",
              "      <div>\n",
              "<style scoped>\n",
              "    .dataframe tbody tr th:only-of-type {\n",
              "        vertical-align: middle;\n",
              "    }\n",
              "\n",
              "    .dataframe tbody tr th {\n",
              "        vertical-align: top;\n",
              "    }\n",
              "\n",
              "    .dataframe thead th {\n",
              "        text-align: right;\n",
              "    }\n",
              "</style>\n",
              "<table border=\"1\" class=\"dataframe\">\n",
              "  <thead>\n",
              "    <tr style=\"text-align: right;\">\n",
              "      <th></th>\n",
              "      <th>lesion_id</th>\n",
              "      <th>image_id</th>\n",
              "      <th>dx</th>\n",
              "      <th>dx_type</th>\n",
              "      <th>age</th>\n",
              "      <th>sex</th>\n",
              "      <th>localization</th>\n",
              "    </tr>\n",
              "  </thead>\n",
              "  <tbody>\n",
              "    <tr>\n",
              "      <th>0</th>\n",
              "      <td>HAM_0000118</td>\n",
              "      <td>ISIC_0027419</td>\n",
              "      <td>bkl</td>\n",
              "      <td>histo</td>\n",
              "      <td>80.0</td>\n",
              "      <td>male</td>\n",
              "      <td>scalp</td>\n",
              "    </tr>\n",
              "    <tr>\n",
              "      <th>1</th>\n",
              "      <td>HAM_0000118</td>\n",
              "      <td>ISIC_0025030</td>\n",
              "      <td>bkl</td>\n",
              "      <td>histo</td>\n",
              "      <td>80.0</td>\n",
              "      <td>male</td>\n",
              "      <td>scalp</td>\n",
              "    </tr>\n",
              "    <tr>\n",
              "      <th>2</th>\n",
              "      <td>HAM_0002730</td>\n",
              "      <td>ISIC_0026769</td>\n",
              "      <td>bkl</td>\n",
              "      <td>histo</td>\n",
              "      <td>80.0</td>\n",
              "      <td>male</td>\n",
              "      <td>scalp</td>\n",
              "    </tr>\n",
              "    <tr>\n",
              "      <th>3</th>\n",
              "      <td>HAM_0002730</td>\n",
              "      <td>ISIC_0025661</td>\n",
              "      <td>bkl</td>\n",
              "      <td>histo</td>\n",
              "      <td>80.0</td>\n",
              "      <td>male</td>\n",
              "      <td>scalp</td>\n",
              "    </tr>\n",
              "    <tr>\n",
              "      <th>4</th>\n",
              "      <td>HAM_0001466</td>\n",
              "      <td>ISIC_0031633</td>\n",
              "      <td>bkl</td>\n",
              "      <td>histo</td>\n",
              "      <td>75.0</td>\n",
              "      <td>male</td>\n",
              "      <td>ear</td>\n",
              "    </tr>\n",
              "  </tbody>\n",
              "</table>\n",
              "</div>\n",
              "      <button class=\"colab-df-convert\" onclick=\"convertToInteractive('df-d8bb9974-6e21-4a46-9ca7-900db4a39770')\"\n",
              "              title=\"Convert this dataframe to an interactive table.\"\n",
              "              style=\"display:none;\">\n",
              "        \n",
              "  <svg xmlns=\"http://www.w3.org/2000/svg\" height=\"24px\"viewBox=\"0 0 24 24\"\n",
              "       width=\"24px\">\n",
              "    <path d=\"M0 0h24v24H0V0z\" fill=\"none\"/>\n",
              "    <path d=\"M18.56 5.44l.94 2.06.94-2.06 2.06-.94-2.06-.94-.94-2.06-.94 2.06-2.06.94zm-11 1L8.5 8.5l.94-2.06 2.06-.94-2.06-.94L8.5 2.5l-.94 2.06-2.06.94zm10 10l.94 2.06.94-2.06 2.06-.94-2.06-.94-.94-2.06-.94 2.06-2.06.94z\"/><path d=\"M17.41 7.96l-1.37-1.37c-.4-.4-.92-.59-1.43-.59-.52 0-1.04.2-1.43.59L10.3 9.45l-7.72 7.72c-.78.78-.78 2.05 0 2.83L4 21.41c.39.39.9.59 1.41.59.51 0 1.02-.2 1.41-.59l7.78-7.78 2.81-2.81c.8-.78.8-2.07 0-2.86zM5.41 20L4 18.59l7.72-7.72 1.47 1.35L5.41 20z\"/>\n",
              "  </svg>\n",
              "      </button>\n",
              "      \n",
              "  <style>\n",
              "    .colab-df-container {\n",
              "      display:flex;\n",
              "      flex-wrap:wrap;\n",
              "      gap: 12px;\n",
              "    }\n",
              "\n",
              "    .colab-df-convert {\n",
              "      background-color: #E8F0FE;\n",
              "      border: none;\n",
              "      border-radius: 50%;\n",
              "      cursor: pointer;\n",
              "      display: none;\n",
              "      fill: #1967D2;\n",
              "      height: 32px;\n",
              "      padding: 0 0 0 0;\n",
              "      width: 32px;\n",
              "    }\n",
              "\n",
              "    .colab-df-convert:hover {\n",
              "      background-color: #E2EBFA;\n",
              "      box-shadow: 0px 1px 2px rgba(60, 64, 67, 0.3), 0px 1px 3px 1px rgba(60, 64, 67, 0.15);\n",
              "      fill: #174EA6;\n",
              "    }\n",
              "\n",
              "    [theme=dark] .colab-df-convert {\n",
              "      background-color: #3B4455;\n",
              "      fill: #D2E3FC;\n",
              "    }\n",
              "\n",
              "    [theme=dark] .colab-df-convert:hover {\n",
              "      background-color: #434B5C;\n",
              "      box-shadow: 0px 1px 3px 1px rgba(0, 0, 0, 0.15);\n",
              "      filter: drop-shadow(0px 1px 2px rgba(0, 0, 0, 0.3));\n",
              "      fill: #FFFFFF;\n",
              "    }\n",
              "  </style>\n",
              "\n",
              "      <script>\n",
              "        const buttonEl =\n",
              "          document.querySelector('#df-d8bb9974-6e21-4a46-9ca7-900db4a39770 button.colab-df-convert');\n",
              "        buttonEl.style.display =\n",
              "          google.colab.kernel.accessAllowed ? 'block' : 'none';\n",
              "\n",
              "        async function convertToInteractive(key) {\n",
              "          const element = document.querySelector('#df-d8bb9974-6e21-4a46-9ca7-900db4a39770');\n",
              "          const dataTable =\n",
              "            await google.colab.kernel.invokeFunction('convertToInteractive',\n",
              "                                                     [key], {});\n",
              "          if (!dataTable) return;\n",
              "\n",
              "          const docLinkHtml = 'Like what you see? Visit the ' +\n",
              "            '<a target=\"_blank\" href=https://colab.research.google.com/notebooks/data_table.ipynb>data table notebook</a>'\n",
              "            + ' to learn more about interactive tables.';\n",
              "          element.innerHTML = '';\n",
              "          dataTable['output_type'] = 'display_data';\n",
              "          await google.colab.output.renderOutput(dataTable, element);\n",
              "          const docLink = document.createElement('div');\n",
              "          docLink.innerHTML = docLinkHtml;\n",
              "          element.appendChild(docLink);\n",
              "        }\n",
              "      </script>\n",
              "    </div>\n",
              "  </div>\n",
              "  "
            ]
          },
          "metadata": {},
          "execution_count": 5
        }
      ],
      "source": [
        "metadata=pd.read_csv(metadata_path)\n",
        "metadata.head()"
      ]
    },
    {
      "cell_type": "markdown",
      "metadata": {
        "id": "HgDV7Lt7Vi6P"
      },
      "source": [
        "# **STEP 3: DATA VISUALIZATION**\n",
        "\n",
        "Once we have Loaded the Dataset, we can proceed to do the first that we always have to do with a Dataset: study it and understanding it deeply.\n",
        "\n",
        "We know that **HAM10000** is composed of 10015 dermatoscopic images. Those images, are categorized among the most widespreaded skin lesions (each having a certain pre-defined label and a certain \"nickname\":\n",
        "- **akiec:** This has label **0** in the dataset and it stands for \"Actinic Keratoses and Intraepithelial Carcinoma\" (a.k.a. Bowen's disease). \n",
        "- **bcc:** This has label **1** in the dataset and it stands for \"Basal Cell Carcinoma\". \n",
        "- **bkl:** This has label **2** in the dataset and it stands for \"Benign Keratosis-Like Lesions\", and groups solar lentigines, seborrheic keratoses and lichen-planus like keratoses.\n",
        "- **df:** This has label **3** in the dataset and it stands for \"Dermatofibroma\". \n",
        "- **nv:** This has label **4** in the dataset and it stands for \"Melanocytic Nevi\".\n",
        "- **vasc:** This has label **5** in the dataset and it stands for \"Vascular Lesions\", and groups(angiomas, angiokeratomas, pyogenic granulomas and hemorrhage).\n",
        "- **mel:** This has label **6** in the dataset and it stands for \"Melanoma\".\n",
        "\n"
      ]
    },
    {
      "cell_type": "markdown",
      "metadata": {
        "id": "N7yJGkvmWUt7"
      },
      "source": [
        "## **STEP 3.1: DISEASE CLASS DISTRIBUTION IN THE DATASET**\n",
        "\n",
        "Since we know that HAM10000 is classified depending on **7** classes/typologies, we can inspect the **Class Distribution in the Dataset**, in such a way to see whether one is predominant onto others. We simply proceed to build up a simple **Plot: NumberOfSamples VS ClassDisease**.\n",
        "\n",
        "In the plot below, as result, we will see that there is one particular **Class Disease** that is **more present** than the others (the \"nv\" (melanocytic nevi) class). This, of course, it is not a big deal, and it is due to the fact that this class of Skin Disease, is the most widespreaded in the world. However, it brings a lot of **Class Imbalance** in our dataset, due to the fact that it is, by its own, almost the **65%** of the **whole Dataset**. \n",
        "\n",
        "Therefore, this journey, has highlighted one thing that we should do in such a way to have a good result: **[Dataset Balancing](https://colab.research.google.com/drive/10CKC3qk3IbKTG34fygWmnzgDfLFuvceH#scrollTo=QWd6H5Xyaujg&line=1&uniqifier=1)**."
      ]
    },
    {
      "cell_type": "code",
      "execution_count": 6,
      "metadata": {
        "colab": {
          "base_uri": "https://localhost:8080/",
          "height": 54
        },
        "id": "aQN8PIoKWGqO",
        "outputId": "a72e06dc-ad29-40f7-ffe1-72b65144cd21"
      },
      "outputs": [
        {
          "output_type": "display_data",
          "data": {
            "text/plain": [
              "<Figure size 1440x720 with 1 Axes>"
            ],
            "image/png": "[encoded data removed]"
          },
          "metadata": {
            "needs_background": "light"
          }
        }
      ],
      "source": [
        "bar, ax = plt.subplots(figsize=(20, 10))\n",
        "sns.countplot(x = 'dx', data = metadata)\n",
        "plt.title('Disease Class Distribution in the Dataset', size=25)\n",
        "plt.xlabel('ClassDisease', size=15)\n",
        "plt.ylabel('NumberOfSamples', size=15)\n",
        "plt.show()"
      ]
    },
    {
      "cell_type": "markdown",
      "metadata": {
        "id": "HmcQFTjCiRuV"
      },
      "source": [
        "## **STEP 3.2: DISEASE LOCALIZATION**\n",
        "\n",
        "In order for better undestanding the Dataset, we can also view the different typologies of **Disease Localization**. This will not be a very important feature for us, but we have a look at it.\n",
        "\n",
        "We can see that the face, back and lower extremity, are the most predominant samples in the Dataset."
      ]
    },
    {
      "cell_type": "code",
      "execution_count": 7,
      "metadata": {
        "colab": {
          "base_uri": "https://localhost:8080/",
          "height": 54
        },
        "id": "lN_kWKH5en9o",
        "outputId": "a5cac188-da2c-4771-d801-60c82528ab97"
      },
      "outputs": [
        {
          "output_type": "display_data",
          "data": {
            "text/plain": [
              "<Figure size 2160x720 with 1 Axes>"
            ],
            "image/png": "[encoded data removed]"
          },
          "metadata": {
            "needs_background": "light"
          }
        }
      ],
      "source": [
        "bar, ax = plt.subplots(figsize=(30, 10))\n",
        "sns.histplot(metadata['localization'], color='orange')\n",
        "plt.title('Disease Localization', size=25)\n",
        "plt.xlabel('LocalizationDisease', size=15)\n",
        "plt.ylabel('NumberOfSamples', size=15)\n",
        "plt.show()"
      ]
    },
    {
      "cell_type": "markdown",
      "metadata": {
        "id": "e8riReaNWdkV"
      },
      "source": [
        "## **STEP 3.3: PATIENTS AGE**\n",
        "\n",
        "In order for better undestanding the Dataset, we can also view the **Patients Age Distribution**. This will not be a very important feature for us, but we have a look at it.\n",
        "\n",
        "We can observe a **Left-Skewed Gaussian Distribution**(i.e., it presents Negative Skewness)."
      ]
    },
    {
      "cell_type": "code",
      "execution_count": 8,
      "metadata": {
        "colab": {
          "base_uri": "https://localhost:8080/",
          "height": 54
        },
        "id": "yYu1okJSWjEs",
        "outputId": "9fc34969-d87f-4682-ed17-816e7598053a"
      },
      "outputs": [
        {
          "output_type": "display_data",
          "data": {
            "text/plain": [
              "<Figure size 1440x576 with 1 Axes>"
            ],
            "image/png": "[encoded data removed]"
          },
          "metadata": {
            "needs_background": "light"
          }
        }
      ],
      "source": [
        "disease_location = metadata['age'].value_counts()\n",
        "plt.figure(figsize=(20, 8))\n",
        "sns.countplot(x='age', data=metadata)\n",
        "plt.title('Patients Age', size=25)\n",
        "plt.xlabel('Age', size=15)\n",
        "plt.ylabel('NumberOfSamples', size=15)\n",
        "plt.show()"
      ]
    },
    {
      "cell_type": "markdown",
      "metadata": {
        "id": "jAy6m_bAWhjT"
      },
      "source": [
        "The plot above clearly indicates the are group that is mostly affected by skin cancer, which is that of ages between 40 and 48."
      ]
    },
    {
      "cell_type": "markdown",
      "metadata": {
        "id": "QgB2boWiW2dC"
      },
      "source": [
        "## **STEP 3.4: SKIN-LESION VERIFICATION**\n",
        "\n",
        "In order for better undestanding the Dataset, we can also view the **Skin Lesion Verification** typology. This will not be a very important feature for us, but we have a look at it.\n",
        "\n",
        "We can observe also here, a very unbalanced histogram, that is towards the histologycal and follow-up methodology.\n"
      ]
    },
    {
      "cell_type": "code",
      "execution_count": 9,
      "metadata": {
        "colab": {
          "base_uri": "https://localhost:8080/",
          "height": 54
        },
        "id": "nKSNIC2RW5XO",
        "outputId": "52cf74e0-5ee6-40bd-b2dd-2549a2f93dc9"
      },
      "outputs": [
        {
          "output_type": "display_data",
          "data": {
            "text/plain": [
              "<Figure size 1440x576 with 1 Axes>"
            ],
            "image/png": "[encoded data removed]"
          },
          "metadata": {
            "needs_background": "light"
          }
        }
      ],
      "source": [
        "disease_location = metadata['dx_type'].value_counts()\n",
        "plt.figure(figsize=(20, 8))\n",
        "sns.countplot(x='dx_type', data=metadata)\n",
        "plt.title('Skin Lesion Verification', size=25)\n",
        "plt.xlabel('VerificationMethodology', size=15)\n",
        "plt.ylabel('NumberOfSamples', size=15)\n",
        "plt.show()"
      ]
    },
    {
      "cell_type": "markdown",
      "metadata": {
        "id": "xop-M6jkW-6u"
      },
      "source": [
        "By fat the most frequent locations of the body that skin cancer appeared was the back and the lower extermity, followed by the trunk, upper extermity and the abdomen."
      ]
    },
    {
      "cell_type": "markdown",
      "metadata": {
        "id": "b8-7mTrvXCub"
      },
      "source": [
        "## **STEP 3.5: PATIENTS GENDER**\n",
        "\n",
        "In order for better undestanding the Dataset, we can also view the **Skin Lesion Verification** typology. This will not be a very important feature for us, but we have a look at it.\n",
        "\n",
        "We can observe here, instead, a very balanced histogram, that almost resembles the **Uniform Distribution**.\n"
      ]
    },
    {
      "cell_type": "code",
      "execution_count": 10,
      "metadata": {
        "colab": {
          "base_uri": "https://localhost:8080/",
          "height": 54
        },
        "id": "uRuJTPJHXGcf",
        "outputId": "a318ab01-eb12-4468-dbce-54029a1c693c"
      },
      "outputs": [
        {
          "output_type": "display_data",
          "data": {
            "text/plain": [
              "<Figure size 1440x720 with 1 Axes>"
            ],
            "image/png": "[encoded data removed]"
          },
          "metadata": {
            "needs_background": "light"
          }
        }
      ],
      "source": [
        "bar, ax = plt.subplots(figsize=(20, 10))\n",
        "sns.countplot(x = 'sex', data = metadata)\n",
        "plt.title('Patients Gender', size=25)\n",
        "plt.xlabel('Sex', size=15)\n",
        "plt.ylabel('NumberOfSamples', size=15)\n",
        "plt.show()"
      ]
    },
    {
      "cell_type": "markdown",
      "metadata": {
        "id": "-r34Rf62XHhP"
      },
      "source": [
        "In terms of the gender of patients that are most affected I have found that males are slightly more affected."
      ]
    },
    {
      "cell_type": "markdown",
      "metadata": {
        "id": "Y4Cw9UFa1rsr"
      },
      "source": [
        "# **STEP 4: DATASET TRAIN-TEST SPLIT**\n",
        "\n",
        "Once we have done with the Dataset Deepening, we are ready to build our models.\n",
        "\n",
        "\n",
        "\n"
      ]
    },
    {
      "cell_type": "markdown",
      "metadata": {
        "id": "1-M0MzDUsFAG"
      },
      "source": [
        "## **STEP 4.1: DATASET CLASSES DECLARATION**\n",
        "\n",
        "First of all, let's define the **Classes** that we have previously mentioned, in such a way to have them saved as a Dictionary. This will be useful for the last **Multiclassification**.\n",
        "\n"
      ]
    },
    {
      "cell_type": "code",
      "execution_count": 11,
      "metadata": {
        "id": "zGy--_iqtERk"
      },
      "outputs": [],
      "source": [
        "# Creation of a Dictionary for sotring the classes of Disease\n",
        "classes={ 0:('akiec', 'Actinic Keratoses and Intraepithelial Carcinomae'), \n",
        "          1:('bcc' , 'basal cell carcinoma'), \n",
        "          2:('bkl', 'benign keratosis-like lesions'),\n",
        "          3:('df', 'dermatofibroma'),\n",
        "          4:('nv', ' melanocytic nevi'),\n",
        "          5:('vasc', ' pyogenic granulomas and hemorrhage'),\n",
        "          6:('mel', 'melanoma')}\n",
        "\n",
        "# Declaration of the 80-20 Split.\n",
        "fractions = np.array([0.8,0.2])"
      ]
    },
    {
      "cell_type": "markdown",
      "metadata": {
        "id": "xpM2yILus6qX"
      },
      "source": [
        "## **STEP 4.2: TRAIN-TEST SPLIT**\n",
        "\n",
        "In order to do this, we proceed to **Split** the **Dataset** in two parts **Training** and **Testing** parts, following the **80-20% Rule**.\n",
        "\n",
        "This resulting split, will divide the Dataset in two parts, the first (Training), will have **8012** elements, the second one (Testing), will have **2003** elements."
      ]
    },
    {
      "cell_type": "code",
      "execution_count": 12,
      "metadata": {
        "id": "iILXCW2hsoDl"
      },
      "outputs": [],
      "source": [
        "# Generating a sample random row or column from the function caller dataFrame. (Shortcut for copying it).\n",
        "dataset1 = dataset.sample(frac=1)\n",
        "len_dataset1 = len(dataset1)\n",
        "\n",
        "# Actual Train-Test Split.\n",
        "train_set, test_set = np.array_split(dataset1, (fractions[:-1].cumsum() * len_dataset1).astype(int))\n",
        "len_train_set, len_test_set = len(train_set), len(test_set) \n",
        "\n",
        "# Data-Label Split.\n",
        "y_train = train_set['label']\n",
        "x_train=train_set.drop(columns=['label'])\n",
        "y_test=test_set['label']\n",
        "x_test=test_set.drop(columns=['label'])\n",
        "columns=list(x_train)"
      ]
    },
    {
      "cell_type": "markdown",
      "metadata": {
        "id": "5i_16okiu1Rf"
      },
      "source": [
        "# **STEP 5: DATASET BALANCING**\n",
        "\n",
        "It's now time to face the problem we have found in the previous section: **Class Imbalance**. This problem, usually reflects an unequal distribution of classes within a dataset. For example, in our Dataset, most of the samples are from one class(65% of all the samples) and a very few classes are from the others (35% of all samples). \n",
        "\n",
        "This leaves us with something like about 11:1 ratio between the **nv** class and the others. \n",
        "\n",
        "This problem, can be solved in two different manner:\n",
        "- **UnderSampling:** It is the process where you randomly delete some of the observations from the majority class in order to match the numbers with the minority class. \n",
        "- **OverSampling:** This second resampling technique is a little more complicated than undersampling. It is the process of generating synthetic data that tries to randomly generate a sample of the attributes from observations in the minority class. There are a number of methods used to oversample a dataset for a typical classification problem. \n",
        "\n",
        "For facing this problem, we opted for the second technique, **OverSampling**, using the **ResampleFromTheDataset** strategy. This will simply resample the \"remaining\" samples, up until it has not filled the Gap.\n",
        "\n",
        "From the **result** of the plot, we can observe that we have now reached a **Uniform Distribution** in the Dataset among all the classes."
      ]
    },
    {
      "cell_type": "code",
      "execution_count": 13,
      "metadata": {
        "colab": {
          "base_uri": "https://localhost:8080/",
          "height": 54
        },
        "id": "CKIlAJY9pwh1",
        "outputId": "12f6b547-76c1-4632-842a-b71a45ed4a85"
      },
      "outputs": [
        {
          "output_type": "display_data",
          "data": {
            "text/plain": [
              "<Figure size 1440x720 with 1 Axes>"
            ],
            "image/png": "[encoded data removed]"
          },
          "metadata": {
            "needs_background": "light"
          }
        }
      ],
      "source": [
        "# Declaration of the RandomOverSampler and fitting it.\n",
        "# oversample = RandomOverSampler()\n",
        "# x_train,y_train  = oversample.fit_resample(x_train,y_train)\n",
        "# sns.countplot(y_train)\n",
        "\n",
        "sm = SMOTE(random_state = 42)\n",
        "x_train, y_train = sm.fit_resample(x_train, y_train)\n",
        "\n",
        "# Replotting the dataset, after the SMOTE sampling.\n",
        "bar, ax = plt.subplots(figsize=(20, 10))\n",
        "sns.countplot(x = y_train)\n",
        "plt.title('Disease Class Distribution in the Dataset', size=25)\n",
        "plt.xlabel('ClassDisease', size=15)\n",
        "plt.ylabel('NumberOfSamples', size=15)\n",
        "plt.show()"
      ]
    },
    {
      "cell_type": "markdown",
      "metadata": {
        "id": "QWd6H5Xyaujg"
      },
      "source": [
        "# **STEP 6: IMAGE VISUALIZATION**\n",
        "\n",
        "We can now proceed to have a more in depth **look** at the actual **Image**. We can therefore random sample some image, reshape it, and visualize it."
      ]
    },
    {
      "cell_type": "code",
      "execution_count": 14,
      "metadata": {
        "colab": {
          "base_uri": "https://localhost:8080/",
          "height": 54
        },
        "id": "4ol6spd7a0tg",
        "outputId": "36b2da90-1aab-4ee6-8256-9ce0cf8f7fb3"
      },
      "outputs": [
        {
          "output_type": "display_data",
          "data": {
            "text/plain": [
              "<Figure size 432x288 with 1 Axes>"
            ],
            "image/png": "[encoded data removed]"
          },
          "metadata": {
            "needs_background": "light"
          }
        }
      ],
      "source": [
        "# Take one number from 0 to 10000.\n",
        "n = random.randint(0,10000)\n",
        "\n",
        "# Reshape it.\n",
        "x_train_4d=np.array(x_train, dtype=np.uint8).reshape(-1,28,28,3)\n",
        "\n",
        "# Plotting it.\n",
        "plt.title(\"Random Image\")\n",
        "plt.imshow(x_train_4d[n].reshape(28,28,3))\n",
        "plt.show()\n"
      ]
    },
    {
      "cell_type": "markdown",
      "metadata": {
        "id": "MQlw_baKxPQw"
      },
      "source": [
        "# **STEP 7: CNN MODEL**\n",
        "\n",
        "Our first **Model** for solving our **SkinMe Project** is to use a **CNN**(Convolutional Neural Network) that will solve our issue to determine what typology of skin lesion we have.\n"
      ]
    },
    {
      "cell_type": "markdown",
      "metadata": {
        "id": "g-uqnDYTcDX5"
      },
      "source": [
        "## **STEP 7.1: MODEL BUILDING**\n",
        "\n",
        "In order to **Build the Model**, we will make use of the following schema:\n",
        "- Conv2D\n",
        "- MaxPool2D\n",
        "- BatchNormalization\n",
        "- Conv2D\n",
        "- Conv2D\n",
        "- MaxPool2D\n",
        "- BatchNormalization\n",
        "- Conv2D\n",
        "- Flatten\n",
        "- ...\n",
        "\n",
        "Note that in the **Dense Layers** we have made use of a very recent **Activation Function**, **MISH**, that has surclassed **ReLu** in our Project with way better results. The **Last Layer** is, of course, a **Softmax** that will return us the class with the highest probability. At the end, we see that we are working with about **500K Parameters**.\n",
        "\n",
        "Once, we have set the CNN, we load the wieghts, that will be used in such a way to not restart from zero at each time we restart the training. We can then compute the Loss using the **Sparse Categorical Cross Entropy**, and the **Adam Optimizer**.\n",
        "\n"
      ]
    },
    {
      "cell_type": "code",
      "execution_count": 15,
      "metadata": {
        "colab": {
          "base_uri": "https://localhost:8080/"
        },
        "id": "Vsll2hd2wzuS",
        "outputId": "1f2b5d70-41c3-4fb8-cdd1-b35938988fbd"
      },
      "outputs": [
        {
          "output_type": "stream",
          "name": "stdout",
          "text": [
            "Model: \"sequential\"\n",
            "_________________________________________________________________\n",
            " Layer (type)                Output Shape              Param #   \n",
            "=================================================================\n",
            " conv2d (Conv2D)             (None, 28, 28, 16)        448       \n",
            "                                                                 \n",
            " max_pooling2d (MaxPooling2D  (None, 14, 14, 16)       0         \n",
            " )                                                               \n",
            "                                                                 \n",
            " batch_normalization (BatchN  (None, 14, 14, 16)       64        \n",
            " ormalization)                                                   \n",
            "                                                                 \n",
            " conv2d_1 (Conv2D)           (None, 12, 12, 32)        4640      \n",
            "                                                                 \n",
            " conv2d_2 (Conv2D)           (None, 10, 10, 64)        18496     \n",
            "                                                                 \n",
            " max_pooling2d_1 (MaxPooling  (None, 5, 5, 64)         0         \n",
            " 2D)                                                             \n",
            "                                                                 \n",
            " batch_normalization_1 (Batc  (None, 5, 5, 64)         256       \n",
            " hNormalization)                                                 \n",
            "                                                                 \n",
            " conv2d_3 (Conv2D)           (None, 3, 3, 128)         73856     \n",
            "                                                                 \n",
            " conv2d_4 (Conv2D)           (None, 1, 1, 256)         295168    \n",
            "                                                                 \n",
            " flatten (Flatten)           (None, 256)               0         \n",
            "                                                                 \n",
            " dropout (Dropout)           (None, 256)               0         \n",
            "                                                                 \n",
            " dense (Dense)               (None, 256)               65792     \n",
            "                                                                 \n",
            " batch_normalization_2 (Batc  (None, 256)              1024      \n",
            " hNormalization)                                                 \n",
            "                                                                 \n",
            " dropout_1 (Dropout)         (None, 256)               0         \n",
            "                                                                 \n",
            " dense_1 (Dense)             (None, 128)               32896     \n",
            "                                                                 \n",
            " batch_normalization_3 (Batc  (None, 128)              512       \n",
            " hNormalization)                                                 \n",
            "                                                                 \n",
            " dense_2 (Dense)             (None, 64)                8256      \n",
            "                                                                 \n",
            " batch_normalization_4 (Batc  (None, 64)               256       \n",
            " hNormalization)                                                 \n",
            "                                                                 \n",
            " dropout_2 (Dropout)         (None, 64)                0         \n",
            "                                                                 \n",
            " dense_3 (Dense)             (None, 32)                2080      \n",
            "                                                                 \n",
            " batch_normalization_5 (Batc  (None, 32)               128       \n",
            " hNormalization)                                                 \n",
            "                                                                 \n",
            " dense_4 (Dense)             (None, 7)                 231       \n",
            "                                                                 \n",
            "=================================================================\n",
            "Total params: 504,103\n",
            "Trainable params: 502,983\n",
            "Non-trainable params: 1,120\n",
            "_________________________________________________________________\n"
          ]
        }
      ],
      "source": [
        "# Definition of the MISH function.\n",
        "def mish(inputs):\n",
        "    x = tf.nn.softplus(inputs)\n",
        "    x = tf.nn.tanh(x)\n",
        "    x = tf.multiply(x, inputs)\n",
        "    return x\n",
        "\n",
        "# Let's create the Model.\n",
        "CNN_Model = Sequential()\n",
        "CNN_Model.add(Conv2D(16, kernel_size = (3,3), input_shape = (28, 28, 3), activation = 'relu', padding = 'same'))\n",
        "CNN_Model.add(MaxPool2D(pool_size = (2,2)))\n",
        "CNN_Model.add(tf.keras.layers.BatchNormalization())\n",
        "CNN_Model.add(Conv2D(32, kernel_size = (3,3), activation = 'relu'))\n",
        "CNN_Model.add(Conv2D(64, kernel_size = (3,3), activation = 'relu'))\n",
        "CNN_Model.add(MaxPool2D(pool_size = (2,2)))\n",
        "CNN_Model.add(tf.keras.layers.BatchNormalization())\n",
        "CNN_Model.add(Conv2D(128, kernel_size = (3,3), activation = 'relu'))\n",
        "CNN_Model.add(Conv2D(256, kernel_size = (3,3), activation = 'relu'))\n",
        "CNN_Model.add(Flatten())\n",
        "CNN_Model.add(tf.keras.layers.Dropout(0.2))\n",
        "CNN_Model.add(Dense(256,activation=mish))\n",
        "CNN_Model.add(tf.keras.layers.BatchNormalization())\n",
        "CNN_Model.add(tf.keras.layers.Dropout(0.2))\n",
        "CNN_Model.add(Dense(128,activation=mish))\n",
        "CNN_Model.add(tf.keras.layers.BatchNormalization())\n",
        "CNN_Model.add(Dense(64,activation=mish))\n",
        "CNN_Model.add(tf.keras.layers.BatchNormalization())\n",
        "CNN_Model.add(tf.keras.layers.Dropout(0.2))\n",
        "CNN_Model.add(Dense(32,activation=mish))\n",
        "CNN_Model.add(tf.keras.layers.BatchNormalization())\n",
        "CNN_Model.add(Dense(7,activation='softmax'))\n",
        "\n",
        "# Let's print out the result of the CNN.\n",
        "CNN_Model.summary()\n",
        "\n",
        "# Take the weights from the pre-trained versions.\n",
        "callback = tf.keras.callbacks.ModelCheckpoint(filepath='drive/MyDrive/SkinMeProject/dataset/hmnist_28_28_RGB.csv/CNN_weights.h5', monitor='val_acc', mode='max', verbose=1, save_best_only=True)\n",
        "\n",
        "# Let's Compile the CNN_Model by applying the SparseCategoricalCrossEntropy and Adam Optimizer.\n",
        "CNN_Model.compile(loss = 'sparse_categorical_crossentropy', optimizer = tf.keras.optimizers.Adam(lr=0.001), metrics = ['accuracy'])"
      ]
    },
    {
      "cell_type": "markdown",
      "metadata": {
        "id": "XXveDlVpu1Rv"
      },
      "source": [
        "## **7.2 - MODEL FITTING**\n",
        "\n",
        "Once we have built the model, we can procede to **fit** the **Model** and start therefore the actual Training. We can proceed with a batch-size of 128, and 100 epochs, using also the previous weights.\n",
        "\n",
        "Once we have done this, also load the weights to the CNN_weights file."
      ]
    },
    {
      "cell_type": "code",
      "execution_count": 16,
      "metadata": {
        "colab": {
          "base_uri": "https://localhost:8080/"
        },
        "id": "1XgBEIh5hY63",
        "outputId": "2ce4276b-8e1d-4aa0-a8d7-924e7acb8eaa"
      },
      "outputs": [
        {
          "output_type": "stream",
          "name": "stdout",
          "text": [
            "Epoch 1/100\n",
            "235/235 [==============================] - ETA: 0s - loss: 0.8270 - accuracy: 0.7155"
          ]
        },
        {
          "output_type": "stream",
          "name": "stderr",
          "text": [
            "WARNING:tensorflow:Can save best model only with val_acc available, skipping.\n"
          ]
        },
        {
          "output_type": "stream",
          "name": "stdout",
          "text": [
            "\b\b\b\b\b\b\b\b\b\b\b\b\b\b\b\b\b\b\b\b\b\b\b\b\b\b\b\b\b\b\b\b\b\b\b\b\b\b\b\b\b\b\b\b\b\b\b\b\b\b\b\b\b\b\b\b\b\b\b\b\b\b\b\b\b\b\b\b\b\b\b\b\b\b\b\b\b\b\b\b\b\b\b\b\r235/235 [==============================] - 13s 12ms/step - loss: 0.8270 - accuracy: 0.7155 - val_loss: 1.9930 - val_accuracy: 0.2864\n",
            "Epoch 2/100\n",
            "232/235 [============================>.] - ETA: 0s - loss: 0.3407 - accuracy: 0.8843"
          ]
        },
        {
          "output_type": "stream",
          "name": "stderr",
          "text": [
            "WARNING:tensorflow:Can save best model only with val_acc available, skipping.\n"
          ]
        },
        {
          "output_type": "stream",
          "name": "stdout",
          "text": [
            "\b\b\b\b\b\b\b\b\b\b\b\b\b\b\b\b\b\b\b\b\b\b\b\b\b\b\b\b\b\b\b\b\b\b\b\b\b\b\b\b\b\b\b\b\b\b\b\b\b\b\b\b\b\b\b\b\b\b\b\b\b\b\b\b\b\b\b\b\b\b\b\b\b\b\b\b\b\b\b\b\b\b\b\b\r235/235 [==============================] - 2s 10ms/step - loss: 0.3407 - accuracy: 0.8842 - val_loss: 1.2328 - val_accuracy: 0.3874\n",
            "Epoch 3/100\n",
            "234/235 [============================>.] - ETA: 0s - loss: 0.2327 - accuracy: 0.9170"
          ]
        },
        {
          "output_type": "stream",
          "name": "stderr",
          "text": [
            "WARNING:tensorflow:Can save best model only with val_acc available, skipping.\n"
          ]
        },
        {
          "output_type": "stream",
          "name": "stdout",
          "text": [
            "\b\b\b\b\b\b\b\b\b\b\b\b\b\b\b\b\b\b\b\b\b\b\b\b\b\b\b\b\b\b\b\b\b\b\b\b\b\b\b\b\b\b\b\b\b\b\b\b\b\b\b\b\b\b\b\b\b\b\b\b\b\b\b\b\b\b\b\b\b\b\b\b\b\b\b\b\b\b\b\b\b\b\b\b\r235/235 [==============================] - 3s 15ms/step - loss: 0.2325 - accuracy: 0.9170 - val_loss: 1.1612 - val_accuracy: 0.4008\n",
            "Epoch 4/100\n",
            "230/235 [============================>.] - ETA: 0s - loss: 0.1817 - accuracy: 0.9352"
          ]
        },
        {
          "output_type": "stream",
          "name": "stderr",
          "text": [
            "WARNING:tensorflow:Can save best model only with val_acc available, skipping.\n"
          ]
        },
        {
          "output_type": "stream",
          "name": "stdout",
          "text": [
            "\b\b\b\b\b\b\b\b\b\b\b\b\b\b\b\b\b\b\b\b\b\b\b\b\b\b\b\b\b\b\b\b\b\b\b\b\b\b\b\b\b\b\b\b\b\b\b\b\b\b\b\b\b\b\b\b\b\b\b\b\b\b\b\b\b\b\b\b\b\b\b\b\b\b\b\b\b\b\b\b\b\b\b\b\r235/235 [==============================] - 3s 12ms/step - loss: 0.1818 - accuracy: 0.9352 - val_loss: 1.6422 - val_accuracy: 0.4542\n",
            "Epoch 5/100\n",
            "229/235 [============================>.] - ETA: 0s - loss: 0.1585 - accuracy: 0.9447"
          ]
        },
        {
          "output_type": "stream",
          "name": "stderr",
          "text": [
            "WARNING:tensorflow:Can save best model only with val_acc available, skipping.\n"
          ]
        },
        {
          "output_type": "stream",
          "name": "stdout",
          "text": [
            "\b\b\b\b\b\b\b\b\b\b\b\b\b\b\b\b\b\b\b\b\b\b\b\b\b\b\b\b\b\b\b\b\b\b\b\b\b\b\b\b\b\b\b\b\b\b\b\b\b\b\b\b\b\b\b\b\b\b\b\b\b\b\b\b\b\b\b\b\b\b\b\b\b\b\b\b\b\b\b\b\b\b\b\b\r235/235 [==============================] - 2s 9ms/step - loss: 0.1579 - accuracy: 0.9450 - val_loss: 1.1492 - val_accuracy: 0.5614\n",
            "Epoch 6/100\n",
            "233/235 [============================>.] - ETA: 0s - loss: 0.1416 - accuracy: 0.9499"
          ]
        },
        {
          "output_type": "stream",
          "name": "stderr",
          "text": [
            "WARNING:tensorflow:Can save best model only with val_acc available, skipping.\n"
          ]
        },
        {
          "output_type": "stream",
          "name": "stdout",
          "text": [
            "\b\b\b\b\b\b\b\b\b\b\b\b\b\b\b\b\b\b\b\b\b\b\b\b\b\b\b\b\b\b\b\b\b\b\b\b\b\b\b\b\b\b\b\b\b\b\b\b\b\b\b\b\b\b\b\b\b\b\b\b\b\b\b\b\b\b\b\b\b\b\b\b\b\b\b\b\b\b\b\b\b\b\b\b\r235/235 [==============================] - 2s 9ms/step - loss: 0.1415 - accuracy: 0.9499 - val_loss: 0.8495 - val_accuracy: 0.6134\n",
            "Epoch 7/100\n",
            "229/235 [============================>.] - ETA: 0s - loss: 0.1125 - accuracy: 0.9591"
          ]
        },
        {
          "output_type": "stream",
          "name": "stderr",
          "text": [
            "WARNING:tensorflow:Can save best model only with val_acc available, skipping.\n"
          ]
        },
        {
          "output_type": "stream",
          "name": "stdout",
          "text": [
            "\b\b\b\b\b\b\b\b\b\b\b\b\b\b\b\b\b\b\b\b\b\b\b\b\b\b\b\b\b\b\b\b\b\b\b\b\b\b\b\b\b\b\b\b\b\b\b\b\b\b\b\b\b\b\b\b\b\b\b\b\b\b\b\b\b\b\b\b\b\b\b\b\b\b\b\b\b\b\b\b\b\b\b\b\r235/235 [==============================] - 2s 9ms/step - loss: 0.1122 - accuracy: 0.9591 - val_loss: 1.2000 - val_accuracy: 0.5095\n",
            "Epoch 8/100\n",
            "233/235 [============================>.] - ETA: 0s - loss: 0.1122 - accuracy: 0.9597"
          ]
        },
        {
          "output_type": "stream",
          "name": "stderr",
          "text": [
            "WARNING:tensorflow:Can save best model only with val_acc available, skipping.\n"
          ]
        },
        {
          "output_type": "stream",
          "name": "stdout",
          "text": [
            "\b\b\b\b\b\b\b\b\b\b\b\b\b\b\b\b\b\b\b\b\b\b\b\b\b\b\b\b\b\b\b\b\b\b\b\b\b\b\b\b\b\b\b\b\b\b\b\b\b\b\b\b\b\b\b\b\b\b\b\b\b\b\b\b\b\b\b\b\b\b\b\b\b\b\b\b\b\b\b\b\b\b\b\b\r235/235 [==============================] - 2s 9ms/step - loss: 0.1118 - accuracy: 0.9598 - val_loss: 1.4409 - val_accuracy: 0.4361\n",
            "Epoch 9/100\n",
            "234/235 [============================>.] - ETA: 0s - loss: 0.0832 - accuracy: 0.9693"
          ]
        },
        {
          "output_type": "stream",
          "name": "stderr",
          "text": [
            "WARNING:tensorflow:Can save best model only with val_acc available, skipping.\n"
          ]
        },
        {
          "output_type": "stream",
          "name": "stdout",
          "text": [
            "\b\b\b\b\b\b\b\b\b\b\b\b\b\b\b\b\b\b\b\b\b\b\b\b\b\b\b\b\b\b\b\b\b\b\b\b\b\b\b\b\b\b\b\b\b\b\b\b\b\b\b\b\b\b\b\b\b\b\b\b\b\b\b\b\b\b\b\b\b\b\b\b\b\b\b\b\b\b\b\b\b\b\b\b\r235/235 [==============================] - 2s 9ms/step - loss: 0.0832 - accuracy: 0.9692 - val_loss: 1.3856 - val_accuracy: 0.5245\n",
            "Epoch 10/100\n",
            "229/235 [============================>.] - ETA: 0s - loss: 0.0843 - accuracy: 0.9692"
          ]
        },
        {
          "output_type": "stream",
          "name": "stderr",
          "text": [
            "WARNING:tensorflow:Can save best model only with val_acc available, skipping.\n"
          ]
        },
        {
          "output_type": "stream",
          "name": "stdout",
          "text": [
            "\b\b\b\b\b\b\b\b\b\b\b\b\b\b\b\b\b\b\b\b\b\b\b\b\b\b\b\b\b\b\b\b\b\b\b\b\b\b\b\b\b\b\b\b\b\b\b\b\b\b\b\b\b\b\b\b\b\b\b\b\b\b\b\b\b\b\b\b\b\b\b\b\b\b\b\b\b\b\b\b\b\b\b\b\r235/235 [==============================] - 2s 9ms/step - loss: 0.0843 - accuracy: 0.9693 - val_loss: 1.6139 - val_accuracy: 0.4619\n",
            "Epoch 11/100\n",
            "231/235 [============================>.] - ETA: 0s - loss: 0.0821 - accuracy: 0.9707"
          ]
        },
        {
          "output_type": "stream",
          "name": "stderr",
          "text": [
            "WARNING:tensorflow:Can save best model only with val_acc available, skipping.\n"
          ]
        },
        {
          "output_type": "stream",
          "name": "stdout",
          "text": [
            "\b\b\b\b\b\b\b\b\b\b\b\b\b\b\b\b\b\b\b\b\b\b\b\b\b\b\b\b\b\b\b\b\b\b\b\b\b\b\b\b\b\b\b\b\b\b\b\b\b\b\b\b\b\b\b\b\b\b\b\b\b\b\b\b\b\b\b\b\b\b\b\b\b\b\b\b\b\b\b\b\b\b\b\b\r235/235 [==============================] - 2s 9ms/step - loss: 0.0822 - accuracy: 0.9707 - val_loss: 0.7151 - val_accuracy: 0.6852\n",
            "Epoch 12/100\n",
            "233/235 [============================>.] - ETA: 0s - loss: 0.0676 - accuracy: 0.9761"
          ]
        },
        {
          "output_type": "stream",
          "name": "stderr",
          "text": [
            "WARNING:tensorflow:Can save best model only with val_acc available, skipping.\n"
          ]
        },
        {
          "output_type": "stream",
          "name": "stdout",
          "text": [
            "\b\b\b\b\b\b\b\b\b\b\b\b\b\b\b\b\b\b\b\b\b\b\b\b\b\b\b\b\b\b\b\b\b\b\b\b\b\b\b\b\b\b\b\b\b\b\b\b\b\b\b\b\b\b\b\b\b\b\b\b\b\b\b\b\b\b\b\b\b\b\b\b\b\b\b\b\b\b\b\b\b\b\b\b\r235/235 [==============================] - 2s 9ms/step - loss: 0.0676 - accuracy: 0.9761 - val_loss: 1.2126 - val_accuracy: 0.5936\n",
            "Epoch 13/100\n",
            "230/235 [============================>.] - ETA: 0s - loss: 0.0641 - accuracy: 0.9785"
          ]
        },
        {
          "output_type": "stream",
          "name": "stderr",
          "text": [
            "WARNING:tensorflow:Can save best model only with val_acc available, skipping.\n"
          ]
        },
        {
          "output_type": "stream",
          "name": "stdout",
          "text": [
            "\b\b\b\b\b\b\b\b\b\b\b\b\b\b\b\b\b\b\b\b\b\b\b\b\b\b\b\b\b\b\b\b\b\b\b\b\b\b\b\b\b\b\b\b\b\b\b\b\b\b\b\b\b\b\b\b\b\b\b\b\b\b\b\b\b\b\b\b\b\b\b\b\b\b\b\b\b\b\b\b\b\b\b\b\r235/235 [==============================] - 2s 9ms/step - loss: 0.0644 - accuracy: 0.9784 - val_loss: 1.0108 - val_accuracy: 0.6035\n",
            "Epoch 14/100\n",
            "233/235 [============================>.] - ETA: 0s - loss: 0.0703 - accuracy: 0.9748"
          ]
        },
        {
          "output_type": "stream",
          "name": "stderr",
          "text": [
            "WARNING:tensorflow:Can save best model only with val_acc available, skipping.\n"
          ]
        },
        {
          "output_type": "stream",
          "name": "stdout",
          "text": [
            "\b\b\b\b\b\b\b\b\b\b\b\b\b\b\b\b\b\b\b\b\b\b\b\b\b\b\b\b\b\b\b\b\b\b\b\b\b\b\b\b\b\b\b\b\b\b\b\b\b\b\b\b\b\b\b\b\b\b\b\b\b\b\b\b\b\b\b\b\b\b\b\b\b\b\b\b\b\b\b\b\b\b\b\b\r235/235 [==============================] - 2s 9ms/step - loss: 0.0703 - accuracy: 0.9748 - val_loss: 1.8211 - val_accuracy: 0.4681\n",
            "Epoch 15/100\n",
            "233/235 [============================>.] - ETA: 0s - loss: 0.0569 - accuracy: 0.9798"
          ]
        },
        {
          "output_type": "stream",
          "name": "stderr",
          "text": [
            "WARNING:tensorflow:Can save best model only with val_acc available, skipping.\n"
          ]
        },
        {
          "output_type": "stream",
          "name": "stdout",
          "text": [
            "\b\b\b\b\b\b\b\b\b\b\b\b\b\b\b\b\b\b\b\b\b\b\b\b\b\b\b\b\b\b\b\b\b\b\b\b\b\b\b\b\b\b\b\b\b\b\b\b\b\b\b\b\b\b\b\b\b\b\b\b\b\b\b\b\b\b\b\b\b\b\b\b\b\b\b\b\b\b\b\b\b\b\b\b\r235/235 [==============================] - 2s 9ms/step - loss: 0.0571 - accuracy: 0.9798 - val_loss: 0.7291 - val_accuracy: 0.7652\n",
            "Epoch 16/100\n",
            "232/235 [============================>.] - ETA: 0s - loss: 0.0437 - accuracy: 0.9850"
          ]
        },
        {
          "output_type": "stream",
          "name": "stderr",
          "text": [
            "WARNING:tensorflow:Can save best model only with val_acc available, skipping.\n"
          ]
        },
        {
          "output_type": "stream",
          "name": "stdout",
          "text": [
            "\b\b\b\b\b\b\b\b\b\b\b\b\b\b\b\b\b\b\b\b\b\b\b\b\b\b\b\b\b\b\b\b\b\b\b\b\b\b\b\b\b\b\b\b\b\b\b\b\b\b\b\b\b\b\b\b\b\b\b\b\b\b\b\b\b\b\b\b\b\b\b\b\b\b\b\b\b\b\b\b\b\b\b\b\r235/235 [==============================] - 2s 10ms/step - loss: 0.0435 - accuracy: 0.9851 - val_loss: 0.9162 - val_accuracy: 0.7089\n",
            "Epoch 17/100\n",
            "231/235 [============================>.] - ETA: 0s - loss: 0.0438 - accuracy: 0.9846"
          ]
        },
        {
          "output_type": "stream",
          "name": "stderr",
          "text": [
            "WARNING:tensorflow:Can save best model only with val_acc available, skipping.\n"
          ]
        },
        {
          "output_type": "stream",
          "name": "stdout",
          "text": [
            "\b\b\b\b\b\b\b\b\b\b\b\b\b\b\b\b\b\b\b\b\b\b\b\b\b\b\b\b\b\b\b\b\b\b\b\b\b\b\b\b\b\b\b\b\b\b\b\b\b\b\b\b\b\b\b\b\b\b\b\b\b\b\b\b\b\b\b\b\b\b\b\b\b\b\b\b\b\b\b\b\b\b\b\b\r235/235 [==============================] - 2s 10ms/step - loss: 0.0437 - accuracy: 0.9847 - val_loss: 0.6960 - val_accuracy: 0.7975\n",
            "Epoch 18/100\n",
            "234/235 [============================>.] - ETA: 0s - loss: 0.0462 - accuracy: 0.9843"
          ]
        },
        {
          "output_type": "stream",
          "name": "stderr",
          "text": [
            "WARNING:tensorflow:Can save best model only with val_acc available, skipping.\n"
          ]
        },
        {
          "output_type": "stream",
          "name": "stdout",
          "text": [
            "\b\b\b\b\b\b\b\b\b\b\b\b\b\b\b\b\b\b\b\b\b\b\b\b\b\b\b\b\b\b\b\b\b\b\b\b\b\b\b\b\b\b\b\b\b\b\b\b\b\b\b\b\b\b\b\b\b\b\b\b\b\b\b\b\b\b\b\b\b\b\b\b\b\b\b\b\b\b\b\b\b\b\b\b\r235/235 [==============================] - 4s 16ms/step - loss: 0.0462 - accuracy: 0.9843 - val_loss: 0.6694 - val_accuracy: 0.7814\n",
            "Epoch 19/100\n",
            "233/235 [============================>.] - ETA: 0s - loss: 0.0381 - accuracy: 0.9871"
          ]
        },
        {
          "output_type": "stream",
          "name": "stderr",
          "text": [
            "WARNING:tensorflow:Can save best model only with val_acc available, skipping.\n"
          ]
        },
        {
          "output_type": "stream",
          "name": "stdout",
          "text": [
            "\b\b\b\b\b\b\b\b\b\b\b\b\b\b\b\b\b\b\b\b\b\b\b\b\b\b\b\b\b\b\b\b\b\b\b\b\b\b\b\b\b\b\b\b\b\b\b\b\b\b\b\b\b\b\b\b\b\b\b\b\b\b\b\b\b\b\b\b\b\b\b\b\b\b\b\b\b\b\b\b\b\b\b\b\r235/235 [==============================] - 3s 13ms/step - loss: 0.0383 - accuracy: 0.9870 - val_loss: 0.6141 - val_accuracy: 0.7985\n",
            "Epoch 20/100\n",
            "232/235 [============================>.] - ETA: 0s - loss: 0.0357 - accuracy: 0.9884"
          ]
        },
        {
          "output_type": "stream",
          "name": "stderr",
          "text": [
            "WARNING:tensorflow:Can save best model only with val_acc available, skipping.\n"
          ]
        },
        {
          "output_type": "stream",
          "name": "stdout",
          "text": [
            "\b\b\b\b\b\b\b\b\b\b\b\b\b\b\b\b\b\b\b\b\b\b\b\b\b\b\b\b\b\b\b\b\b\b\b\b\b\b\b\b\b\b\b\b\b\b\b\b\b\b\b\b\b\b\b\b\b\b\b\b\b\b\b\b\b\b\b\b\b\b\b\b\b\b\b\b\b\b\b\b\b\b\b\b\r235/235 [==============================] - 2s 10ms/step - loss: 0.0359 - accuracy: 0.9883 - val_loss: 1.2186 - val_accuracy: 0.6936\n",
            "Epoch 21/100\n",
            "232/235 [============================>.] - ETA: 0s - loss: 0.0371 - accuracy: 0.9877"
          ]
        },
        {
          "output_type": "stream",
          "name": "stderr",
          "text": [
            "WARNING:tensorflow:Can save best model only with val_acc available, skipping.\n"
          ]
        },
        {
          "output_type": "stream",
          "name": "stdout",
          "text": [
            "\b\b\b\b\b\b\b\b\b\b\b\b\b\b\b\b\b\b\b\b\b\b\b\b\b\b\b\b\b\b\b\b\b\b\b\b\b\b\b\b\b\b\b\b\b\b\b\b\b\b\b\b\b\b\b\b\b\b\b\b\b\b\b\b\b\b\b\b\b\b\b\b\b\b\b\b\b\b\b\b\b\b\b\b\r235/235 [==============================] - 2s 10ms/step - loss: 0.0375 - accuracy: 0.9876 - val_loss: 0.7012 - val_accuracy: 0.7682\n",
            "Epoch 22/100\n",
            "229/235 [============================>.] - ETA: 0s - loss: 0.0310 - accuracy: 0.9893"
          ]
        },
        {
          "output_type": "stream",
          "name": "stderr",
          "text": [
            "WARNING:tensorflow:Can save best model only with val_acc available, skipping.\n"
          ]
        },
        {
          "output_type": "stream",
          "name": "stdout",
          "text": [
            "\b\b\b\b\b\b\b\b\b\b\b\b\b\b\b\b\b\b\b\b\b\b\b\b\b\b\b\b\b\b\b\b\b\b\b\b\b\b\b\b\b\b\b\b\b\b\b\b\b\b\b\b\b\b\b\b\b\b\b\b\b\b\b\b\b\b\b\b\b\b\b\b\b\b\b\b\b\b\b\b\b\b\b\b\r235/235 [==============================] - 2s 9ms/step - loss: 0.0315 - accuracy: 0.9891 - val_loss: 1.9599 - val_accuracy: 0.5456\n",
            "Epoch 23/100\n",
            "230/235 [============================>.] - ETA: 0s - loss: 0.0322 - accuracy: 0.9891"
          ]
        },
        {
          "output_type": "stream",
          "name": "stderr",
          "text": [
            "WARNING:tensorflow:Can save best model only with val_acc available, skipping.\n"
          ]
        },
        {
          "output_type": "stream",
          "name": "stdout",
          "text": [
            "\b\b\b\b\b\b\b\b\b\b\b\b\b\b\b\b\b\b\b\b\b\b\b\b\b\b\b\b\b\b\b\b\b\b\b\b\b\b\b\b\b\b\b\b\b\b\b\b\b\b\b\b\b\b\b\b\b\b\b\b\b\b\b\b\b\b\b\b\b\b\b\b\b\b\b\b\b\b\b\b\b\b\b\b\r235/235 [==============================] - 2s 9ms/step - loss: 0.0319 - accuracy: 0.9891 - val_loss: 1.4577 - val_accuracy: 0.6372\n",
            "Epoch 24/100\n",
            "232/235 [============================>.] - ETA: 0s - loss: 0.0343 - accuracy: 0.9883"
          ]
        },
        {
          "output_type": "stream",
          "name": "stderr",
          "text": [
            "WARNING:tensorflow:Can save best model only with val_acc available, skipping.\n"
          ]
        },
        {
          "output_type": "stream",
          "name": "stdout",
          "text": [
            "\b\b\b\b\b\b\b\b\b\b\b\b\b\b\b\b\b\b\b\b\b\b\b\b\b\b\b\b\b\b\b\b\b\b\b\b\b\b\b\b\b\b\b\b\b\b\b\b\b\b\b\b\b\b\b\b\b\b\b\b\b\b\b\b\b\b\b\b\b\b\b\b\b\b\b\b\b\b\b\b\b\b\b\b\r235/235 [==============================] - 2s 9ms/step - loss: 0.0343 - accuracy: 0.9882 - val_loss: 1.3729 - val_accuracy: 0.6724\n",
            "Epoch 25/100\n",
            "235/235 [==============================] - ETA: 0s - loss: 0.0241 - accuracy: 0.9920"
          ]
        },
        {
          "output_type": "stream",
          "name": "stderr",
          "text": [
            "WARNING:tensorflow:Can save best model only with val_acc available, skipping.\n"
          ]
        },
        {
          "output_type": "stream",
          "name": "stdout",
          "text": [
            "\b\b\b\b\b\b\b\b\b\b\b\b\b\b\b\b\b\b\b\b\b\b\b\b\b\b\b\b\b\b\b\b\b\b\b\b\b\b\b\b\b\b\b\b\b\b\b\b\b\b\b\b\b\b\b\b\b\b\b\b\b\b\b\b\b\b\b\b\b\b\b\b\b\b\b\b\b\b\b\b\b\b\b\b\r235/235 [==============================] - 2s 10ms/step - loss: 0.0241 - accuracy: 0.9920 - val_loss: 1.5574 - val_accuracy: 0.6032\n",
            "Epoch 26/100\n",
            "233/235 [============================>.] - ETA: 0s - loss: 0.0258 - accuracy: 0.9918"
          ]
        },
        {
          "output_type": "stream",
          "name": "stderr",
          "text": [
            "WARNING:tensorflow:Can save best model only with val_acc available, skipping.\n"
          ]
        },
        {
          "output_type": "stream",
          "name": "stdout",
          "text": [
            "\b\b\b\b\b\b\b\b\b\b\b\b\b\b\b\b\b\b\b\b\b\b\b\b\b\b\b\b\b\b\b\b\b\b\b\b\b\b\b\b\b\b\b\b\b\b\b\b\b\b\b\b\b\b\b\b\b\b\b\b\b\b\b\b\b\b\b\b\b\b\b\b\b\b\b\b\b\b\b\b\b\b\b\b\r235/235 [==============================] - 2s 9ms/step - loss: 0.0261 - accuracy: 0.9918 - val_loss: 0.5907 - val_accuracy: 0.8537\n",
            "Epoch 27/100\n",
            "235/235 [==============================] - ETA: 0s - loss: 0.0330 - accuracy: 0.9893"
          ]
        },
        {
          "output_type": "stream",
          "name": "stderr",
          "text": [
            "WARNING:tensorflow:Can save best model only with val_acc available, skipping.\n"
          ]
        },
        {
          "output_type": "stream",
          "name": "stdout",
          "text": [
            "\b\b\b\b\b\b\b\b\b\b\b\b\b\b\b\b\b\b\b\b\b\b\b\b\b\b\b\b\b\b\b\b\b\b\b\b\b\b\b\b\b\b\b\b\b\b\b\b\b\b\b\b\b\b\b\b\b\b\b\b\b\b\b\b\b\b\b\b\b\b\b\b\b\b\b\b\b\b\b\b\b\b\b\b\r235/235 [==============================] - 2s 10ms/step - loss: 0.0330 - accuracy: 0.9893 - val_loss: 0.6949 - val_accuracy: 0.7753\n",
            "Epoch 28/100\n",
            "234/235 [============================>.] - ETA: 0s - loss: 0.0231 - accuracy: 0.9929"
          ]
        },
        {
          "output_type": "stream",
          "name": "stderr",
          "text": [
            "WARNING:tensorflow:Can save best model only with val_acc available, skipping.\n"
          ]
        },
        {
          "output_type": "stream",
          "name": "stdout",
          "text": [
            "\b\b\b\b\b\b\b\b\b\b\b\b\b\b\b\b\b\b\b\b\b\b\b\b\b\b\b\b\b\b\b\b\b\b\b\b\b\b\b\b\b\b\b\b\b\b\b\b\b\b\b\b\b\b\b\b\b\b\b\b\b\b\b\b\b\b\b\b\b\b\b\b\b\b\b\b\b\b\b\b\b\b\b\b\r235/235 [==============================] - 2s 10ms/step - loss: 0.0230 - accuracy: 0.9929 - val_loss: 0.6957 - val_accuracy: 0.8033\n",
            "Epoch 29/100\n",
            "234/235 [============================>.] - ETA: 0s - loss: 0.0200 - accuracy: 0.9933"
          ]
        },
        {
          "output_type": "stream",
          "name": "stderr",
          "text": [
            "WARNING:tensorflow:Can save best model only with val_acc available, skipping.\n"
          ]
        },
        {
          "output_type": "stream",
          "name": "stdout",
          "text": [
            "\b\b\b\b\b\b\b\b\b\b\b\b\b\b\b\b\b\b\b\b\b\b\b\b\b\b\b\b\b\b\b\b\b\b\b\b\b\b\b\b\b\b\b\b\b\b\b\b\b\b\b\b\b\b\b\b\b\b\b\b\b\b\b\b\b\b\b\b\b\b\b\b\b\b\b\b\b\b\b\b\b\b\b\b\r235/235 [==============================] - 2s 9ms/step - loss: 0.0201 - accuracy: 0.9933 - val_loss: 0.4429 - val_accuracy: 0.8745\n",
            "Epoch 30/100\n",
            "232/235 [============================>.] - ETA: 0s - loss: 0.0156 - accuracy: 0.9951"
          ]
        },
        {
          "output_type": "stream",
          "name": "stderr",
          "text": [
            "WARNING:tensorflow:Can save best model only with val_acc available, skipping.\n"
          ]
        },
        {
          "output_type": "stream",
          "name": "stdout",
          "text": [
            "\b\b\b\b\b\b\b\b\b\b\b\b\b\b\b\b\b\b\b\b\b\b\b\b\b\b\b\b\b\b\b\b\b\b\b\b\b\b\b\b\b\b\b\b\b\b\b\b\b\b\b\b\b\b\b\b\b\b\b\b\b\b\b\b\b\b\b\b\b\b\b\b\b\b\b\b\b\b\b\b\b\b\b\b\r235/235 [==============================] - 2s 9ms/step - loss: 0.0158 - accuracy: 0.9950 - val_loss: 0.3778 - val_accuracy: 0.8910\n",
            "Epoch 31/100\n",
            "233/235 [============================>.] - ETA: 0s - loss: 0.0277 - accuracy: 0.9910"
          ]
        },
        {
          "output_type": "stream",
          "name": "stderr",
          "text": [
            "WARNING:tensorflow:Can save best model only with val_acc available, skipping.\n"
          ]
        },
        {
          "output_type": "stream",
          "name": "stdout",
          "text": [
            "\b\b\b\b\b\b\b\b\b\b\b\b\b\b\b\b\b\b\b\b\b\b\b\b\b\b\b\b\b\b\b\b\b\b\b\b\b\b\b\b\b\b\b\b\b\b\b\b\b\b\b\b\b\b\b\b\b\b\b\b\b\b\b\b\b\b\b\b\b\b\b\b\b\b\b\b\b\b\b\b\b\b\b\b\r235/235 [==============================] - 2s 10ms/step - loss: 0.0277 - accuracy: 0.9910 - val_loss: 0.9983 - val_accuracy: 0.7602\n",
            "Epoch 32/100\n",
            "234/235 [============================>.] - ETA: 0s - loss: 0.0243 - accuracy: 0.9924"
          ]
        },
        {
          "output_type": "stream",
          "name": "stderr",
          "text": [
            "WARNING:tensorflow:Can save best model only with val_acc available, skipping.\n"
          ]
        },
        {
          "output_type": "stream",
          "name": "stdout",
          "text": [
            "\b\b\b\b\b\b\b\b\b\b\b\b\b\b\b\b\b\b\b\b\b\b\b\b\b\b\b\b\b\b\b\b\b\b\b\b\b\b\b\b\b\b\b\b\b\b\b\b\b\b\b\b\b\b\b\b\b\b\b\b\b\b\b\b\b\b\b\b\b\b\b\b\b\b\b\b\b\b\b\b\b\b\b\b\r235/235 [==============================] - 2s 9ms/step - loss: 0.0243 - accuracy: 0.9924 - val_loss: 0.6917 - val_accuracy: 0.8277\n",
            "Epoch 33/100\n",
            "233/235 [============================>.] - ETA: 0s - loss: 0.0199 - accuracy: 0.9934"
          ]
        },
        {
          "output_type": "stream",
          "name": "stderr",
          "text": [
            "WARNING:tensorflow:Can save best model only with val_acc available, skipping.\n"
          ]
        },
        {
          "output_type": "stream",
          "name": "stdout",
          "text": [
            "\b\b\b\b\b\b\b\b\b\b\b\b\b\b\b\b\b\b\b\b\b\b\b\b\b\b\b\b\b\b\b\b\b\b\b\b\b\b\b\b\b\b\b\b\b\b\b\b\b\b\b\b\b\b\b\b\b\b\b\b\b\b\b\b\b\b\b\b\b\b\b\b\b\b\b\b\b\b\b\b\b\b\b\b\r235/235 [==============================] - 2s 9ms/step - loss: 0.0199 - accuracy: 0.9934 - val_loss: 0.9046 - val_accuracy: 0.7846\n",
            "Epoch 34/100\n",
            "230/235 [============================>.] - ETA: 0s - loss: 0.0229 - accuracy: 0.9930"
          ]
        },
        {
          "output_type": "stream",
          "name": "stderr",
          "text": [
            "WARNING:tensorflow:Can save best model only with val_acc available, skipping.\n"
          ]
        },
        {
          "output_type": "stream",
          "name": "stdout",
          "text": [
            "\b\b\b\b\b\b\b\b\b\b\b\b\b\b\b\b\b\b\b\b\b\b\b\b\b\b\b\b\b\b\b\b\b\b\b\b\b\b\b\b\b\b\b\b\b\b\b\b\b\b\b\b\b\b\b\b\b\b\b\b\b\b\b\b\b\b\b\b\b\b\b\b\b\b\b\b\b\b\b\b\b\b\b\b\r235/235 [==============================] - 2s 9ms/step - loss: 0.0230 - accuracy: 0.9930 - val_loss: 1.2868 - val_accuracy: 0.6889\n",
            "Epoch 35/100\n",
            "235/235 [==============================] - ETA: 0s - loss: 0.0170 - accuracy: 0.9946"
          ]
        },
        {
          "output_type": "stream",
          "name": "stderr",
          "text": [
            "WARNING:tensorflow:Can save best model only with val_acc available, skipping.\n"
          ]
        },
        {
          "output_type": "stream",
          "name": "stdout",
          "text": [
            "\b\b\b\b\b\b\b\b\b\b\b\b\b\b\b\b\b\b\b\b\b\b\b\b\b\b\b\b\b\b\b\b\b\b\b\b\b\b\b\b\b\b\b\b\b\b\b\b\b\b\b\b\b\b\b\b\b\b\b\b\b\b\b\b\b\b\b\b\b\b\b\b\b\b\b\b\b\b\b\b\b\b\b\b\r235/235 [==============================] - 2s 9ms/step - loss: 0.0170 - accuracy: 0.9946 - val_loss: 0.9483 - val_accuracy: 0.7804\n",
            "Epoch 36/100\n",
            "235/235 [==============================] - ETA: 0s - loss: 0.0214 - accuracy: 0.9936"
          ]
        },
        {
          "output_type": "stream",
          "name": "stderr",
          "text": [
            "WARNING:tensorflow:Can save best model only with val_acc available, skipping.\n"
          ]
        },
        {
          "output_type": "stream",
          "name": "stdout",
          "text": [
            "\b\b\b\b\b\b\b\b\b\b\b\b\b\b\b\b\b\b\b\b\b\b\b\b\b\b\b\b\b\b\b\b\b\b\b\b\b\b\b\b\b\b\b\b\b\b\b\b\b\b\b\b\b\b\b\b\b\b\b\b\b\b\b\b\b\b\b\b\b\b\b\b\b\b\b\b\b\b\b\b\b\b\b\b\r235/235 [==============================] - 2s 9ms/step - loss: 0.0214 - accuracy: 0.9936 - val_loss: 0.4765 - val_accuracy: 0.8635\n",
            "Epoch 37/100\n",
            "230/235 [============================>.] - ETA: 0s - loss: 0.0191 - accuracy: 0.9938"
          ]
        },
        {
          "output_type": "stream",
          "name": "stderr",
          "text": [
            "WARNING:tensorflow:Can save best model only with val_acc available, skipping.\n"
          ]
        },
        {
          "output_type": "stream",
          "name": "stdout",
          "text": [
            "\b\b\b\b\b\b\b\b\b\b\b\b\b\b\b\b\b\b\b\b\b\b\b\b\b\b\b\b\b\b\b\b\b\b\b\b\b\b\b\b\b\b\b\b\b\b\b\b\b\b\b\b\b\b\b\b\b\b\b\b\b\b\b\b\b\b\b\b\b\b\b\b\b\b\b\b\b\b\b\b\b\b\b\b\r235/235 [==============================] - 2s 9ms/step - loss: 0.0191 - accuracy: 0.9937 - val_loss: 1.1474 - val_accuracy: 0.7236\n",
            "Epoch 38/100\n",
            "233/235 [============================>.] - ETA: 0s - loss: 0.0158 - accuracy: 0.9950"
          ]
        },
        {
          "output_type": "stream",
          "name": "stderr",
          "text": [
            "WARNING:tensorflow:Can save best model only with val_acc available, skipping.\n"
          ]
        },
        {
          "output_type": "stream",
          "name": "stdout",
          "text": [
            "\b\b\b\b\b\b\b\b\b\b\b\b\b\b\b\b\b\b\b\b\b\b\b\b\b\b\b\b\b\b\b\b\b\b\b\b\b\b\b\b\b\b\b\b\b\b\b\b\b\b\b\b\b\b\b\b\b\b\b\b\b\b\b\b\b\b\b\b\b\b\b\b\b\b\b\b\b\b\b\b\b\b\b\b\r235/235 [==============================] - 2s 9ms/step - loss: 0.0159 - accuracy: 0.9950 - val_loss: 0.4147 - val_accuracy: 0.8942\n",
            "Epoch 39/100\n",
            "230/235 [============================>.] - ETA: 0s - loss: 0.0116 - accuracy: 0.9965"
          ]
        },
        {
          "output_type": "stream",
          "name": "stderr",
          "text": [
            "WARNING:tensorflow:Can save best model only with val_acc available, skipping.\n"
          ]
        },
        {
          "output_type": "stream",
          "name": "stdout",
          "text": [
            "\b\b\b\b\b\b\b\b\b\b\b\b\b\b\b\b\b\b\b\b\b\b\b\b\b\b\b\b\b\b\b\b\b\b\b\b\b\b\b\b\b\b\b\b\b\b\b\b\b\b\b\b\b\b\b\b\b\b\b\b\b\b\b\b\b\b\b\b\b\b\b\b\b\b\b\b\b\b\b\b\b\b\b\b\r235/235 [==============================] - 2s 9ms/step - loss: 0.0123 - accuracy: 0.9964 - val_loss: 1.6646 - val_accuracy: 0.6780\n",
            "Epoch 40/100\n",
            "234/235 [============================>.] - ETA: 0s - loss: 0.0236 - accuracy: 0.9929"
          ]
        },
        {
          "output_type": "stream",
          "name": "stderr",
          "text": [
            "WARNING:tensorflow:Can save best model only with val_acc available, skipping.\n"
          ]
        },
        {
          "output_type": "stream",
          "name": "stdout",
          "text": [
            "\b\b\b\b\b\b\b\b\b\b\b\b\b\b\b\b\b\b\b\b\b\b\b\b\b\b\b\b\b\b\b\b\b\b\b\b\b\b\b\b\b\b\b\b\b\b\b\b\b\b\b\b\b\b\b\b\b\b\b\b\b\b\b\b\b\b\b\b\b\b\b\b\b\b\b\b\b\b\b\b\b\b\b\b\r235/235 [==============================] - 2s 9ms/step - loss: 0.0237 - accuracy: 0.9928 - val_loss: 0.8276 - val_accuracy: 0.7860\n",
            "Epoch 41/100\n",
            "235/235 [==============================] - ETA: 0s - loss: 0.0216 - accuracy: 0.9930"
          ]
        },
        {
          "output_type": "stream",
          "name": "stderr",
          "text": [
            "WARNING:tensorflow:Can save best model only with val_acc available, skipping.\n"
          ]
        },
        {
          "output_type": "stream",
          "name": "stdout",
          "text": [
            "\b\b\b\b\b\b\b\b\b\b\b\b\b\b\b\b\b\b\b\b\b\b\b\b\b\b\b\b\b\b\b\b\b\b\b\b\b\b\b\b\b\b\b\b\b\b\b\b\b\b\b\b\b\b\b\b\b\b\b\b\b\b\b\b\b\b\b\b\b\b\b\b\b\b\b\b\b\b\b\b\b\b\b\b\r235/235 [==============================] - 2s 9ms/step - loss: 0.0216 - accuracy: 0.9930 - val_loss: 0.7987 - val_accuracy: 0.8027\n",
            "Epoch 42/100\n",
            "229/235 [============================>.] - ETA: 0s - loss: 0.0081 - accuracy: 0.9972"
          ]
        },
        {
          "output_type": "stream",
          "name": "stderr",
          "text": [
            "WARNING:tensorflow:Can save best model only with val_acc available, skipping.\n"
          ]
        },
        {
          "output_type": "stream",
          "name": "stdout",
          "text": [
            "\b\b\b\b\b\b\b\b\b\b\b\b\b\b\b\b\b\b\b\b\b\b\b\b\b\b\b\b\b\b\b\b\b\b\b\b\b\b\b\b\b\b\b\b\b\b\b\b\b\b\b\b\b\b\b\b\b\b\b\b\b\b\b\b\b\b\b\b\b\b\b\b\b\b\b\b\b\b\b\b\b\b\b\b\r235/235 [==============================] - 2s 9ms/step - loss: 0.0081 - accuracy: 0.9971 - val_loss: 0.6194 - val_accuracy: 0.8577\n",
            "Epoch 43/100\n",
            "234/235 [============================>.] - ETA: 0s - loss: 0.0157 - accuracy: 0.9947"
          ]
        },
        {
          "output_type": "stream",
          "name": "stderr",
          "text": [
            "WARNING:tensorflow:Can save best model only with val_acc available, skipping.\n"
          ]
        },
        {
          "output_type": "stream",
          "name": "stdout",
          "text": [
            "\b\b\b\b\b\b\b\b\b\b\b\b\b\b\b\b\b\b\b\b\b\b\b\b\b\b\b\b\b\b\b\b\b\b\b\b\b\b\b\b\b\b\b\b\b\b\b\b\b\b\b\b\b\b\b\b\b\b\b\b\b\b\b\b\b\b\b\b\b\b\b\b\b\b\b\b\b\b\b\b\b\b\b\b\r235/235 [==============================] - 2s 9ms/step - loss: 0.0157 - accuracy: 0.9947 - val_loss: 0.4885 - val_accuracy: 0.8722\n",
            "Epoch 44/100\n",
            "232/235 [============================>.] - ETA: 0s - loss: 0.0130 - accuracy: 0.9960"
          ]
        },
        {
          "output_type": "stream",
          "name": "stderr",
          "text": [
            "WARNING:tensorflow:Can save best model only with val_acc available, skipping.\n"
          ]
        },
        {
          "output_type": "stream",
          "name": "stdout",
          "text": [
            "\b\b\b\b\b\b\b\b\b\b\b\b\b\b\b\b\b\b\b\b\b\b\b\b\b\b\b\b\b\b\b\b\b\b\b\b\b\b\b\b\b\b\b\b\b\b\b\b\b\b\b\b\b\b\b\b\b\b\b\b\b\b\b\b\b\b\b\b\b\b\b\b\b\b\b\b\b\b\b\b\b\b\b\b\r235/235 [==============================] - 2s 9ms/step - loss: 0.0129 - accuracy: 0.9960 - val_loss: 0.4150 - val_accuracy: 0.8930\n",
            "Epoch 45/100\n",
            "234/235 [============================>.] - ETA: 0s - loss: 0.0172 - accuracy: 0.9947"
          ]
        },
        {
          "output_type": "stream",
          "name": "stderr",
          "text": [
            "WARNING:tensorflow:Can save best model only with val_acc available, skipping.\n"
          ]
        },
        {
          "output_type": "stream",
          "name": "stdout",
          "text": [
            "\b\b\b\b\b\b\b\b\b\b\b\b\b\b\b\b\b\b\b\b\b\b\b\b\b\b\b\b\b\b\b\b\b\b\b\b\b\b\b\b\b\b\b\b\b\b\b\b\b\b\b\b\b\b\b\b\b\b\b\b\b\b\b\b\b\b\b\b\b\b\b\b\b\b\b\b\b\b\b\b\b\b\b\b\r235/235 [==============================] - 2s 9ms/step - loss: 0.0171 - accuracy: 0.9947 - val_loss: 0.7335 - val_accuracy: 0.8225\n",
            "Epoch 46/100\n",
            "235/235 [==============================] - ETA: 0s - loss: 0.0093 - accuracy: 0.9971"
          ]
        },
        {
          "output_type": "stream",
          "name": "stderr",
          "text": [
            "WARNING:tensorflow:Can save best model only with val_acc available, skipping.\n"
          ]
        },
        {
          "output_type": "stream",
          "name": "stdout",
          "text": [
            "\b\b\b\b\b\b\b\b\b\b\b\b\b\b\b\b\b\b\b\b\b\b\b\b\b\b\b\b\b\b\b\b\b\b\b\b\b\b\b\b\b\b\b\b\b\b\b\b\b\b\b\b\b\b\b\b\b\b\b\b\b\b\b\b\b\b\b\b\b\b\b\b\b\b\b\b\b\b\b\b\b\b\b\b\r235/235 [==============================] - 2s 9ms/step - loss: 0.0093 - accuracy: 0.9971 - val_loss: 0.7770 - val_accuracy: 0.8177\n",
            "Epoch 47/100\n",
            "231/235 [============================>.] - ETA: 0s - loss: 0.0232 - accuracy: 0.9927"
          ]
        },
        {
          "output_type": "stream",
          "name": "stderr",
          "text": [
            "WARNING:tensorflow:Can save best model only with val_acc available, skipping.\n"
          ]
        },
        {
          "output_type": "stream",
          "name": "stdout",
          "text": [
            "\b\b\b\b\b\b\b\b\b\b\b\b\b\b\b\b\b\b\b\b\b\b\b\b\b\b\b\b\b\b\b\b\b\b\b\b\b\b\b\b\b\b\b\b\b\b\b\b\b\b\b\b\b\b\b\b\b\b\b\b\b\b\b\b\b\b\b\b\b\b\b\b\b\b\b\b\b\b\b\b\b\b\b\b\r235/235 [==============================] - 2s 9ms/step - loss: 0.0231 - accuracy: 0.9928 - val_loss: 0.6448 - val_accuracy: 0.8361\n",
            "Epoch 48/100\n",
            "234/235 [============================>.] - ETA: 0s - loss: 0.0180 - accuracy: 0.9946"
          ]
        },
        {
          "output_type": "stream",
          "name": "stderr",
          "text": [
            "WARNING:tensorflow:Can save best model only with val_acc available, skipping.\n"
          ]
        },
        {
          "output_type": "stream",
          "name": "stdout",
          "text": [
            "\b\b\b\b\b\b\b\b\b\b\b\b\b\b\b\b\b\b\b\b\b\b\b\b\b\b\b\b\b\b\b\b\b\b\b\b\b\b\b\b\b\b\b\b\b\b\b\b\b\b\b\b\b\b\b\b\b\b\b\b\b\b\b\b\b\b\b\b\b\b\b\b\b\b\b\b\b\b\b\b\b\b\b\b\r235/235 [==============================] - 2s 9ms/step - loss: 0.0180 - accuracy: 0.9946 - val_loss: 0.3842 - val_accuracy: 0.9023\n",
            "Epoch 49/100\n",
            "229/235 [============================>.] - ETA: 0s - loss: 0.0088 - accuracy: 0.9970"
          ]
        },
        {
          "output_type": "stream",
          "name": "stderr",
          "text": [
            "WARNING:tensorflow:Can save best model only with val_acc available, skipping.\n"
          ]
        },
        {
          "output_type": "stream",
          "name": "stdout",
          "text": [
            "\b\b\b\b\b\b\b\b\b\b\b\b\b\b\b\b\b\b\b\b\b\b\b\b\b\b\b\b\b\b\b\b\b\b\b\b\b\b\b\b\b\b\b\b\b\b\b\b\b\b\b\b\b\b\b\b\b\b\b\b\b\b\b\b\b\b\b\b\b\b\b\b\b\b\b\b\b\b\b\b\b\b\b\b\r235/235 [==============================] - 2s 9ms/step - loss: 0.0088 - accuracy: 0.9970 - val_loss: 0.5846 - val_accuracy: 0.8543\n",
            "Epoch 50/100\n",
            "230/235 [============================>.] - ETA: 0s - loss: 0.0095 - accuracy: 0.9972"
          ]
        },
        {
          "output_type": "stream",
          "name": "stderr",
          "text": [
            "WARNING:tensorflow:Can save best model only with val_acc available, skipping.\n"
          ]
        },
        {
          "output_type": "stream",
          "name": "stdout",
          "text": [
            "\b\b\b\b\b\b\b\b\b\b\b\b\b\b\b\b\b\b\b\b\b\b\b\b\b\b\b\b\b\b\b\b\b\b\b\b\b\b\b\b\b\b\b\b\b\b\b\b\b\b\b\b\b\b\b\b\b\b\b\b\b\b\b\b\b\b\b\b\b\b\b\b\b\b\b\b\b\b\b\b\b\b\b\b\r235/235 [==============================] - 2s 10ms/step - loss: 0.0097 - accuracy: 0.9972 - val_loss: 0.8089 - val_accuracy: 0.8198\n",
            "Epoch 51/100\n",
            "234/235 [============================>.] - ETA: 0s - loss: 0.0168 - accuracy: 0.9948"
          ]
        },
        {
          "output_type": "stream",
          "name": "stderr",
          "text": [
            "WARNING:tensorflow:Can save best model only with val_acc available, skipping.\n"
          ]
        },
        {
          "output_type": "stream",
          "name": "stdout",
          "text": [
            "\b\b\b\b\b\b\b\b\b\b\b\b\b\b\b\b\b\b\b\b\b\b\b\b\b\b\b\b\b\b\b\b\b\b\b\b\b\b\b\b\b\b\b\b\b\b\b\b\b\b\b\b\b\b\b\b\b\b\b\b\b\b\b\b\b\b\b\b\b\b\b\b\b\b\b\b\b\b\b\b\b\b\b\b\r235/235 [==============================] - 2s 10ms/step - loss: 0.0168 - accuracy: 0.9948 - val_loss: 0.5881 - val_accuracy: 0.8490\n",
            "Epoch 52/100\n",
            "232/235 [============================>.] - ETA: 0s - loss: 0.0155 - accuracy: 0.9951"
          ]
        },
        {
          "output_type": "stream",
          "name": "stderr",
          "text": [
            "WARNING:tensorflow:Can save best model only with val_acc available, skipping.\n"
          ]
        },
        {
          "output_type": "stream",
          "name": "stdout",
          "text": [
            "\b\b\b\b\b\b\b\b\b\b\b\b\b\b\b\b\b\b\b\b\b\b\b\b\b\b\b\b\b\b\b\b\b\b\b\b\b\b\b\b\b\b\b\b\b\b\b\b\b\b\b\b\b\b\b\b\b\b\b\b\b\b\b\b\b\b\b\b\b\b\b\b\b\b\b\b\b\b\b\b\b\b\b\b\r235/235 [==============================] - 2s 9ms/step - loss: 0.0158 - accuracy: 0.9950 - val_loss: 0.3481 - val_accuracy: 0.9106\n",
            "Epoch 53/100\n",
            "229/235 [============================>.] - ETA: 0s - loss: 0.0123 - accuracy: 0.9960"
          ]
        },
        {
          "output_type": "stream",
          "name": "stderr",
          "text": [
            "WARNING:tensorflow:Can save best model only with val_acc available, skipping.\n"
          ]
        },
        {
          "output_type": "stream",
          "name": "stdout",
          "text": [
            "\b\b\b\b\b\b\b\b\b\b\b\b\b\b\b\b\b\b\b\b\b\b\b\b\b\b\b\b\b\b\b\b\b\b\b\b\b\b\b\b\b\b\b\b\b\b\b\b\b\b\b\b\b\b\b\b\b\b\b\b\b\b\b\b\b\b\b\b\b\b\b\b\b\b\b\b\b\b\b\b\b\b\b\b\r235/235 [==============================] - 2s 9ms/step - loss: 0.0122 - accuracy: 0.9961 - val_loss: 0.6722 - val_accuracy: 0.8530\n",
            "Epoch 54/100\n",
            "234/235 [============================>.] - ETA: 0s - loss: 0.0108 - accuracy: 0.9967"
          ]
        },
        {
          "output_type": "stream",
          "name": "stderr",
          "text": [
            "WARNING:tensorflow:Can save best model only with val_acc available, skipping.\n"
          ]
        },
        {
          "output_type": "stream",
          "name": "stdout",
          "text": [
            "\b\b\b\b\b\b\b\b\b\b\b\b\b\b\b\b\b\b\b\b\b\b\b\b\b\b\b\b\b\b\b\b\b\b\b\b\b\b\b\b\b\b\b\b\b\b\b\b\b\b\b\b\b\b\b\b\b\b\b\b\b\b\b\b\b\b\b\b\b\b\b\b\b\b\b\b\b\b\b\b\b\b\b\b\r235/235 [==============================] - 2s 10ms/step - loss: 0.0109 - accuracy: 0.9967 - val_loss: 0.8029 - val_accuracy: 0.8155\n",
            "Epoch 55/100\n",
            "233/235 [============================>.] - ETA: 0s - loss: 0.0094 - accuracy: 0.9968"
          ]
        },
        {
          "output_type": "stream",
          "name": "stderr",
          "text": [
            "WARNING:tensorflow:Can save best model only with val_acc available, skipping.\n"
          ]
        },
        {
          "output_type": "stream",
          "name": "stdout",
          "text": [
            "\b\b\b\b\b\b\b\b\b\b\b\b\b\b\b\b\b\b\b\b\b\b\b\b\b\b\b\b\b\b\b\b\b\b\b\b\b\b\b\b\b\b\b\b\b\b\b\b\b\b\b\b\b\b\b\b\b\b\b\b\b\b\b\b\b\b\b\b\b\b\b\b\b\b\b\b\b\b\b\b\b\b\b\b\r235/235 [==============================] - 2s 9ms/step - loss: 0.0096 - accuracy: 0.9967 - val_loss: 1.2696 - val_accuracy: 0.7514\n",
            "Epoch 56/100\n",
            "234/235 [============================>.] - ETA: 0s - loss: 0.0129 - accuracy: 0.9961"
          ]
        },
        {
          "output_type": "stream",
          "name": "stderr",
          "text": [
            "WARNING:tensorflow:Can save best model only with val_acc available, skipping.\n"
          ]
        },
        {
          "output_type": "stream",
          "name": "stdout",
          "text": [
            "\b\b\b\b\b\b\b\b\b\b\b\b\b\b\b\b\b\b\b\b\b\b\b\b\b\b\b\b\b\b\b\b\b\b\b\b\b\b\b\b\b\b\b\b\b\b\b\b\b\b\b\b\b\b\b\b\b\b\b\b\b\b\b\b\b\b\b\b\b\b\b\b\b\b\b\b\b\b\b\b\b\b\b\b\r235/235 [==============================] - 2s 9ms/step - loss: 0.0130 - accuracy: 0.9961 - val_loss: 0.4250 - val_accuracy: 0.8915\n",
            "Epoch 57/100\n",
            "229/235 [============================>.] - ETA: 0s - loss: 0.0092 - accuracy: 0.9973"
          ]
        },
        {
          "output_type": "stream",
          "name": "stderr",
          "text": [
            "WARNING:tensorflow:Can save best model only with val_acc available, skipping.\n"
          ]
        },
        {
          "output_type": "stream",
          "name": "stdout",
          "text": [
            "\b\b\b\b\b\b\b\b\b\b\b\b\b\b\b\b\b\b\b\b\b\b\b\b\b\b\b\b\b\b\b\b\b\b\b\b\b\b\b\b\b\b\b\b\b\b\b\b\b\b\b\b\b\b\b\b\b\b\b\b\b\b\b\b\b\b\b\b\b\b\b\b\b\b\b\b\b\b\b\b\b\b\b\b\r235/235 [==============================] - 2s 10ms/step - loss: 0.0095 - accuracy: 0.9972 - val_loss: 0.5728 - val_accuracy: 0.8635\n",
            "Epoch 58/100\n",
            "230/235 [============================>.] - ETA: 0s - loss: 0.0166 - accuracy: 0.9955"
          ]
        },
        {
          "output_type": "stream",
          "name": "stderr",
          "text": [
            "WARNING:tensorflow:Can save best model only with val_acc available, skipping.\n"
          ]
        },
        {
          "output_type": "stream",
          "name": "stdout",
          "text": [
            "\b\b\b\b\b\b\b\b\b\b\b\b\b\b\b\b\b\b\b\b\b\b\b\b\b\b\b\b\b\b\b\b\b\b\b\b\b\b\b\b\b\b\b\b\b\b\b\b\b\b\b\b\b\b\b\b\b\b\b\b\b\b\b\b\b\b\b\b\b\b\b\b\b\b\b\b\b\b\b\b\b\b\b\b\r235/235 [==============================] - 2s 9ms/step - loss: 0.0165 - accuracy: 0.9955 - val_loss: 0.6785 - val_accuracy: 0.8355\n",
            "Epoch 59/100\n",
            "233/235 [============================>.] - ETA: 0s - loss: 0.0099 - accuracy: 0.9972"
          ]
        },
        {
          "output_type": "stream",
          "name": "stderr",
          "text": [
            "WARNING:tensorflow:Can save best model only with val_acc available, skipping.\n"
          ]
        },
        {
          "output_type": "stream",
          "name": "stdout",
          "text": [
            "\b\b\b\b\b\b\b\b\b\b\b\b\b\b\b\b\b\b\b\b\b\b\b\b\b\b\b\b\b\b\b\b\b\b\b\b\b\b\b\b\b\b\b\b\b\b\b\b\b\b\b\b\b\b\b\b\b\b\b\b\b\b\b\b\b\b\b\b\b\b\b\b\b\b\b\b\b\b\b\b\b\b\b\b\r235/235 [==============================] - 2s 9ms/step - loss: 0.0099 - accuracy: 0.9972 - val_loss: 0.6296 - val_accuracy: 0.8442\n",
            "Epoch 60/100\n",
            "232/235 [============================>.] - ETA: 0s - loss: 0.0106 - accuracy: 0.9965"
          ]
        },
        {
          "output_type": "stream",
          "name": "stderr",
          "text": [
            "WARNING:tensorflow:Can save best model only with val_acc available, skipping.\n"
          ]
        },
        {
          "output_type": "stream",
          "name": "stdout",
          "text": [
            "\b\b\b\b\b\b\b\b\b\b\b\b\b\b\b\b\b\b\b\b\b\b\b\b\b\b\b\b\b\b\b\b\b\b\b\b\b\b\b\b\b\b\b\b\b\b\b\b\b\b\b\b\b\b\b\b\b\b\b\b\b\b\b\b\b\b\b\b\b\b\b\b\b\b\b\b\b\b\b\b\b\b\b\b\r235/235 [==============================] - 2s 10ms/step - loss: 0.0105 - accuracy: 0.9965 - val_loss: 0.5243 - val_accuracy: 0.8755\n",
            "Epoch 61/100\n",
            "230/235 [============================>.] - ETA: 0s - loss: 0.0122 - accuracy: 0.9962"
          ]
        },
        {
          "output_type": "stream",
          "name": "stderr",
          "text": [
            "WARNING:tensorflow:Can save best model only with val_acc available, skipping.\n"
          ]
        },
        {
          "output_type": "stream",
          "name": "stdout",
          "text": [
            "\b\b\b\b\b\b\b\b\b\b\b\b\b\b\b\b\b\b\b\b\b\b\b\b\b\b\b\b\b\b\b\b\b\b\b\b\b\b\b\b\b\b\b\b\b\b\b\b\b\b\b\b\b\b\b\b\b\b\b\b\b\b\b\b\b\b\b\b\b\b\b\b\b\b\b\b\b\b\b\b\b\b\b\b\r235/235 [==============================] - 2s 9ms/step - loss: 0.0124 - accuracy: 0.9961 - val_loss: 1.5605 - val_accuracy: 0.6404\n",
            "Epoch 62/100\n",
            "232/235 [============================>.] - ETA: 0s - loss: 0.0110 - accuracy: 0.9964"
          ]
        },
        {
          "output_type": "stream",
          "name": "stderr",
          "text": [
            "WARNING:tensorflow:Can save best model only with val_acc available, skipping.\n"
          ]
        },
        {
          "output_type": "stream",
          "name": "stdout",
          "text": [
            "\b\b\b\b\b\b\b\b\b\b\b\b\b\b\b\b\b\b\b\b\b\b\b\b\b\b\b\b\b\b\b\b\b\b\b\b\b\b\b\b\b\b\b\b\b\b\b\b\b\b\b\b\b\b\b\b\b\b\b\b\b\b\b\b\b\b\b\b\b\b\b\b\b\b\b\b\b\b\b\b\b\b\b\b\r235/235 [==============================] - 2s 9ms/step - loss: 0.0111 - accuracy: 0.9963 - val_loss: 0.8325 - val_accuracy: 0.7764\n",
            "Epoch 63/100\n",
            "229/235 [============================>.] - ETA: 0s - loss: 0.0160 - accuracy: 0.9948"
          ]
        },
        {
          "output_type": "stream",
          "name": "stderr",
          "text": [
            "WARNING:tensorflow:Can save best model only with val_acc available, skipping.\n"
          ]
        },
        {
          "output_type": "stream",
          "name": "stdout",
          "text": [
            "\b\b\b\b\b\b\b\b\b\b\b\b\b\b\b\b\b\b\b\b\b\b\b\b\b\b\b\b\b\b\b\b\b\b\b\b\b\b\b\b\b\b\b\b\b\b\b\b\b\b\b\b\b\b\b\b\b\b\b\b\b\b\b\b\b\b\b\b\b\b\b\b\b\b\b\b\b\b\b\b\b\b\b\b\r235/235 [==============================] - 2s 9ms/step - loss: 0.0158 - accuracy: 0.9949 - val_loss: 0.9176 - val_accuracy: 0.8145\n",
            "Epoch 64/100\n",
            "230/235 [============================>.] - ETA: 0s - loss: 0.0089 - accuracy: 0.9974"
          ]
        },
        {
          "output_type": "stream",
          "name": "stderr",
          "text": [
            "WARNING:tensorflow:Can save best model only with val_acc available, skipping.\n"
          ]
        },
        {
          "output_type": "stream",
          "name": "stdout",
          "text": [
            "\b\b\b\b\b\b\b\b\b\b\b\b\b\b\b\b\b\b\b\b\b\b\b\b\b\b\b\b\b\b\b\b\b\b\b\b\b\b\b\b\b\b\b\b\b\b\b\b\b\b\b\b\b\b\b\b\b\b\b\b\b\b\b\b\b\b\b\b\b\b\b\b\b\b\b\b\b\b\b\b\b\b\b\b\r235/235 [==============================] - 2s 9ms/step - loss: 0.0088 - accuracy: 0.9974 - val_loss: 0.4623 - val_accuracy: 0.8930\n",
            "Epoch 65/100\n",
            "233/235 [============================>.] - ETA: 0s - loss: 0.0084 - accuracy: 0.9974"
          ]
        },
        {
          "output_type": "stream",
          "name": "stderr",
          "text": [
            "WARNING:tensorflow:Can save best model only with val_acc available, skipping.\n"
          ]
        },
        {
          "output_type": "stream",
          "name": "stdout",
          "text": [
            "\b\b\b\b\b\b\b\b\b\b\b\b\b\b\b\b\b\b\b\b\b\b\b\b\b\b\b\b\b\b\b\b\b\b\b\b\b\b\b\b\b\b\b\b\b\b\b\b\b\b\b\b\b\b\b\b\b\b\b\b\b\b\b\b\b\b\b\b\b\b\b\b\b\b\b\b\b\b\b\b\b\b\b\b\r235/235 [==============================] - 2s 9ms/step - loss: 0.0084 - accuracy: 0.9974 - val_loss: 0.9329 - val_accuracy: 0.8019\n",
            "Epoch 66/100\n",
            "235/235 [==============================] - ETA: 0s - loss: 0.0104 - accuracy: 0.9972"
          ]
        },
        {
          "output_type": "stream",
          "name": "stderr",
          "text": [
            "WARNING:tensorflow:Can save best model only with val_acc available, skipping.\n"
          ]
        },
        {
          "output_type": "stream",
          "name": "stdout",
          "text": [
            "\b\b\b\b\b\b\b\b\b\b\b\b\b\b\b\b\b\b\b\b\b\b\b\b\b\b\b\b\b\b\b\b\b\b\b\b\b\b\b\b\b\b\b\b\b\b\b\b\b\b\b\b\b\b\b\b\b\b\b\b\b\b\b\b\b\b\b\b\b\b\b\b\b\b\b\b\b\b\b\b\b\b\b\b\r235/235 [==============================] - 2s 9ms/step - loss: 0.0104 - accuracy: 0.9972 - val_loss: 0.2682 - val_accuracy: 0.9291\n",
            "Epoch 67/100\n",
            "235/235 [==============================] - ETA: 0s - loss: 0.0084 - accuracy: 0.9975"
          ]
        },
        {
          "output_type": "stream",
          "name": "stderr",
          "text": [
            "WARNING:tensorflow:Can save best model only with val_acc available, skipping.\n"
          ]
        },
        {
          "output_type": "stream",
          "name": "stdout",
          "text": [
            "\b\b\b\b\b\b\b\b\b\b\b\b\b\b\b\b\b\b\b\b\b\b\b\b\b\b\b\b\b\b\b\b\b\b\b\b\b\b\b\b\b\b\b\b\b\b\b\b\b\b\b\b\b\b\b\b\b\b\b\b\b\b\b\b\b\b\b\b\b\b\b\b\b\b\b\b\b\b\b\b\b\b\b\b\r235/235 [==============================] - 2s 9ms/step - loss: 0.0084 - accuracy: 0.9975 - val_loss: 0.5657 - val_accuracy: 0.8575\n",
            "Epoch 68/100\n",
            "234/235 [============================>.] - ETA: 0s - loss: 0.0065 - accuracy: 0.9978"
          ]
        },
        {
          "output_type": "stream",
          "name": "stderr",
          "text": [
            "WARNING:tensorflow:Can save best model only with val_acc available, skipping.\n"
          ]
        },
        {
          "output_type": "stream",
          "name": "stdout",
          "text": [
            "\b\b\b\b\b\b\b\b\b\b\b\b\b\b\b\b\b\b\b\b\b\b\b\b\b\b\b\b\b\b\b\b\b\b\b\b\b\b\b\b\b\b\b\b\b\b\b\b\b\b\b\b\b\b\b\b\b\b\b\b\b\b\b\b\b\b\b\b\b\b\b\b\b\b\b\b\b\b\b\b\b\b\b\b\r235/235 [==============================] - 2s 10ms/step - loss: 0.0065 - accuracy: 0.9978 - val_loss: 0.9276 - val_accuracy: 0.8067\n",
            "Epoch 69/100\n",
            "234/235 [============================>.] - ETA: 0s - loss: 0.0109 - accuracy: 0.9967"
          ]
        },
        {
          "output_type": "stream",
          "name": "stderr",
          "text": [
            "WARNING:tensorflow:Can save best model only with val_acc available, skipping.\n"
          ]
        },
        {
          "output_type": "stream",
          "name": "stdout",
          "text": [
            "\b\b\b\b\b\b\b\b\b\b\b\b\b\b\b\b\b\b\b\b\b\b\b\b\b\b\b\b\b\b\b\b\b\b\b\b\b\b\b\b\b\b\b\b\b\b\b\b\b\b\b\b\b\b\b\b\b\b\b\b\b\b\b\b\b\b\b\b\b\b\b\b\b\b\b\b\b\b\b\b\b\b\b\b\r235/235 [==============================] - 2s 9ms/step - loss: 0.0109 - accuracy: 0.9967 - val_loss: 0.5615 - val_accuracy: 0.8633\n",
            "Epoch 70/100\n",
            "232/235 [============================>.] - ETA: 0s - loss: 0.0099 - accuracy: 0.9969"
          ]
        },
        {
          "output_type": "stream",
          "name": "stderr",
          "text": [
            "WARNING:tensorflow:Can save best model only with val_acc available, skipping.\n"
          ]
        },
        {
          "output_type": "stream",
          "name": "stdout",
          "text": [
            "\b\b\b\b\b\b\b\b\b\b\b\b\b\b\b\b\b\b\b\b\b\b\b\b\b\b\b\b\b\b\b\b\b\b\b\b\b\b\b\b\b\b\b\b\b\b\b\b\b\b\b\b\b\b\b\b\b\b\b\b\b\b\b\b\b\b\b\b\b\b\b\b\b\b\b\b\b\b\b\b\b\b\b\b\r235/235 [==============================] - 2s 9ms/step - loss: 0.0099 - accuracy: 0.9969 - val_loss: 0.7734 - val_accuracy: 0.8434\n",
            "Epoch 71/100\n",
            "230/235 [============================>.] - ETA: 0s - loss: 0.0065 - accuracy: 0.9981"
          ]
        },
        {
          "output_type": "stream",
          "name": "stderr",
          "text": [
            "WARNING:tensorflow:Can save best model only with val_acc available, skipping.\n"
          ]
        },
        {
          "output_type": "stream",
          "name": "stdout",
          "text": [
            "\b\b\b\b\b\b\b\b\b\b\b\b\b\b\b\b\b\b\b\b\b\b\b\b\b\b\b\b\b\b\b\b\b\b\b\b\b\b\b\b\b\b\b\b\b\b\b\b\b\b\b\b\b\b\b\b\b\b\b\b\b\b\b\b\b\b\b\b\b\b\b\b\b\b\b\b\b\b\b\b\b\b\b\b\r235/235 [==============================] - 2s 10ms/step - loss: 0.0066 - accuracy: 0.9981 - val_loss: 1.4957 - val_accuracy: 0.7170\n",
            "Epoch 72/100\n",
            "232/235 [============================>.] - ETA: 0s - loss: 0.0088 - accuracy: 0.9970"
          ]
        },
        {
          "output_type": "stream",
          "name": "stderr",
          "text": [
            "WARNING:tensorflow:Can save best model only with val_acc available, skipping.\n"
          ]
        },
        {
          "output_type": "stream",
          "name": "stdout",
          "text": [
            "\b\b\b\b\b\b\b\b\b\b\b\b\b\b\b\b\b\b\b\b\b\b\b\b\b\b\b\b\b\b\b\b\b\b\b\b\b\b\b\b\b\b\b\b\b\b\b\b\b\b\b\b\b\b\b\b\b\b\b\b\b\b\b\b\b\b\b\b\b\b\b\b\b\b\b\b\b\b\b\b\b\b\b\b\r235/235 [==============================] - 2s 10ms/step - loss: 0.0087 - accuracy: 0.9970 - val_loss: 0.7643 - val_accuracy: 0.8429\n",
            "Epoch 73/100\n",
            "231/235 [============================>.] - ETA: 0s - loss: 0.0097 - accuracy: 0.9969"
          ]
        },
        {
          "output_type": "stream",
          "name": "stderr",
          "text": [
            "WARNING:tensorflow:Can save best model only with val_acc available, skipping.\n"
          ]
        },
        {
          "output_type": "stream",
          "name": "stdout",
          "text": [
            "\b\b\b\b\b\b\b\b\b\b\b\b\b\b\b\b\b\b\b\b\b\b\b\b\b\b\b\b\b\b\b\b\b\b\b\b\b\b\b\b\b\b\b\b\b\b\b\b\b\b\b\b\b\b\b\b\b\b\b\b\b\b\b\b\b\b\b\b\b\b\b\b\b\b\b\b\b\b\b\b\b\b\b\b\r235/235 [==============================] - 2s 9ms/step - loss: 0.0096 - accuracy: 0.9970 - val_loss: 0.5969 - val_accuracy: 0.8494\n",
            "Epoch 74/100\n",
            "232/235 [============================>.] - ETA: 0s - loss: 0.0079 - accuracy: 0.9977"
          ]
        },
        {
          "output_type": "stream",
          "name": "stderr",
          "text": [
            "WARNING:tensorflow:Can save best model only with val_acc available, skipping.\n"
          ]
        },
        {
          "output_type": "stream",
          "name": "stdout",
          "text": [
            "\b\b\b\b\b\b\b\b\b\b\b\b\b\b\b\b\b\b\b\b\b\b\b\b\b\b\b\b\b\b\b\b\b\b\b\b\b\b\b\b\b\b\b\b\b\b\b\b\b\b\b\b\b\b\b\b\b\b\b\b\b\b\b\b\b\b\b\b\b\b\b\b\b\b\b\b\b\b\b\b\b\b\b\b\r235/235 [==============================] - 2s 9ms/step - loss: 0.0079 - accuracy: 0.9977 - val_loss: 0.5910 - val_accuracy: 0.8677\n",
            "Epoch 75/100\n",
            "232/235 [============================>.] - ETA: 0s - loss: 0.0083 - accuracy: 0.9977"
          ]
        },
        {
          "output_type": "stream",
          "name": "stderr",
          "text": [
            "WARNING:tensorflow:Can save best model only with val_acc available, skipping.\n"
          ]
        },
        {
          "output_type": "stream",
          "name": "stdout",
          "text": [
            "\b\b\b\b\b\b\b\b\b\b\b\b\b\b\b\b\b\b\b\b\b\b\b\b\b\b\b\b\b\b\b\b\b\b\b\b\b\b\b\b\b\b\b\b\b\b\b\b\b\b\b\b\b\b\b\b\b\b\b\b\b\b\b\b\b\b\b\b\b\b\b\b\b\b\b\b\b\b\b\b\b\b\b\b\r235/235 [==============================] - 2s 9ms/step - loss: 0.0082 - accuracy: 0.9977 - val_loss: 0.3270 - val_accuracy: 0.9218\n",
            "Epoch 76/100\n",
            "233/235 [============================>.] - ETA: 0s - loss: 0.0132 - accuracy: 0.9958"
          ]
        },
        {
          "output_type": "stream",
          "name": "stderr",
          "text": [
            "WARNING:tensorflow:Can save best model only with val_acc available, skipping.\n"
          ]
        },
        {
          "output_type": "stream",
          "name": "stdout",
          "text": [
            "\b\b\b\b\b\b\b\b\b\b\b\b\b\b\b\b\b\b\b\b\b\b\b\b\b\b\b\b\b\b\b\b\b\b\b\b\b\b\b\b\b\b\b\b\b\b\b\b\b\b\b\b\b\b\b\b\b\b\b\b\b\b\b\b\b\b\b\b\b\b\b\b\b\b\b\b\b\b\b\b\b\b\b\b\r235/235 [==============================] - 2s 10ms/step - loss: 0.0132 - accuracy: 0.9958 - val_loss: 1.2695 - val_accuracy: 0.7328\n",
            "Epoch 77/100\n",
            "235/235 [==============================] - ETA: 0s - loss: 0.0085 - accuracy: 0.9971"
          ]
        },
        {
          "output_type": "stream",
          "name": "stderr",
          "text": [
            "WARNING:tensorflow:Can save best model only with val_acc available, skipping.\n"
          ]
        },
        {
          "output_type": "stream",
          "name": "stdout",
          "text": [
            "\b\b\b\b\b\b\b\b\b\b\b\b\b\b\b\b\b\b\b\b\b\b\b\b\b\b\b\b\b\b\b\b\b\b\b\b\b\b\b\b\b\b\b\b\b\b\b\b\b\b\b\b\b\b\b\b\b\b\b\b\b\b\b\b\b\b\b\b\b\b\b\b\b\b\b\b\b\b\b\b\b\b\b\b\r235/235 [==============================] - 2s 10ms/step - loss: 0.0085 - accuracy: 0.9971 - val_loss: 0.4046 - val_accuracy: 0.9046\n",
            "Epoch 78/100\n",
            "230/235 [============================>.] - ETA: 0s - loss: 0.0033 - accuracy: 0.9990"
          ]
        },
        {
          "output_type": "stream",
          "name": "stderr",
          "text": [
            "WARNING:tensorflow:Can save best model only with val_acc available, skipping.\n"
          ]
        },
        {
          "output_type": "stream",
          "name": "stdout",
          "text": [
            "\b\b\b\b\b\b\b\b\b\b\b\b\b\b\b\b\b\b\b\b\b\b\b\b\b\b\b\b\b\b\b\b\b\b\b\b\b\b\b\b\b\b\b\b\b\b\b\b\b\b\b\b\b\b\b\b\b\b\b\b\b\b\b\b\b\b\b\b\b\b\b\b\b\b\b\b\b\b\b\b\b\b\b\b\r235/235 [==============================] - 2s 10ms/step - loss: 0.0035 - accuracy: 0.9989 - val_loss: 0.6621 - val_accuracy: 0.8595\n",
            "Epoch 79/100\n",
            "233/235 [============================>.] - ETA: 0s - loss: 0.0075 - accuracy: 0.9978"
          ]
        },
        {
          "output_type": "stream",
          "name": "stderr",
          "text": [
            "WARNING:tensorflow:Can save best model only with val_acc available, skipping.\n"
          ]
        },
        {
          "output_type": "stream",
          "name": "stdout",
          "text": [
            "\b\b\b\b\b\b\b\b\b\b\b\b\b\b\b\b\b\b\b\b\b\b\b\b\b\b\b\b\b\b\b\b\b\b\b\b\b\b\b\b\b\b\b\b\b\b\b\b\b\b\b\b\b\b\b\b\b\b\b\b\b\b\b\b\b\b\b\b\b\b\b\b\b\b\b\b\b\b\b\b\b\b\b\b\r235/235 [==============================] - 2s 9ms/step - loss: 0.0074 - accuracy: 0.9978 - val_loss: 0.2575 - val_accuracy: 0.9374\n",
            "Epoch 80/100\n",
            "234/235 [============================>.] - ETA: 0s - loss: 0.0096 - accuracy: 0.9971"
          ]
        },
        {
          "output_type": "stream",
          "name": "stderr",
          "text": [
            "WARNING:tensorflow:Can save best model only with val_acc available, skipping.\n"
          ]
        },
        {
          "output_type": "stream",
          "name": "stdout",
          "text": [
            "\b\b\b\b\b\b\b\b\b\b\b\b\b\b\b\b\b\b\b\b\b\b\b\b\b\b\b\b\b\b\b\b\b\b\b\b\b\b\b\b\b\b\b\b\b\b\b\b\b\b\b\b\b\b\b\b\b\b\b\b\b\b\b\b\b\b\b\b\b\b\b\b\b\b\b\b\b\b\b\b\b\b\b\b\r235/235 [==============================] - 2s 10ms/step - loss: 0.0097 - accuracy: 0.9971 - val_loss: 1.0126 - val_accuracy: 0.7813\n",
            "Epoch 81/100\n",
            "233/235 [============================>.] - ETA: 0s - loss: 0.0107 - accuracy: 0.9963"
          ]
        },
        {
          "output_type": "stream",
          "name": "stderr",
          "text": [
            "WARNING:tensorflow:Can save best model only with val_acc available, skipping.\n"
          ]
        },
        {
          "output_type": "stream",
          "name": "stdout",
          "text": [
            "\b\b\b\b\b\b\b\b\b\b\b\b\b\b\b\b\b\b\b\b\b\b\b\b\b\b\b\b\b\b\b\b\b\b\b\b\b\b\b\b\b\b\b\b\b\b\b\b\b\b\b\b\b\b\b\b\b\b\b\b\b\b\b\b\b\b\b\b\b\b\b\b\b\b\b\b\b\b\b\b\b\b\b\b\r235/235 [==============================] - 2s 9ms/step - loss: 0.0106 - accuracy: 0.9963 - val_loss: 0.4777 - val_accuracy: 0.8910\n",
            "Epoch 82/100\n",
            "231/235 [============================>.] - ETA: 0s - loss: 0.0081 - accuracy: 0.9974"
          ]
        },
        {
          "output_type": "stream",
          "name": "stderr",
          "text": [
            "WARNING:tensorflow:Can save best model only with val_acc available, skipping.\n"
          ]
        },
        {
          "output_type": "stream",
          "name": "stdout",
          "text": [
            "\b\b\b\b\b\b\b\b\b\b\b\b\b\b\b\b\b\b\b\b\b\b\b\b\b\b\b\b\b\b\b\b\b\b\b\b\b\b\b\b\b\b\b\b\b\b\b\b\b\b\b\b\b\b\b\b\b\b\b\b\b\b\b\b\b\b\b\b\b\b\b\b\b\b\b\b\b\b\b\b\b\b\b\b\r235/235 [==============================] - 2s 10ms/step - loss: 0.0082 - accuracy: 0.9974 - val_loss: 0.6831 - val_accuracy: 0.8531\n",
            "Epoch 83/100\n",
            "232/235 [============================>.] - ETA: 0s - loss: 0.0096 - accuracy: 0.9972"
          ]
        },
        {
          "output_type": "stream",
          "name": "stderr",
          "text": [
            "WARNING:tensorflow:Can save best model only with val_acc available, skipping.\n"
          ]
        },
        {
          "output_type": "stream",
          "name": "stdout",
          "text": [
            "\b\b\b\b\b\b\b\b\b\b\b\b\b\b\b\b\b\b\b\b\b\b\b\b\b\b\b\b\b\b\b\b\b\b\b\b\b\b\b\b\b\b\b\b\b\b\b\b\b\b\b\b\b\b\b\b\b\b\b\b\b\b\b\b\b\b\b\b\b\b\b\b\b\b\b\b\b\b\b\b\b\b\b\b\r235/235 [==============================] - 2s 9ms/step - loss: 0.0095 - accuracy: 0.9972 - val_loss: 0.6993 - val_accuracy: 0.8310\n",
            "Epoch 84/100\n",
            "231/235 [============================>.] - ETA: 0s - loss: 0.0057 - accuracy: 0.9981"
          ]
        },
        {
          "output_type": "stream",
          "name": "stderr",
          "text": [
            "WARNING:tensorflow:Can save best model only with val_acc available, skipping.\n"
          ]
        },
        {
          "output_type": "stream",
          "name": "stdout",
          "text": [
            "\b\b\b\b\b\b\b\b\b\b\b\b\b\b\b\b\b\b\b\b\b\b\b\b\b\b\b\b\b\b\b\b\b\b\b\b\b\b\b\b\b\b\b\b\b\b\b\b\b\b\b\b\b\b\b\b\b\b\b\b\b\b\b\b\b\b\b\b\b\b\b\b\b\b\b\b\b\b\b\b\b\b\b\b\r235/235 [==============================] - 2s 10ms/step - loss: 0.0057 - accuracy: 0.9982 - val_loss: 0.4391 - val_accuracy: 0.8999\n",
            "Epoch 85/100\n",
            "234/235 [============================>.] - ETA: 0s - loss: 0.0061 - accuracy: 0.9978"
          ]
        },
        {
          "output_type": "stream",
          "name": "stderr",
          "text": [
            "WARNING:tensorflow:Can save best model only with val_acc available, skipping.\n"
          ]
        },
        {
          "output_type": "stream",
          "name": "stdout",
          "text": [
            "\b\b\b\b\b\b\b\b\b\b\b\b\b\b\b\b\b\b\b\b\b\b\b\b\b\b\b\b\b\b\b\b\b\b\b\b\b\b\b\b\b\b\b\b\b\b\b\b\b\b\b\b\b\b\b\b\b\b\b\b\b\b\b\b\b\b\b\b\b\b\b\b\b\b\b\b\b\b\b\b\b\b\b\b\r235/235 [==============================] - 2s 9ms/step - loss: 0.0061 - accuracy: 0.9978 - val_loss: 0.4898 - val_accuracy: 0.8963\n",
            "Epoch 86/100\n",
            "233/235 [============================>.] - ETA: 0s - loss: 0.0106 - accuracy: 0.9963"
          ]
        },
        {
          "output_type": "stream",
          "name": "stderr",
          "text": [
            "WARNING:tensorflow:Can save best model only with val_acc available, skipping.\n"
          ]
        },
        {
          "output_type": "stream",
          "name": "stdout",
          "text": [
            "\b\b\b\b\b\b\b\b\b\b\b\b\b\b\b\b\b\b\b\b\b\b\b\b\b\b\b\b\b\b\b\b\b\b\b\b\b\b\b\b\b\b\b\b\b\b\b\b\b\b\b\b\b\b\b\b\b\b\b\b\b\b\b\b\b\b\b\b\b\b\b\b\b\b\b\b\b\b\b\b\b\b\b\b\r235/235 [==============================] - 2s 9ms/step - loss: 0.0106 - accuracy: 0.9963 - val_loss: 1.8976 - val_accuracy: 0.6319\n",
            "Epoch 87/100\n",
            "231/235 [============================>.] - ETA: 0s - loss: 0.0085 - accuracy: 0.9974"
          ]
        },
        {
          "output_type": "stream",
          "name": "stderr",
          "text": [
            "WARNING:tensorflow:Can save best model only with val_acc available, skipping.\n"
          ]
        },
        {
          "output_type": "stream",
          "name": "stdout",
          "text": [
            "\b\b\b\b\b\b\b\b\b\b\b\b\b\b\b\b\b\b\b\b\b\b\b\b\b\b\b\b\b\b\b\b\b\b\b\b\b\b\b\b\b\b\b\b\b\b\b\b\b\b\b\b\b\b\b\b\b\b\b\b\b\b\b\b\b\b\b\b\b\b\b\b\b\b\b\b\b\b\b\b\b\b\b\b\r235/235 [==============================] - 2s 9ms/step - loss: 0.0085 - accuracy: 0.9974 - val_loss: 0.3381 - val_accuracy: 0.9138\n",
            "Epoch 88/100\n",
            "235/235 [==============================] - ETA: 0s - loss: 0.0050 - accuracy: 0.9985"
          ]
        },
        {
          "output_type": "stream",
          "name": "stderr",
          "text": [
            "WARNING:tensorflow:Can save best model only with val_acc available, skipping.\n"
          ]
        },
        {
          "output_type": "stream",
          "name": "stdout",
          "text": [
            "\b\b\b\b\b\b\b\b\b\b\b\b\b\b\b\b\b\b\b\b\b\b\b\b\b\b\b\b\b\b\b\b\b\b\b\b\b\b\b\b\b\b\b\b\b\b\b\b\b\b\b\b\b\b\b\b\b\b\b\b\b\b\b\b\b\b\b\b\b\b\b\b\b\b\b\b\b\b\b\b\b\b\b\b\r235/235 [==============================] - 2s 9ms/step - loss: 0.0050 - accuracy: 0.9985 - val_loss: 0.4036 - val_accuracy: 0.9060\n",
            "Epoch 89/100\n",
            "233/235 [============================>.] - ETA: 0s - loss: 0.0030 - accuracy: 0.9991"
          ]
        },
        {
          "output_type": "stream",
          "name": "stderr",
          "text": [
            "WARNING:tensorflow:Can save best model only with val_acc available, skipping.\n"
          ]
        },
        {
          "output_type": "stream",
          "name": "stdout",
          "text": [
            "\b\b\b\b\b\b\b\b\b\b\b\b\b\b\b\b\b\b\b\b\b\b\b\b\b\b\b\b\b\b\b\b\b\b\b\b\b\b\b\b\b\b\b\b\b\b\b\b\b\b\b\b\b\b\b\b\b\b\b\b\b\b\b\b\b\b\b\b\b\b\b\b\b\b\b\b\b\b\b\b\b\b\b\b\r235/235 [==============================] - 2s 10ms/step - loss: 0.0030 - accuracy: 0.9991 - val_loss: 0.3871 - val_accuracy: 0.9119\n",
            "Epoch 90/100\n",
            "230/235 [============================>.] - ETA: 0s - loss: 0.0040 - accuracy: 0.9988"
          ]
        },
        {
          "output_type": "stream",
          "name": "stderr",
          "text": [
            "WARNING:tensorflow:Can save best model only with val_acc available, skipping.\n"
          ]
        },
        {
          "output_type": "stream",
          "name": "stdout",
          "text": [
            "\b\b\b\b\b\b\b\b\b\b\b\b\b\b\b\b\b\b\b\b\b\b\b\b\b\b\b\b\b\b\b\b\b\b\b\b\b\b\b\b\b\b\b\b\b\b\b\b\b\b\b\b\b\b\b\b\b\b\b\b\b\b\b\b\b\b\b\b\b\b\b\b\b\b\b\b\b\b\b\b\b\b\b\b\r235/235 [==============================] - 2s 9ms/step - loss: 0.0039 - accuracy: 0.9988 - val_loss: 0.7683 - val_accuracy: 0.8417\n",
            "Epoch 91/100\n",
            "234/235 [============================>.] - ETA: 0s - loss: 0.0088 - accuracy: 0.9973"
          ]
        },
        {
          "output_type": "stream",
          "name": "stderr",
          "text": [
            "WARNING:tensorflow:Can save best model only with val_acc available, skipping.\n"
          ]
        },
        {
          "output_type": "stream",
          "name": "stdout",
          "text": [
            "\b\b\b\b\b\b\b\b\b\b\b\b\b\b\b\b\b\b\b\b\b\b\b\b\b\b\b\b\b\b\b\b\b\b\b\b\b\b\b\b\b\b\b\b\b\b\b\b\b\b\b\b\b\b\b\b\b\b\b\b\b\b\b\b\b\b\b\b\b\b\b\b\b\b\b\b\b\b\b\b\b\b\b\b\r235/235 [==============================] - 2s 9ms/step - loss: 0.0088 - accuracy: 0.9973 - val_loss: 0.2890 - val_accuracy: 0.9278\n",
            "Epoch 92/100\n",
            "232/235 [============================>.] - ETA: 0s - loss: 0.0113 - accuracy: 0.9965"
          ]
        },
        {
          "output_type": "stream",
          "name": "stderr",
          "text": [
            "WARNING:tensorflow:Can save best model only with val_acc available, skipping.\n"
          ]
        },
        {
          "output_type": "stream",
          "name": "stdout",
          "text": [
            "\b\b\b\b\b\b\b\b\b\b\b\b\b\b\b\b\b\b\b\b\b\b\b\b\b\b\b\b\b\b\b\b\b\b\b\b\b\b\b\b\b\b\b\b\b\b\b\b\b\b\b\b\b\b\b\b\b\b\b\b\b\b\b\b\b\b\b\b\b\b\b\b\b\b\b\b\b\b\b\b\b\b\b\b\r235/235 [==============================] - 2s 9ms/step - loss: 0.0112 - accuracy: 0.9965 - val_loss: 1.5012 - val_accuracy: 0.7020\n",
            "Epoch 93/100\n",
            "229/235 [============================>.] - ETA: 0s - loss: 0.0056 - accuracy: 0.9980"
          ]
        },
        {
          "output_type": "stream",
          "name": "stderr",
          "text": [
            "WARNING:tensorflow:Can save best model only with val_acc available, skipping.\n"
          ]
        },
        {
          "output_type": "stream",
          "name": "stdout",
          "text": [
            "\b\b\b\b\b\b\b\b\b\b\b\b\b\b\b\b\b\b\b\b\b\b\b\b\b\b\b\b\b\b\b\b\b\b\b\b\b\b\b\b\b\b\b\b\b\b\b\b\b\b\b\b\b\b\b\b\b\b\b\b\b\b\b\b\b\b\b\b\b\b\b\b\b\b\b\b\b\b\b\b\b\b\b\b\r235/235 [==============================] - 2s 9ms/step - loss: 0.0056 - accuracy: 0.9979 - val_loss: 1.2954 - val_accuracy: 0.7753\n",
            "Epoch 94/100\n",
            "231/235 [============================>.] - ETA: 0s - loss: 0.0090 - accuracy: 0.9973"
          ]
        },
        {
          "output_type": "stream",
          "name": "stderr",
          "text": [
            "WARNING:tensorflow:Can save best model only with val_acc available, skipping.\n"
          ]
        },
        {
          "output_type": "stream",
          "name": "stdout",
          "text": [
            "\b\b\b\b\b\b\b\b\b\b\b\b\b\b\b\b\b\b\b\b\b\b\b\b\b\b\b\b\b\b\b\b\b\b\b\b\b\b\b\b\b\b\b\b\b\b\b\b\b\b\b\b\b\b\b\b\b\b\b\b\b\b\b\b\b\b\b\b\b\b\b\b\b\b\b\b\b\b\b\b\b\b\b\b\r235/235 [==============================] - 2s 9ms/step - loss: 0.0090 - accuracy: 0.9973 - val_loss: 0.8157 - val_accuracy: 0.8206\n",
            "Epoch 95/100\n",
            "231/235 [============================>.] - ETA: 0s - loss: 0.0070 - accuracy: 0.9977"
          ]
        },
        {
          "output_type": "stream",
          "name": "stderr",
          "text": [
            "WARNING:tensorflow:Can save best model only with val_acc available, skipping.\n"
          ]
        },
        {
          "output_type": "stream",
          "name": "stdout",
          "text": [
            "\b\b\b\b\b\b\b\b\b\b\b\b\b\b\b\b\b\b\b\b\b\b\b\b\b\b\b\b\b\b\b\b\b\b\b\b\b\b\b\b\b\b\b\b\b\b\b\b\b\b\b\b\b\b\b\b\b\b\b\b\b\b\b\b\b\b\b\b\b\b\b\b\b\b\b\b\b\b\b\b\b\b\b\b\r235/235 [==============================] - 2s 9ms/step - loss: 0.0069 - accuracy: 0.9977 - val_loss: 0.3162 - val_accuracy: 0.9270\n",
            "Epoch 96/100\n",
            "233/235 [============================>.] - ETA: 0s - loss: 0.0070 - accuracy: 0.9979"
          ]
        },
        {
          "output_type": "stream",
          "name": "stderr",
          "text": [
            "WARNING:tensorflow:Can save best model only with val_acc available, skipping.\n"
          ]
        },
        {
          "output_type": "stream",
          "name": "stdout",
          "text": [
            "\b\b\b\b\b\b\b\b\b\b\b\b\b\b\b\b\b\b\b\b\b\b\b\b\b\b\b\b\b\b\b\b\b\b\b\b\b\b\b\b\b\b\b\b\b\b\b\b\b\b\b\b\b\b\b\b\b\b\b\b\b\b\b\b\b\b\b\b\b\b\b\b\b\b\b\b\b\b\b\b\b\b\b\b\r235/235 [==============================] - 2s 9ms/step - loss: 0.0069 - accuracy: 0.9979 - val_loss: 0.7309 - val_accuracy: 0.8483\n",
            "Epoch 97/100\n",
            "235/235 [==============================] - ETA: 0s - loss: 0.0022 - accuracy: 0.9994"
          ]
        },
        {
          "output_type": "stream",
          "name": "stderr",
          "text": [
            "WARNING:tensorflow:Can save best model only with val_acc available, skipping.\n"
          ]
        },
        {
          "output_type": "stream",
          "name": "stdout",
          "text": [
            "\b\b\b\b\b\b\b\b\b\b\b\b\b\b\b\b\b\b\b\b\b\b\b\b\b\b\b\b\b\b\b\b\b\b\b\b\b\b\b\b\b\b\b\b\b\b\b\b\b\b\b\b\b\b\b\b\b\b\b\b\b\b\b\b\b\b\b\b\b\b\b\b\b\b\b\b\b\b\b\b\b\b\b\b\r235/235 [==============================] - 2s 9ms/step - loss: 0.0022 - accuracy: 0.9994 - val_loss: 0.4056 - val_accuracy: 0.9120\n",
            "Epoch 98/100\n",
            "235/235 [==============================] - ETA: 0s - loss: 0.0057 - accuracy: 0.9982"
          ]
        },
        {
          "output_type": "stream",
          "name": "stderr",
          "text": [
            "WARNING:tensorflow:Can save best model only with val_acc available, skipping.\n"
          ]
        },
        {
          "output_type": "stream",
          "name": "stdout",
          "text": [
            "\b\b\b\b\b\b\b\b\b\b\b\b\b\b\b\b\b\b\b\b\b\b\b\b\b\b\b\b\b\b\b\b\b\b\b\b\b\b\b\b\b\b\b\b\b\b\b\b\b\b\b\b\b\b\b\b\b\b\b\b\b\b\b\b\b\b\b\b\b\b\b\b\b\b\b\b\b\b\b\b\b\b\b\b\r235/235 [==============================] - 2s 10ms/step - loss: 0.0057 - accuracy: 0.9982 - val_loss: 0.6054 - val_accuracy: 0.8698\n",
            "Epoch 99/100\n",
            "232/235 [============================>.] - ETA: 0s - loss: 0.0104 - accuracy: 0.9964"
          ]
        },
        {
          "output_type": "stream",
          "name": "stderr",
          "text": [
            "WARNING:tensorflow:Can save best model only with val_acc available, skipping.\n"
          ]
        },
        {
          "output_type": "stream",
          "name": "stdout",
          "text": [
            "\b\b\b\b\b\b\b\b\b\b\b\b\b\b\b\b\b\b\b\b\b\b\b\b\b\b\b\b\b\b\b\b\b\b\b\b\b\b\b\b\b\b\b\b\b\b\b\b\b\b\b\b\b\b\b\b\b\b\b\b\b\b\b\b\b\b\b\b\b\b\b\b\b\b\b\b\b\b\b\b\b\b\b\b\r235/235 [==============================] - 2s 9ms/step - loss: 0.0103 - accuracy: 0.9965 - val_loss: 0.3315 - val_accuracy: 0.9156\n",
            "Epoch 100/100\n",
            "229/235 [============================>.] - ETA: 0s - loss: 0.0088 - accuracy: 0.9969"
          ]
        },
        {
          "output_type": "stream",
          "name": "stderr",
          "text": [
            "WARNING:tensorflow:Can save best model only with val_acc available, skipping.\n"
          ]
        },
        {
          "output_type": "stream",
          "name": "stdout",
          "text": [
            "\b\b\b\b\b\b\b\b\b\b\b\b\b\b\b\b\b\b\b\b\b\b\b\b\b\b\b\b\b\b\b\b\b\b\b\b\b\b\b\b\b\b\b\b\b\b\b\b\b\b\b\b\b\b\b\b\b\b\b\b\b\b\b\b\b\b\b\b\b\b\b\b\b\b\b\b\b\b\b\b\b\b\b\b\r235/235 [==============================] - 2s 10ms/step - loss: 0.0087 - accuracy: 0.9969 - val_loss: 0.4679 - val_accuracy: 0.8986\n",
            "Duration: 0:03:57.155083\n"
          ]
        }
      ],
      "source": [
        "start_time = datetime.now()\n",
        "history = CNN_Model.fit(x_train_4d, y_train, validation_split=0.2, batch_size = 128, epochs = 100, shuffle=True, callbacks=[callback])\n",
        "end_time = datetime.now()\n",
        "print('Duration: {}'.format(end_time - start_time))\n",
        "\n",
        "CNN_Model.load_weights('drive/MyDrive/SkinMeProject/dataset/CNN_weights.h5')"
      ]
    },
    {
      "cell_type": "markdown",
      "metadata": {
        "id": "nfIapcND3kGk"
      },
      "source": [
        "## **7.3 - MODEL EVALUATION**\n",
        "\n",
        "We can now see the **Model Evaluation**, i.e., how much the model has gone well. First of all, we observe the **Model Accuracy**. This will print the **Accuracy VS Epochs**. We will print out the plot for Accuracy and Validation.\n",
        "\n",
        "As a second step of the Model Evaluation, we have to see the **Model Loss**. We therefore print out the plot for **Loss VS Epochs**.\n",
        "\n",
        "As third step, we will have to compute the predictions of the x-test and compute the Confusion Matrix onto it."
      ]
    },
    {
      "cell_type": "code",
      "execution_count": 17,
      "metadata": {
        "id": "qieCeDDGnEh3",
        "colab": {
          "base_uri": "https://localhost:8080/",
          "height": 636
        },
        "outputId": "11e32058-2170-498b-fe4e-4a8525f4bc29"
      },
      "outputs": [
        {
          "output_type": "display_data",
          "data": {
            "text/plain": [
              "<Figure size 1440x720 with 1 Axes>"
            ],
            "image/png": "[encoded data removed]"
          },
          "metadata": {
            "needs_background": "light"
          }
        }
      ],
      "source": [
        "plt.figure(figsize=(20,10))\n",
        "plt.plot(history.history['accuracy'])\n",
        "plt.plot(history.history['val_accuracy'])\n",
        "plt.title('Model Accuracy', size=25)\n",
        "plt.ylabel('Accuracy', size=15)\n",
        "plt.xlabel('Epochs', size=15)\n",
        "plt.legend(['Training', 'Validation'], loc='bottom right')\n",
        "plt.show()"
      ]
    },
    {
      "cell_type": "code",
      "execution_count": 18,
      "metadata": {
        "id": "8gK_9yQotuky",
        "colab": {
          "base_uri": "https://localhost:8080/",
          "height": 653
        },
        "outputId": "2df96ad0-3c70-411c-c7fc-ad794fd8824c"
      },
      "outputs": [
        {
          "output_type": "execute_result",
          "data": {
            "text/plain": [
              "<matplotlib.legend.Legend at 0x7f69b73d5c40>"
            ]
          },
          "metadata": {},
          "execution_count": 18
        },
        {
          "output_type": "display_data",
          "data": {
            "text/plain": [
              "<Figure size 1440x720 with 1 Axes>"
            ],
            "image/png": "[encoded data removed]"
          },
          "metadata": {
            "needs_background": "light"
          }
        }
      ],
      "source": [
        "plt.figure(figsize=(20,10))\n",
        "plt.plot(history.history['loss'])\n",
        "plt.plot(history.history['val_loss'])\n",
        "plt.title('Model Loss', size=25)\n",
        "plt.ylabel('Loss', size=15)\n",
        "plt.xlabel('Epochs', size=15)\n",
        "plt.legend(['Training', 'Validation'], loc='bottom right')"
      ]
    },
    {
      "cell_type": "code",
      "execution_count": 19,
      "metadata": {
        "id": "KHh_xm9e0kgT",
        "colab": {
          "base_uri": "https://localhost:8080/",
          "height": 682
        },
        "outputId": "62ca270f-187b-4749-9b07-4b9ab70f0f9e"
      },
      "outputs": [
        {
          "output_type": "stream",
          "name": "stdout",
          "text": [
            "63/63 - 1s - loss: 0.2106 - accuracy: 0.9521 - 593ms/epoch - 9ms/step\n",
            "63/63 [==============================] - 0s 3ms/step\n"
          ]
        },
        {
          "output_type": "display_data",
          "data": {
            "text/plain": [
              "<Figure size 720x720 with 2 Axes>"
            ],
            "image/png": "[encoded data removed]"
          },
          "metadata": {
            "needs_background": "light"
          }
        }
      ],
      "source": [
        "# Compute the Loss, taking the x-test.\n",
        "x_test_4d=np.array(x_test).reshape(-1,28,28,3)\n",
        "loss, acc = CNN_Model.evaluate(x_test_4d, y_test, verbose=2)\n",
        "\n",
        "# Making the Prediction of the x-test using our CNN-Model.\n",
        "y_pred = CNN_Model.predict(x_test_4d)\n",
        "y_pred = np.argmax(y_pred, axis=1)\n",
        "\n",
        "#Computing the Confusion Matrix.\n",
        "conf_mat = confusion_matrix(y_test, y_pred)\n",
        "labels_numbers = ['0','1','2','3','4','5','6']\n",
        "fig, ax = plt.subplots(figsize=(10,10)) \n",
        "ax = sns.heatmap(conf_mat, annot=True, cmap='Oranges', linewidths=.9, ax=ax)\n",
        "ax.set_title('Confusion Matrix\\n');\n",
        "ax.set_xlabel('\\nPredicted Values')\n",
        "ax.set_ylabel('Dataset Values');\n",
        "ax.xaxis.set_ticklabels(labels_numbers)\n",
        "ax.yaxis.set_ticklabels(labels_numbers)\n",
        "plt.show()"
      ]
    },
    {
      "cell_type": "markdown",
      "metadata": {
        "id": "kZQmaGqAbqFY"
      },
      "source": [
        "## **STEP 7.4: TESTING THE EXAMPLE**\n",
        "\n",
        "We can now test with our examples the Model. We can see that, by taing some photos from Internet, it will succeed in every prevision!\n"
      ]
    },
    {
      "cell_type": "code",
      "execution_count": 39,
      "metadata": {
        "id": "tBWa4PFe8qCQ",
        "colab": {
          "base_uri": "https://localhost:8080/"
        },
        "outputId": "f5f60187-1df3-4d9f-eb1c-40e3a07af006"
      },
      "outputs": [
        {
          "output_type": "stream",
          "name": "stdout",
          "text": [
            "1/1 [==============================] - 0s 16ms/step\n",
            "('mel', 'melanoma')\n"
          ]
        }
      ],
      "source": [
        "# Get the Image from the folder.\n",
        "test=PIL.Image.open('drive/MyDrive/SkinMeProject/test_imgs/federica.jpg')\n",
        "\n",
        "# Resize the image, and reshape it.\n",
        "test=test.resize((28,28))\n",
        "test_img=x_test_4d[1]\n",
        "test_img=np.array(test).reshape(-1,28,28,3)\n",
        "\n",
        "# Compute the result-prediction of the gicen image.\n",
        "test_result=CNN_Model.predict(test_img)\n",
        "test_result=test_result.tolist()\n",
        "max_prob=max(test_result[0])\n",
        "\n",
        "# Take the index of the result in such a way to map it to the result.\n",
        "test_index=test_result[0].index(max_prob)\n",
        "print(classes[test_index])"
      ]
    },
    {
      "cell_type": "markdown",
      "metadata": {
        "id": "-TBgTrkxb0uW"
      },
      "source": [
        "# **STEP 8: LSTM MODEL**\n",
        "\n",
        "As adversary to the first model we have built, we are going to build an LSTM that will be discovering Diseases in the same way, but using the Long Short Term Memory. "
      ]
    },
    {
      "cell_type": "markdown",
      "metadata": {
        "id": "KC0DIWlwcjn5"
      },
      "source": [
        "## **STEP 8.1: MODEL BUILDING**\n",
        "\n",
        "In order to **Build LSTM Model**, we will first of all reshape the Train and Test Set in 3d. After this, we will use the **Normalization** trick, in such a way to have the data to be cnetered in the mean and divided by the standard deviation. \n",
        "\n",
        "After this, we proceed into creating a **One-Hot-Encoding**. Once finished, we can finally Build our **LSTM Network**. Also here, we have that there is the usage of the **Dropout** trick, with the aim to regularize for reducing overfitting. It is an efficient way of performing model averaging, by randomly \"dropping out\", or omitting, units (both hidden and visible) during the training process of a neural network."
      ]
    },
    {
      "cell_type": "code",
      "execution_count": 22,
      "metadata": {
        "id": "Oq6dxhYbcyqc",
        "colab": {
          "base_uri": "https://localhost:8080/"
        },
        "outputId": "c084aeba-a988-4890-fc1a-31bd80b7c376"
      },
      "outputs": [
        {
          "output_type": "stream",
          "name": "stdout",
          "text": [
            "Model: \"sequential_1\"\n",
            "_________________________________________________________________\n",
            " Layer (type)                Output Shape              Param #   \n",
            "=================================================================\n",
            " lstm (LSTM)                 (None, 28, 64)            38144     \n",
            "                                                                 \n",
            " dropout_3 (Dropout)         (None, 28, 64)            0         \n",
            "                                                                 \n",
            " lstm_1 (LSTM)               (None, 64)                33024     \n",
            "                                                                 \n",
            " dropout_4 (Dropout)         (None, 64)                0         \n",
            "                                                                 \n",
            " dense_5 (Dense)             (None, 7)                 455       \n",
            "                                                                 \n",
            "=================================================================\n",
            "Total params: 71,623\n",
            "Trainable params: 71,623\n",
            "Non-trainable params: 0\n",
            "_________________________________________________________________\n"
          ]
        }
      ],
      "source": [
        "# Parameters for MNIST dataset\n",
        "img_rows, img_cols = 28, 28\n",
        "\n",
        "# Parameters for LSTM network\n",
        "nb_lstm = 64\n",
        "nb_time_steps = 28\n",
        "dim_input_vector = 28\n",
        "\n",
        "# Reshaping Train and Test set.\n",
        "x_train_3d = np.array(x_train, dtype=np.uint8).reshape(-1,28,84)\n",
        "x_test_3d = np.array(x_test, dtype=np.uint8).reshape(-1,28,84)\n",
        "\n",
        "# Normalization\n",
        "x_train_3d = (x_train_3d - np.mean(x_train_3d)) / np.std(x_train_3d)\n",
        "x_test_3d = (x_test_3d - np.mean(x_test_3d)) / np.std(x_test_3d)\n",
        "\n",
        "# Transform the Data in One-Hot-Encoding\n",
        "y_train_3d = keras.utils.np_utils.to_categorical(y_train, 7)\n",
        "y_test_3d = keras.utils.np_utils.to_categorical(y_test, 7)\n",
        "\n",
        "# Building LSTM network\n",
        "start = time.time()\n",
        "LSTM_model = Sequential()\n",
        "LSTM_model.add(LSTM(nb_lstm, input_shape=(nb_time_steps, 84), return_sequences=True))\n",
        "LSTM_model.add(Dropout(0.2))\n",
        "LSTM_model.add(LSTM(nb_lstm, return_sequences=False))\n",
        "LSTM_model.add(Dropout(0.2))\n",
        "LSTM_model.add(Dense(7, activation='softmax'))\n",
        "LSTM_model.summary()\n",
        "\n",
        "#Start downloading the weights, if any, of pre-trained sessions.\n",
        "callback = tf.keras.callbacks.ModelCheckpoint(filepath='drive/MyDrive/SkinMeProject/dataset/LSTM_weights.h5', monitor='val_acc', mode='max', verbose=1)\n",
        "\n",
        "# Complie the Model using the same loss function and optimizer of before.\n",
        "LSTM_model.compile(optimizer='adam', loss='categorical_crossentropy', metrics=['accuracy'])\n",
        "LSTM_model.load_weights('drive/MyDrive/SkinMeProject/dataset/LSTM_weights.h5')\n"
      ]
    },
    {
      "cell_type": "markdown",
      "metadata": {
        "id": "nPxxa11-coxF"
      },
      "source": [
        "## **STEP 8.2: MODEL FITTING**\n",
        "\n",
        "We can now **Fit the Model**, i.e., train it over the 100 epochs."
      ]
    },
    {
      "cell_type": "code",
      "execution_count": 23,
      "metadata": {
        "id": "X6JaQ_-rsy_P",
        "colab": {
          "base_uri": "https://localhost:8080/"
        },
        "outputId": "02bb9c20-a913-4e9b-fb9f-a3fe6defbdf3"
      },
      "outputs": [
        {
          "output_type": "stream",
          "name": "stdout",
          "text": [
            "Epoch 1/100\n",
            "232/235 [============================>.] - ETA: 0s - loss: 0.2494 - accuracy: 0.9405\n",
            "Epoch 1: saving model to drive/MyDrive/SkinMeProject/dataset/LSTM_weights.h5\n",
            "235/235 [==============================] - 9s 12ms/step - loss: 0.2481 - accuracy: 0.9409 - val_loss: 0.7510 - val_accuracy: 0.7921\n",
            "Epoch 2/100\n",
            "234/235 [============================>.] - ETA: 0s - loss: 0.1203 - accuracy: 0.9658\n",
            "Epoch 2: saving model to drive/MyDrive/SkinMeProject/dataset/LSTM_weights.h5\n",
            "235/235 [==============================] - 2s 9ms/step - loss: 0.1203 - accuracy: 0.9658 - val_loss: 0.7782 - val_accuracy: 0.7781\n",
            "Epoch 3/100\n",
            "233/235 [============================>.] - ETA: 0s - loss: 0.0956 - accuracy: 0.9712\n",
            "Epoch 3: saving model to drive/MyDrive/SkinMeProject/dataset/LSTM_weights.h5\n",
            "235/235 [==============================] - 2s 9ms/step - loss: 0.0954 - accuracy: 0.9713 - val_loss: 0.5052 - val_accuracy: 0.8487\n",
            "Epoch 4/100\n",
            "233/235 [============================>.] - ETA: 0s - loss: 0.0742 - accuracy: 0.9783\n",
            "Epoch 4: saving model to drive/MyDrive/SkinMeProject/dataset/LSTM_weights.h5\n",
            "235/235 [==============================] - 2s 10ms/step - loss: 0.0741 - accuracy: 0.9784 - val_loss: 0.8367 - val_accuracy: 0.7758\n",
            "Epoch 5/100\n",
            "231/235 [============================>.] - ETA: 0s - loss: 0.0676 - accuracy: 0.9798\n",
            "Epoch 5: saving model to drive/MyDrive/SkinMeProject/dataset/LSTM_weights.h5\n",
            "235/235 [==============================] - 2s 9ms/step - loss: 0.0677 - accuracy: 0.9798 - val_loss: 0.6313 - val_accuracy: 0.8183\n",
            "Epoch 6/100\n",
            "232/235 [============================>.] - ETA: 0s - loss: 0.0644 - accuracy: 0.9791\n",
            "Epoch 6: saving model to drive/MyDrive/SkinMeProject/dataset/LSTM_weights.h5\n",
            "235/235 [==============================] - 2s 9ms/step - loss: 0.0649 - accuracy: 0.9789 - val_loss: 0.6352 - val_accuracy: 0.8211\n",
            "Epoch 7/100\n",
            "235/235 [==============================] - ETA: 0s - loss: 0.0641 - accuracy: 0.9797\n",
            "Epoch 7: saving model to drive/MyDrive/SkinMeProject/dataset/LSTM_weights.h5\n",
            "235/235 [==============================] - 2s 9ms/step - loss: 0.0641 - accuracy: 0.9797 - val_loss: 0.7996 - val_accuracy: 0.8021\n",
            "Epoch 8/100\n",
            "230/235 [============================>.] - ETA: 0s - loss: 0.0689 - accuracy: 0.9778\n",
            "Epoch 8: saving model to drive/MyDrive/SkinMeProject/dataset/LSTM_weights.h5\n",
            "235/235 [==============================] - 2s 10ms/step - loss: 0.0685 - accuracy: 0.9779 - val_loss: 0.6171 - val_accuracy: 0.8193\n",
            "Epoch 9/100\n",
            "232/235 [============================>.] - ETA: 0s - loss: 0.0607 - accuracy: 0.9805\n",
            "Epoch 9: saving model to drive/MyDrive/SkinMeProject/dataset/LSTM_weights.h5\n",
            "235/235 [==============================] - 2s 9ms/step - loss: 0.0606 - accuracy: 0.9806 - val_loss: 0.6804 - val_accuracy: 0.8047\n",
            "Epoch 10/100\n",
            "235/235 [==============================] - ETA: 0s - loss: 0.0436 - accuracy: 0.9863\n",
            "Epoch 10: saving model to drive/MyDrive/SkinMeProject/dataset/LSTM_weights.h5\n",
            "235/235 [==============================] - 2s 9ms/step - loss: 0.0436 - accuracy: 0.9863 - val_loss: 0.6008 - val_accuracy: 0.8303\n",
            "Epoch 11/100\n",
            "232/235 [============================>.] - ETA: 0s - loss: 0.0415 - accuracy: 0.9868\n",
            "Epoch 11: saving model to drive/MyDrive/SkinMeProject/dataset/LSTM_weights.h5\n",
            "235/235 [==============================] - 2s 9ms/step - loss: 0.0418 - accuracy: 0.9868 - val_loss: 0.7007 - val_accuracy: 0.8135\n",
            "Epoch 12/100\n",
            "234/235 [============================>.] - ETA: 0s - loss: 0.0499 - accuracy: 0.9842\n",
            "Epoch 12: saving model to drive/MyDrive/SkinMeProject/dataset/LSTM_weights.h5\n",
            "235/235 [==============================] - 3s 12ms/step - loss: 0.0499 - accuracy: 0.9842 - val_loss: 0.6552 - val_accuracy: 0.8127\n",
            "Epoch 13/100\n",
            "234/235 [============================>.] - ETA: 0s - loss: 0.0457 - accuracy: 0.9846\n",
            "Epoch 13: saving model to drive/MyDrive/SkinMeProject/dataset/LSTM_weights.h5\n",
            "235/235 [==============================] - 4s 16ms/step - loss: 0.0457 - accuracy: 0.9846 - val_loss: 0.6230 - val_accuracy: 0.8381\n",
            "Epoch 14/100\n",
            "232/235 [============================>.] - ETA: 0s - loss: 0.0434 - accuracy: 0.9850\n",
            "Epoch 14: saving model to drive/MyDrive/SkinMeProject/dataset/LSTM_weights.h5\n",
            "235/235 [==============================] - 2s 9ms/step - loss: 0.0434 - accuracy: 0.9850 - val_loss: 0.5583 - val_accuracy: 0.8603\n",
            "Epoch 15/100\n",
            "231/235 [============================>.] - ETA: 0s - loss: 0.0474 - accuracy: 0.9845\n",
            "Epoch 15: saving model to drive/MyDrive/SkinMeProject/dataset/LSTM_weights.h5\n",
            "235/235 [==============================] - 2s 9ms/step - loss: 0.0474 - accuracy: 0.9845 - val_loss: 0.6542 - val_accuracy: 0.8235\n",
            "Epoch 16/100\n",
            "230/235 [============================>.] - ETA: 0s - loss: 0.0415 - accuracy: 0.9867\n",
            "Epoch 16: saving model to drive/MyDrive/SkinMeProject/dataset/LSTM_weights.h5\n",
            "235/235 [==============================] - 2s 9ms/step - loss: 0.0418 - accuracy: 0.9866 - val_loss: 0.5377 - val_accuracy: 0.8691\n",
            "Epoch 17/100\n",
            "235/235 [==============================] - ETA: 0s - loss: 0.0376 - accuracy: 0.9875\n",
            "Epoch 17: saving model to drive/MyDrive/SkinMeProject/dataset/LSTM_weights.h5\n",
            "235/235 [==============================] - 2s 9ms/step - loss: 0.0376 - accuracy: 0.9875 - val_loss: 0.4727 - val_accuracy: 0.8725\n",
            "Epoch 18/100\n",
            "229/235 [============================>.] - ETA: 0s - loss: 0.0395 - accuracy: 0.9869\n",
            "Epoch 18: saving model to drive/MyDrive/SkinMeProject/dataset/LSTM_weights.h5\n",
            "235/235 [==============================] - 2s 9ms/step - loss: 0.0392 - accuracy: 0.9870 - val_loss: 0.5503 - val_accuracy: 0.8559\n",
            "Epoch 19/100\n",
            "234/235 [============================>.] - ETA: 0s - loss: 0.0272 - accuracy: 0.9912\n",
            "Epoch 19: saving model to drive/MyDrive/SkinMeProject/dataset/LSTM_weights.h5\n",
            "235/235 [==============================] - 2s 9ms/step - loss: 0.0272 - accuracy: 0.9912 - val_loss: 0.6028 - val_accuracy: 0.8559\n",
            "Epoch 20/100\n",
            "234/235 [============================>.] - ETA: 0s - loss: 0.0330 - accuracy: 0.9895\n",
            "Epoch 20: saving model to drive/MyDrive/SkinMeProject/dataset/LSTM_weights.h5\n",
            "235/235 [==============================] - 2s 9ms/step - loss: 0.0331 - accuracy: 0.9895 - val_loss: 0.7973 - val_accuracy: 0.8183\n",
            "Epoch 21/100\n",
            "234/235 [============================>.] - ETA: 0s - loss: 0.0399 - accuracy: 0.9874\n",
            "Epoch 21: saving model to drive/MyDrive/SkinMeProject/dataset/LSTM_weights.h5\n",
            "235/235 [==============================] - 2s 9ms/step - loss: 0.0399 - accuracy: 0.9874 - val_loss: 0.5494 - val_accuracy: 0.8583\n",
            "Epoch 22/100\n",
            "232/235 [============================>.] - ETA: 0s - loss: 0.0341 - accuracy: 0.9889\n",
            "Epoch 22: saving model to drive/MyDrive/SkinMeProject/dataset/LSTM_weights.h5\n",
            "235/235 [==============================] - 2s 9ms/step - loss: 0.0341 - accuracy: 0.9888 - val_loss: 0.5315 - val_accuracy: 0.8670\n",
            "Epoch 23/100\n",
            "230/235 [============================>.] - ETA: 0s - loss: 0.0299 - accuracy: 0.9903\n",
            "Epoch 23: saving model to drive/MyDrive/SkinMeProject/dataset/LSTM_weights.h5\n",
            "235/235 [==============================] - 2s 9ms/step - loss: 0.0298 - accuracy: 0.9903 - val_loss: 0.6077 - val_accuracy: 0.8523\n",
            "Epoch 24/100\n",
            "235/235 [==============================] - ETA: 0s - loss: 0.0332 - accuracy: 0.9894\n",
            "Epoch 24: saving model to drive/MyDrive/SkinMeProject/dataset/LSTM_weights.h5\n",
            "235/235 [==============================] - 2s 9ms/step - loss: 0.0332 - accuracy: 0.9894 - val_loss: 0.5504 - val_accuracy: 0.8633\n",
            "Epoch 25/100\n",
            "231/235 [============================>.] - ETA: 0s - loss: 0.0200 - accuracy: 0.9939\n",
            "Epoch 25: saving model to drive/MyDrive/SkinMeProject/dataset/LSTM_weights.h5\n",
            "235/235 [==============================] - 2s 9ms/step - loss: 0.0199 - accuracy: 0.9940 - val_loss: 0.6893 - val_accuracy: 0.8521\n",
            "Epoch 26/100\n",
            "235/235 [==============================] - ETA: 0s - loss: 0.0340 - accuracy: 0.9891\n",
            "Epoch 26: saving model to drive/MyDrive/SkinMeProject/dataset/LSTM_weights.h5\n",
            "235/235 [==============================] - 2s 9ms/step - loss: 0.0340 - accuracy: 0.9891 - val_loss: 0.8328 - val_accuracy: 0.8067\n",
            "Epoch 27/100\n",
            "231/235 [============================>.] - ETA: 0s - loss: 0.0384 - accuracy: 0.9871\n",
            "Epoch 27: saving model to drive/MyDrive/SkinMeProject/dataset/LSTM_weights.h5\n",
            "235/235 [==============================] - 2s 9ms/step - loss: 0.0384 - accuracy: 0.9872 - val_loss: 0.6453 - val_accuracy: 0.8467\n",
            "Epoch 28/100\n",
            "235/235 [==============================] - ETA: 0s - loss: 0.0544 - accuracy: 0.9826\n",
            "Epoch 28: saving model to drive/MyDrive/SkinMeProject/dataset/LSTM_weights.h5\n",
            "235/235 [==============================] - 2s 9ms/step - loss: 0.0544 - accuracy: 0.9826 - val_loss: 0.7425 - val_accuracy: 0.8195\n",
            "Epoch 29/100\n",
            "232/235 [============================>.] - ETA: 0s - loss: 0.0264 - accuracy: 0.9915\n",
            "Epoch 29: saving model to drive/MyDrive/SkinMeProject/dataset/LSTM_weights.h5\n",
            "235/235 [==============================] - 2s 9ms/step - loss: 0.0263 - accuracy: 0.9915 - val_loss: 0.4118 - val_accuracy: 0.8955\n",
            "Epoch 30/100\n",
            "235/235 [==============================] - ETA: 0s - loss: 0.0301 - accuracy: 0.9908\n",
            "Epoch 30: saving model to drive/MyDrive/SkinMeProject/dataset/LSTM_weights.h5\n",
            "235/235 [==============================] - 2s 9ms/step - loss: 0.0301 - accuracy: 0.9908 - val_loss: 0.5229 - val_accuracy: 0.8780\n",
            "Epoch 31/100\n",
            "232/235 [============================>.] - ETA: 0s - loss: 0.0319 - accuracy: 0.9899\n",
            "Epoch 31: saving model to drive/MyDrive/SkinMeProject/dataset/LSTM_weights.h5\n",
            "235/235 [==============================] - 2s 9ms/step - loss: 0.0318 - accuracy: 0.9899 - val_loss: 0.5728 - val_accuracy: 0.8615\n",
            "Epoch 32/100\n",
            "232/235 [============================>.] - ETA: 0s - loss: 0.0198 - accuracy: 0.9937\n",
            "Epoch 32: saving model to drive/MyDrive/SkinMeProject/dataset/LSTM_weights.h5\n",
            "235/235 [==============================] - 2s 9ms/step - loss: 0.0197 - accuracy: 0.9937 - val_loss: 0.4081 - val_accuracy: 0.8986\n",
            "Epoch 33/100\n",
            "234/235 [============================>.] - ETA: 0s - loss: 0.0338 - accuracy: 0.9902\n",
            "Epoch 33: saving model to drive/MyDrive/SkinMeProject/dataset/LSTM_weights.h5\n",
            "235/235 [==============================] - 2s 9ms/step - loss: 0.0340 - accuracy: 0.9901 - val_loss: 0.6142 - val_accuracy: 0.8538\n",
            "Epoch 34/100\n",
            "234/235 [============================>.] - ETA: 0s - loss: 0.0259 - accuracy: 0.9920\n",
            "Epoch 34: saving model to drive/MyDrive/SkinMeProject/dataset/LSTM_weights.h5\n",
            "235/235 [==============================] - 2s 10ms/step - loss: 0.0263 - accuracy: 0.9919 - val_loss: 0.6598 - val_accuracy: 0.8470\n",
            "Epoch 35/100\n",
            "230/235 [============================>.] - ETA: 0s - loss: 0.0301 - accuracy: 0.9907\n",
            "Epoch 35: saving model to drive/MyDrive/SkinMeProject/dataset/LSTM_weights.h5\n",
            "235/235 [==============================] - 2s 10ms/step - loss: 0.0300 - accuracy: 0.9907 - val_loss: 0.6399 - val_accuracy: 0.8458\n",
            "Epoch 36/100\n",
            "233/235 [============================>.] - ETA: 0s - loss: 0.0259 - accuracy: 0.9923\n",
            "Epoch 36: saving model to drive/MyDrive/SkinMeProject/dataset/LSTM_weights.h5\n",
            "235/235 [==============================] - 2s 9ms/step - loss: 0.0262 - accuracy: 0.9922 - val_loss: 0.6126 - val_accuracy: 0.8602\n",
            "Epoch 37/100\n",
            "230/235 [============================>.] - ETA: 0s - loss: 0.0326 - accuracy: 0.9899\n",
            "Epoch 37: saving model to drive/MyDrive/SkinMeProject/dataset/LSTM_weights.h5\n",
            "235/235 [==============================] - 2s 9ms/step - loss: 0.0325 - accuracy: 0.9900 - val_loss: 0.5624 - val_accuracy: 0.8687\n",
            "Epoch 38/100\n",
            "235/235 [==============================] - ETA: 0s - loss: 0.0202 - accuracy: 0.9936\n",
            "Epoch 38: saving model to drive/MyDrive/SkinMeProject/dataset/LSTM_weights.h5\n",
            "235/235 [==============================] - 2s 9ms/step - loss: 0.0202 - accuracy: 0.9936 - val_loss: 0.6006 - val_accuracy: 0.8677\n",
            "Epoch 39/100\n",
            "233/235 [============================>.] - ETA: 0s - loss: 0.0226 - accuracy: 0.9930\n",
            "Epoch 39: saving model to drive/MyDrive/SkinMeProject/dataset/LSTM_weights.h5\n",
            "235/235 [==============================] - 3s 13ms/step - loss: 0.0229 - accuracy: 0.9929 - val_loss: 0.5846 - val_accuracy: 0.8767\n",
            "Epoch 40/100\n",
            "232/235 [============================>.] - ETA: 0s - loss: 0.0379 - accuracy: 0.9884\n",
            "Epoch 40: saving model to drive/MyDrive/SkinMeProject/dataset/LSTM_weights.h5\n",
            "235/235 [==============================] - 2s 9ms/step - loss: 0.0377 - accuracy: 0.9885 - val_loss: 0.4293 - val_accuracy: 0.8938\n",
            "Epoch 41/100\n",
            "231/235 [============================>.] - ETA: 0s - loss: 0.0147 - accuracy: 0.9953\n",
            "Epoch 41: saving model to drive/MyDrive/SkinMeProject/dataset/LSTM_weights.h5\n",
            "235/235 [==============================] - 2s 9ms/step - loss: 0.0148 - accuracy: 0.9952 - val_loss: 0.7249 - val_accuracy: 0.8494\n",
            "Epoch 42/100\n",
            "230/235 [============================>.] - ETA: 0s - loss: 0.0281 - accuracy: 0.9918\n",
            "Epoch 42: saving model to drive/MyDrive/SkinMeProject/dataset/LSTM_weights.h5\n",
            "235/235 [==============================] - 2s 10ms/step - loss: 0.0281 - accuracy: 0.9918 - val_loss: 0.9928 - val_accuracy: 0.7927\n",
            "Epoch 43/100\n",
            "230/235 [============================>.] - ETA: 0s - loss: 0.0235 - accuracy: 0.9927\n",
            "Epoch 43: saving model to drive/MyDrive/SkinMeProject/dataset/LSTM_weights.h5\n",
            "235/235 [==============================] - 2s 9ms/step - loss: 0.0238 - accuracy: 0.9925 - val_loss: 0.7303 - val_accuracy: 0.8335\n",
            "Epoch 44/100\n",
            "235/235 [==============================] - ETA: 0s - loss: 0.0209 - accuracy: 0.9933\n",
            "Epoch 44: saving model to drive/MyDrive/SkinMeProject/dataset/LSTM_weights.h5\n",
            "235/235 [==============================] - 2s 9ms/step - loss: 0.0209 - accuracy: 0.9933 - val_loss: 0.6165 - val_accuracy: 0.8645\n",
            "Epoch 45/100\n",
            "234/235 [============================>.] - ETA: 0s - loss: 0.0337 - accuracy: 0.9887\n",
            "Epoch 45: saving model to drive/MyDrive/SkinMeProject/dataset/LSTM_weights.h5\n",
            "235/235 [==============================] - 2s 9ms/step - loss: 0.0336 - accuracy: 0.9888 - val_loss: 0.5441 - val_accuracy: 0.8718\n",
            "Epoch 46/100\n",
            "230/235 [============================>.] - ETA: 0s - loss: 0.0223 - accuracy: 0.9929\n",
            "Epoch 46: saving model to drive/MyDrive/SkinMeProject/dataset/LSTM_weights.h5\n",
            "235/235 [==============================] - 2s 9ms/step - loss: 0.0226 - accuracy: 0.9929 - val_loss: 0.6033 - val_accuracy: 0.8642\n",
            "Epoch 47/100\n",
            "230/235 [============================>.] - ETA: 0s - loss: 0.0200 - accuracy: 0.9933\n",
            "Epoch 47: saving model to drive/MyDrive/SkinMeProject/dataset/LSTM_weights.h5\n",
            "235/235 [==============================] - 2s 9ms/step - loss: 0.0201 - accuracy: 0.9933 - val_loss: 0.5888 - val_accuracy: 0.8695\n",
            "Epoch 48/100\n",
            "235/235 [==============================] - ETA: 0s - loss: 0.0219 - accuracy: 0.9932\n",
            "Epoch 48: saving model to drive/MyDrive/SkinMeProject/dataset/LSTM_weights.h5\n",
            "235/235 [==============================] - 2s 10ms/step - loss: 0.0219 - accuracy: 0.9932 - val_loss: 0.5565 - val_accuracy: 0.8892\n",
            "Epoch 49/100\n",
            "234/235 [============================>.] - ETA: 0s - loss: 0.0209 - accuracy: 0.9933\n",
            "Epoch 49: saving model to drive/MyDrive/SkinMeProject/dataset/LSTM_weights.h5\n",
            "235/235 [==============================] - 2s 9ms/step - loss: 0.0209 - accuracy: 0.9933 - val_loss: 0.7085 - val_accuracy: 0.8445\n",
            "Epoch 50/100\n",
            "229/235 [============================>.] - ETA: 0s - loss: 0.0270 - accuracy: 0.9911\n",
            "Epoch 50: saving model to drive/MyDrive/SkinMeProject/dataset/LSTM_weights.h5\n",
            "235/235 [==============================] - 2s 9ms/step - loss: 0.0270 - accuracy: 0.9911 - val_loss: 0.7662 - val_accuracy: 0.8350\n",
            "Epoch 51/100\n",
            "234/235 [============================>.] - ETA: 0s - loss: 0.0270 - accuracy: 0.9915\n",
            "Epoch 51: saving model to drive/MyDrive/SkinMeProject/dataset/LSTM_weights.h5\n",
            "235/235 [==============================] - 2s 9ms/step - loss: 0.0273 - accuracy: 0.9914 - val_loss: 0.7049 - val_accuracy: 0.8421\n",
            "Epoch 52/100\n",
            "235/235 [==============================] - ETA: 0s - loss: 0.0238 - accuracy: 0.9924\n",
            "Epoch 52: saving model to drive/MyDrive/SkinMeProject/dataset/LSTM_weights.h5\n",
            "235/235 [==============================] - 2s 10ms/step - loss: 0.0238 - accuracy: 0.9924 - val_loss: 0.7132 - val_accuracy: 0.8438\n",
            "Epoch 53/100\n",
            "229/235 [============================>.] - ETA: 0s - loss: 0.0190 - accuracy: 0.9936\n",
            "Epoch 53: saving model to drive/MyDrive/SkinMeProject/dataset/LSTM_weights.h5\n",
            "235/235 [==============================] - 2s 10ms/step - loss: 0.0189 - accuracy: 0.9937 - val_loss: 0.6023 - val_accuracy: 0.8721\n",
            "Epoch 54/100\n",
            "231/235 [============================>.] - ETA: 0s - loss: 0.0126 - accuracy: 0.9962\n",
            "Epoch 54: saving model to drive/MyDrive/SkinMeProject/dataset/LSTM_weights.h5\n",
            "235/235 [==============================] - 2s 9ms/step - loss: 0.0125 - accuracy: 0.9962 - val_loss: 0.6447 - val_accuracy: 0.8719\n",
            "Epoch 55/100\n",
            "231/235 [============================>.] - ETA: 0s - loss: 0.0300 - accuracy: 0.9905\n",
            "Epoch 55: saving model to drive/MyDrive/SkinMeProject/dataset/LSTM_weights.h5\n",
            "235/235 [==============================] - 2s 9ms/step - loss: 0.0298 - accuracy: 0.9905 - val_loss: 0.5322 - val_accuracy: 0.8799\n",
            "Epoch 56/100\n",
            "230/235 [============================>.] - ETA: 0s - loss: 0.0277 - accuracy: 0.9925\n",
            "Epoch 56: saving model to drive/MyDrive/SkinMeProject/dataset/LSTM_weights.h5\n",
            "235/235 [==============================] - 2s 10ms/step - loss: 0.0278 - accuracy: 0.9925 - val_loss: 0.4770 - val_accuracy: 0.8948\n",
            "Epoch 57/100\n",
            "233/235 [============================>.] - ETA: 0s - loss: 0.0163 - accuracy: 0.9951\n",
            "Epoch 57: saving model to drive/MyDrive/SkinMeProject/dataset/LSTM_weights.h5\n",
            "235/235 [==============================] - 2s 10ms/step - loss: 0.0163 - accuracy: 0.9951 - val_loss: 0.5554 - val_accuracy: 0.8812\n",
            "Epoch 58/100\n",
            "235/235 [==============================] - ETA: 0s - loss: 0.0215 - accuracy: 0.9932\n",
            "Epoch 58: saving model to drive/MyDrive/SkinMeProject/dataset/LSTM_weights.h5\n",
            "235/235 [==============================] - 2s 9ms/step - loss: 0.0215 - accuracy: 0.9932 - val_loss: 0.7108 - val_accuracy: 0.8398\n",
            "Epoch 59/100\n",
            "233/235 [============================>.] - ETA: 0s - loss: 0.0307 - accuracy: 0.9909\n",
            "Epoch 59: saving model to drive/MyDrive/SkinMeProject/dataset/LSTM_weights.h5\n",
            "235/235 [==============================] - 2s 9ms/step - loss: 0.0305 - accuracy: 0.9910 - val_loss: 0.6397 - val_accuracy: 0.8575\n",
            "Epoch 60/100\n",
            "230/235 [============================>.] - ETA: 0s - loss: 0.0198 - accuracy: 0.9939\n",
            "Epoch 60: saving model to drive/MyDrive/SkinMeProject/dataset/LSTM_weights.h5\n",
            "235/235 [==============================] - 2s 9ms/step - loss: 0.0201 - accuracy: 0.9937 - val_loss: 0.5469 - val_accuracy: 0.8880\n",
            "Epoch 61/100\n",
            "233/235 [============================>.] - ETA: 0s - loss: 0.0166 - accuracy: 0.9945\n",
            "Epoch 61: saving model to drive/MyDrive/SkinMeProject/dataset/LSTM_weights.h5\n",
            "235/235 [==============================] - 2s 10ms/step - loss: 0.0167 - accuracy: 0.9945 - val_loss: 0.6258 - val_accuracy: 0.8718\n",
            "Epoch 62/100\n",
            "233/235 [============================>.] - ETA: 0s - loss: 0.0290 - accuracy: 0.9904\n",
            "Epoch 62: saving model to drive/MyDrive/SkinMeProject/dataset/LSTM_weights.h5\n",
            "235/235 [==============================] - 2s 9ms/step - loss: 0.0289 - accuracy: 0.9905 - val_loss: 0.5271 - val_accuracy: 0.8874\n",
            "Epoch 63/100\n",
            "233/235 [============================>.] - ETA: 0s - loss: 0.0226 - accuracy: 0.9927\n",
            "Epoch 63: saving model to drive/MyDrive/SkinMeProject/dataset/LSTM_weights.h5\n",
            "235/235 [==============================] - 2s 9ms/step - loss: 0.0226 - accuracy: 0.9927 - val_loss: 0.6474 - val_accuracy: 0.8585\n",
            "Epoch 64/100\n",
            "232/235 [============================>.] - ETA: 0s - loss: 0.0174 - accuracy: 0.9944\n",
            "Epoch 64: saving model to drive/MyDrive/SkinMeProject/dataset/LSTM_weights.h5\n",
            "235/235 [==============================] - 2s 9ms/step - loss: 0.0173 - accuracy: 0.9944 - val_loss: 0.6234 - val_accuracy: 0.8726\n",
            "Epoch 65/100\n",
            "235/235 [==============================] - ETA: 0s - loss: 0.0216 - accuracy: 0.9932\n",
            "Epoch 65: saving model to drive/MyDrive/SkinMeProject/dataset/LSTM_weights.h5\n",
            "235/235 [==============================] - 2s 10ms/step - loss: 0.0216 - accuracy: 0.9932 - val_loss: 0.6411 - val_accuracy: 0.8655\n",
            "Epoch 66/100\n",
            "230/235 [============================>.] - ETA: 0s - loss: 0.0207 - accuracy: 0.9940\n",
            "Epoch 66: saving model to drive/MyDrive/SkinMeProject/dataset/LSTM_weights.h5\n",
            "235/235 [==============================] - 2s 9ms/step - loss: 0.0208 - accuracy: 0.9940 - val_loss: 0.4512 - val_accuracy: 0.9034\n",
            "Epoch 67/100\n",
            "230/235 [============================>.] - ETA: 0s - loss: 0.0228 - accuracy: 0.9929\n",
            "Epoch 67: saving model to drive/MyDrive/SkinMeProject/dataset/LSTM_weights.h5\n",
            "235/235 [==============================] - 2s 9ms/step - loss: 0.0228 - accuracy: 0.9928 - val_loss: 0.7645 - val_accuracy: 0.8442\n",
            "Epoch 68/100\n",
            "230/235 [============================>.] - ETA: 0s - loss: 0.0271 - accuracy: 0.9920\n",
            "Epoch 68: saving model to drive/MyDrive/SkinMeProject/dataset/LSTM_weights.h5\n",
            "235/235 [==============================] - 2s 9ms/step - loss: 0.0270 - accuracy: 0.9920 - val_loss: 0.6474 - val_accuracy: 0.8639\n",
            "Epoch 69/100\n",
            "235/235 [==============================] - ETA: 0s - loss: 0.0115 - accuracy: 0.9962\n",
            "Epoch 69: saving model to drive/MyDrive/SkinMeProject/dataset/LSTM_weights.h5\n",
            "235/235 [==============================] - 2s 9ms/step - loss: 0.0115 - accuracy: 0.9962 - val_loss: 0.7277 - val_accuracy: 0.8554\n",
            "Epoch 70/100\n",
            "231/235 [============================>.] - ETA: 0s - loss: 0.0114 - accuracy: 0.9964\n",
            "Epoch 70: saving model to drive/MyDrive/SkinMeProject/dataset/LSTM_weights.h5\n",
            "235/235 [==============================] - 2s 9ms/step - loss: 0.0114 - accuracy: 0.9964 - val_loss: 0.6562 - val_accuracy: 0.8626\n",
            "Epoch 71/100\n",
            "235/235 [==============================] - ETA: 0s - loss: 0.0135 - accuracy: 0.9960\n",
            "Epoch 71: saving model to drive/MyDrive/SkinMeProject/dataset/LSTM_weights.h5\n",
            "235/235 [==============================] - 2s 9ms/step - loss: 0.0135 - accuracy: 0.9960 - val_loss: 0.5779 - val_accuracy: 0.8838\n",
            "Epoch 72/100\n",
            "233/235 [============================>.] - ETA: 0s - loss: 0.0234 - accuracy: 0.9926\n",
            "Epoch 72: saving model to drive/MyDrive/SkinMeProject/dataset/LSTM_weights.h5\n",
            "235/235 [==============================] - 3s 14ms/step - loss: 0.0234 - accuracy: 0.9926 - val_loss: 0.5245 - val_accuracy: 0.8884\n",
            "Epoch 73/100\n",
            "234/235 [============================>.] - ETA: 0s - loss: 0.0254 - accuracy: 0.9915\n",
            "Epoch 73: saving model to drive/MyDrive/SkinMeProject/dataset/LSTM_weights.h5\n",
            "235/235 [==============================] - 4s 15ms/step - loss: 0.0254 - accuracy: 0.9915 - val_loss: 0.5653 - val_accuracy: 0.8800\n",
            "Epoch 74/100\n",
            "234/235 [============================>.] - ETA: 0s - loss: 0.0159 - accuracy: 0.9948\n",
            "Epoch 74: saving model to drive/MyDrive/SkinMeProject/dataset/LSTM_weights.h5\n",
            "235/235 [==============================] - 2s 10ms/step - loss: 0.0159 - accuracy: 0.9948 - val_loss: 0.7108 - val_accuracy: 0.8642\n",
            "Epoch 75/100\n",
            "233/235 [============================>.] - ETA: 0s - loss: 0.0187 - accuracy: 0.9944\n",
            "Epoch 75: saving model to drive/MyDrive/SkinMeProject/dataset/LSTM_weights.h5\n",
            "235/235 [==============================] - 2s 9ms/step - loss: 0.0187 - accuracy: 0.9944 - val_loss: 0.8241 - val_accuracy: 0.8326\n",
            "Epoch 76/100\n",
            "229/235 [============================>.] - ETA: 0s - loss: 0.0165 - accuracy: 0.9954\n",
            "Epoch 76: saving model to drive/MyDrive/SkinMeProject/dataset/LSTM_weights.h5\n",
            "235/235 [==============================] - 2s 9ms/step - loss: 0.0164 - accuracy: 0.9954 - val_loss: 0.5563 - val_accuracy: 0.8844\n",
            "Epoch 77/100\n",
            "229/235 [============================>.] - ETA: 0s - loss: 0.0168 - accuracy: 0.9950\n",
            "Epoch 77: saving model to drive/MyDrive/SkinMeProject/dataset/LSTM_weights.h5\n",
            "235/235 [==============================] - 2s 9ms/step - loss: 0.0170 - accuracy: 0.9949 - val_loss: 0.6901 - val_accuracy: 0.8618\n",
            "Epoch 78/100\n",
            "235/235 [==============================] - ETA: 0s - loss: 0.0138 - accuracy: 0.9955\n",
            "Epoch 78: saving model to drive/MyDrive/SkinMeProject/dataset/LSTM_weights.h5\n",
            "235/235 [==============================] - 2s 9ms/step - loss: 0.0138 - accuracy: 0.9955 - val_loss: 0.5679 - val_accuracy: 0.8898\n",
            "Epoch 79/100\n",
            "230/235 [============================>.] - ETA: 0s - loss: 0.0189 - accuracy: 0.9942\n",
            "Epoch 79: saving model to drive/MyDrive/SkinMeProject/dataset/LSTM_weights.h5\n",
            "235/235 [==============================] - 2s 10ms/step - loss: 0.0193 - accuracy: 0.9941 - val_loss: 0.6817 - val_accuracy: 0.8670\n",
            "Epoch 80/100\n",
            "232/235 [============================>.] - ETA: 0s - loss: 0.0280 - accuracy: 0.9911\n",
            "Epoch 80: saving model to drive/MyDrive/SkinMeProject/dataset/LSTM_weights.h5\n",
            "235/235 [==============================] - 2s 9ms/step - loss: 0.0278 - accuracy: 0.9911 - val_loss: 0.5146 - val_accuracy: 0.8843\n",
            "Epoch 81/100\n",
            "229/235 [============================>.] - ETA: 0s - loss: 0.0156 - accuracy: 0.9948\n",
            "Epoch 81: saving model to drive/MyDrive/SkinMeProject/dataset/LSTM_weights.h5\n",
            "235/235 [==============================] - 2s 9ms/step - loss: 0.0156 - accuracy: 0.9948 - val_loss: 0.6245 - val_accuracy: 0.8718\n",
            "Epoch 82/100\n",
            "234/235 [============================>.] - ETA: 0s - loss: 0.0142 - accuracy: 0.9958\n",
            "Epoch 82: saving model to drive/MyDrive/SkinMeProject/dataset/LSTM_weights.h5\n",
            "235/235 [==============================] - 2s 9ms/step - loss: 0.0142 - accuracy: 0.9958 - val_loss: 0.7972 - val_accuracy: 0.8487\n",
            "Epoch 83/100\n",
            "231/235 [============================>.] - ETA: 0s - loss: 0.0223 - accuracy: 0.9935\n",
            "Epoch 83: saving model to drive/MyDrive/SkinMeProject/dataset/LSTM_weights.h5\n",
            "235/235 [==============================] - 2s 10ms/step - loss: 0.0223 - accuracy: 0.9934 - val_loss: 0.6984 - val_accuracy: 0.8585\n",
            "Epoch 84/100\n",
            "233/235 [============================>.] - ETA: 0s - loss: 0.0248 - accuracy: 0.9931\n",
            "Epoch 84: saving model to drive/MyDrive/SkinMeProject/dataset/LSTM_weights.h5\n",
            "235/235 [==============================] - 2s 9ms/step - loss: 0.0250 - accuracy: 0.9931 - val_loss: 0.6855 - val_accuracy: 0.8530\n",
            "Epoch 85/100\n",
            "229/235 [============================>.] - ETA: 0s - loss: 0.0175 - accuracy: 0.9951\n",
            "Epoch 85: saving model to drive/MyDrive/SkinMeProject/dataset/LSTM_weights.h5\n",
            "235/235 [==============================] - 2s 9ms/step - loss: 0.0174 - accuracy: 0.9951 - val_loss: 0.4109 - val_accuracy: 0.9174\n",
            "Epoch 86/100\n",
            "232/235 [============================>.] - ETA: 0s - loss: 0.0203 - accuracy: 0.9942\n",
            "Epoch 86: saving model to drive/MyDrive/SkinMeProject/dataset/LSTM_weights.h5\n",
            "235/235 [==============================] - 2s 10ms/step - loss: 0.0204 - accuracy: 0.9942 - val_loss: 0.5175 - val_accuracy: 0.8934\n",
            "Epoch 87/100\n",
            "231/235 [============================>.] - ETA: 0s - loss: 0.0194 - accuracy: 0.9939\n",
            "Epoch 87: saving model to drive/MyDrive/SkinMeProject/dataset/LSTM_weights.h5\n",
            "235/235 [==============================] - 2s 9ms/step - loss: 0.0193 - accuracy: 0.9940 - val_loss: 0.5988 - val_accuracy: 0.8786\n",
            "Epoch 88/100\n",
            "235/235 [==============================] - ETA: 0s - loss: 0.0188 - accuracy: 0.9943\n",
            "Epoch 88: saving model to drive/MyDrive/SkinMeProject/dataset/LSTM_weights.h5\n",
            "235/235 [==============================] - 2s 10ms/step - loss: 0.0188 - accuracy: 0.9943 - val_loss: 0.5109 - val_accuracy: 0.8931\n",
            "Epoch 89/100\n",
            "231/235 [============================>.] - ETA: 0s - loss: 0.0200 - accuracy: 0.9945\n",
            "Epoch 89: saving model to drive/MyDrive/SkinMeProject/dataset/LSTM_weights.h5\n",
            "235/235 [==============================] - 2s 9ms/step - loss: 0.0199 - accuracy: 0.9945 - val_loss: 0.5208 - val_accuracy: 0.8895\n",
            "Epoch 90/100\n",
            "230/235 [============================>.] - ETA: 0s - loss: 0.0143 - accuracy: 0.9956\n",
            "Epoch 90: saving model to drive/MyDrive/SkinMeProject/dataset/LSTM_weights.h5\n",
            "235/235 [==============================] - 2s 9ms/step - loss: 0.0147 - accuracy: 0.9955 - val_loss: 0.9686 - val_accuracy: 0.8073\n",
            "Epoch 91/100\n",
            "229/235 [============================>.] - ETA: 0s - loss: 0.0229 - accuracy: 0.9928\n",
            "Epoch 91: saving model to drive/MyDrive/SkinMeProject/dataset/LSTM_weights.h5\n",
            "235/235 [==============================] - 2s 10ms/step - loss: 0.0226 - accuracy: 0.9929 - val_loss: 0.5268 - val_accuracy: 0.8894\n",
            "Epoch 92/100\n",
            "231/235 [============================>.] - ETA: 0s - loss: 0.0134 - accuracy: 0.9959\n",
            "Epoch 92: saving model to drive/MyDrive/SkinMeProject/dataset/LSTM_weights.h5\n",
            "235/235 [==============================] - 2s 9ms/step - loss: 0.0134 - accuracy: 0.9959 - val_loss: 0.6605 - val_accuracy: 0.8694\n",
            "Epoch 93/100\n",
            "235/235 [==============================] - ETA: 0s - loss: 0.0139 - accuracy: 0.9958\n",
            "Epoch 93: saving model to drive/MyDrive/SkinMeProject/dataset/LSTM_weights.h5\n",
            "235/235 [==============================] - 2s 9ms/step - loss: 0.0139 - accuracy: 0.9958 - val_loss: 0.5615 - val_accuracy: 0.8899\n",
            "Epoch 94/100\n",
            "230/235 [============================>.] - ETA: 0s - loss: 0.0151 - accuracy: 0.9954\n",
            "Epoch 94: saving model to drive/MyDrive/SkinMeProject/dataset/LSTM_weights.h5\n",
            "235/235 [==============================] - 2s 9ms/step - loss: 0.0156 - accuracy: 0.9954 - val_loss: 0.7218 - val_accuracy: 0.8719\n",
            "Epoch 95/100\n",
            "231/235 [============================>.] - ETA: 0s - loss: 0.0175 - accuracy: 0.9948\n",
            "Epoch 95: saving model to drive/MyDrive/SkinMeProject/dataset/LSTM_weights.h5\n",
            "235/235 [==============================] - 2s 9ms/step - loss: 0.0175 - accuracy: 0.9947 - val_loss: 0.6131 - val_accuracy: 0.8776\n",
            "Epoch 96/100\n",
            "234/235 [============================>.] - ETA: 0s - loss: 0.0152 - accuracy: 0.9947\n",
            "Epoch 96: saving model to drive/MyDrive/SkinMeProject/dataset/LSTM_weights.h5\n",
            "235/235 [==============================] - 2s 9ms/step - loss: 0.0152 - accuracy: 0.9947 - val_loss: 0.8638 - val_accuracy: 0.8455\n",
            "Epoch 97/100\n",
            "232/235 [============================>.] - ETA: 0s - loss: 0.0097 - accuracy: 0.9971\n",
            "Epoch 97: saving model to drive/MyDrive/SkinMeProject/dataset/LSTM_weights.h5\n",
            "235/235 [==============================] - 2s 10ms/step - loss: 0.0098 - accuracy: 0.9971 - val_loss: 0.5812 - val_accuracy: 0.8879\n",
            "Epoch 98/100\n",
            "232/235 [============================>.] - ETA: 0s - loss: 0.0091 - accuracy: 0.9975\n",
            "Epoch 98: saving model to drive/MyDrive/SkinMeProject/dataset/LSTM_weights.h5\n",
            "235/235 [==============================] - 2s 10ms/step - loss: 0.0096 - accuracy: 0.9974 - val_loss: 0.5365 - val_accuracy: 0.8944\n",
            "Epoch 99/100\n",
            "230/235 [============================>.] - ETA: 0s - loss: 0.0184 - accuracy: 0.9943\n",
            "Epoch 99: saving model to drive/MyDrive/SkinMeProject/dataset/LSTM_weights.h5\n",
            "235/235 [==============================] - 2s 9ms/step - loss: 0.0187 - accuracy: 0.9943 - val_loss: 0.6198 - val_accuracy: 0.8770\n",
            "Epoch 100/100\n",
            "230/235 [============================>.] - ETA: 0s - loss: 0.0251 - accuracy: 0.9927\n",
            "Epoch 100: saving model to drive/MyDrive/SkinMeProject/dataset/LSTM_weights.h5\n",
            "235/235 [==============================] - 2s 9ms/step - loss: 0.0249 - accuracy: 0.9927 - val_loss: 0.5414 - val_accuracy: 0.8934\n"
          ]
        }
      ],
      "source": [
        "start = time.time()\n",
        "# Fitting the model\n",
        "history = LSTM_model.fit(x_train_3d, y_train_3d, epochs=100, batch_size=128, callbacks=[callback], validation_split = 0.2)\n",
        "stop = time.time()"
      ]
    },
    {
      "cell_type": "markdown",
      "metadata": {
        "id": "CqZjJk_4coq2"
      },
      "source": [
        "## **8.4 - MODEL EVALUATION**\n",
        "\n",
        "We can now see the **Model Evaluation**, i.e., how much the model has gone well. First of all, we observe the **Model Accuracy**. This will print the **Accuracy VS Epochs**. We will print out the plot for Accuracy and Validation.\n",
        "\n",
        "As a second step of the Model Evaluation, we have to see the **Model Loss**. We therefore print out the plot for **Loss VS Epochs**.\n",
        "\n",
        "As third step, we will have to compute the predictions of the x-test and compute the Confusion Matrix onto it."
      ]
    },
    {
      "cell_type": "code",
      "execution_count": 24,
      "metadata": {
        "id": "McuoFIMCtAZo",
        "colab": {
          "base_uri": "https://localhost:8080/",
          "height": 636
        },
        "outputId": "96335574-d04f-40aa-c253-64dff7bd64a8"
      },
      "outputs": [
        {
          "output_type": "display_data",
          "data": {
            "text/plain": [
              "<Figure size 1440x720 with 1 Axes>"
            ],
            "image/png": "[encoded data removed]"
          },
          "metadata": {
            "needs_background": "light"
          }
        }
      ],
      "source": [
        "plt.figure(figsize=(20,10))\n",
        "plt.plot(history.history['accuracy'])\n",
        "plt.plot(history.history['val_accuracy'])\n",
        "plt.title('Model Accuracy', size=25)\n",
        "plt.ylabel('Accuracy', size=15)\n",
        "plt.xlabel('Epochs', size=15)\n",
        "plt.legend(['Training', 'Validation'], loc='bottom right')\n",
        "plt.show()"
      ]
    },
    {
      "cell_type": "code",
      "execution_count": 25,
      "metadata": {
        "id": "YUY2_osDtSgJ",
        "colab": {
          "base_uri": "https://localhost:8080/",
          "height": 653
        },
        "outputId": "d4af7b4e-2cda-46d9-809b-c72d7f856f94"
      },
      "outputs": [
        {
          "output_type": "execute_result",
          "data": {
            "text/plain": [
              "<matplotlib.legend.Legend at 0x7f6946eb7c40>"
            ]
          },
          "metadata": {},
          "execution_count": 25
        },
        {
          "output_type": "display_data",
          "data": {
            "text/plain": [
              "<Figure size 1440x720 with 1 Axes>"
            ],
            "image/png": "[encoded data removed]"
          },
          "metadata": {
            "needs_background": "light"
          }
        }
      ],
      "source": [
        "plt.figure(figsize=(20,10))\n",
        "plt.plot(history.history['loss'])\n",
        "plt.plot(history.history['val_loss'])\n",
        "plt.title('Model Loss', size=25)\n",
        "plt.ylabel('Loss', size=15)\n",
        "plt.xlabel('Epochs', size=15)\n",
        "plt.legend(['Training', 'Validation'], loc='bottom right')"
      ]
    },
    {
      "cell_type": "code",
      "execution_count": 26,
      "metadata": {
        "id": "7ErQ9gMrtW3l",
        "colab": {
          "base_uri": "https://localhost:8080/",
          "height": 682
        },
        "outputId": "2bb54822-272c-47ab-9268-9306c304c093"
      },
      "outputs": [
        {
          "output_type": "stream",
          "name": "stdout",
          "text": [
            "63/63 - 0s - loss: 1.4597 - accuracy: 0.7414 - 236ms/epoch - 4ms/step\n",
            "63/63 [==============================] - 1s 3ms/step\n"
          ]
        },
        {
          "output_type": "display_data",
          "data": {
            "text/plain": [
              "<Figure size 720x720 with 2 Axes>"
            ],
            "image/png": "[encoded data removed]"
          },
          "metadata": {
            "needs_background": "light"
          }
        }
      ],
      "source": [
        "loss, acc = LSTM_model.evaluate(x_test_3d, y_test_3d, verbose=2)\n",
        "\n",
        "# Prediction of the LSTM_model Prediction.\n",
        "y_pred = LSTM_model.predict(x_test_3d)\n",
        "y_pred = np.argmax(y_pred, axis=1)\n",
        "\n",
        "# Computation of the actual Confusion Matrix.\n",
        "conf_mat = confusion_matrix(y_test, y_pred)\n",
        "fig, ax = plt.subplots(figsize=(10,10)) \n",
        "ax = sns.heatmap(conf_mat, annot=True, cmap='Greens', linewidths=.9, ax=ax)\n",
        "ax.set_title('Confusion Matrix\\n');\n",
        "ax.set_xlabel('\\nPredicted Values')\n",
        "ax.set_ylabel('Dataset Values ');\n",
        "ax.xaxis.set_ticklabels(labels_numbers)\n",
        "ax.yaxis.set_ticklabels(labels_numbers)\n",
        "plt.show()"
      ]
    },
    {
      "cell_type": "markdown",
      "metadata": {
        "id": "h6xdMyQfcont"
      },
      "source": [
        "## **8.4 - TEST EXAMPLE**\n",
        "\n",
        "We can finally check also here the Test-Image and see that the Network is guessing in the right way the disease."
      ]
    },
    {
      "cell_type": "code",
      "execution_count": 40,
      "metadata": {
        "id": "fl8LPpwMujf_",
        "colab": {
          "base_uri": "https://localhost:8080/"
        },
        "outputId": "0e35e18b-be66-413d-9e5b-9ffff10fb715"
      },
      "outputs": [
        {
          "output_type": "stream",
          "name": "stdout",
          "text": [
            "1/1 [==============================] - 0s 32ms/step\n",
            "('mel', 'melanoma')\n"
          ]
        }
      ],
      "source": [
        "test_image=PIL.Image.open('drive/MyDrive/SkinMeProject/test_imgs/federica.jpg')\n",
        "test_image=test_image.resize((28,28))\n",
        "test=x_test_3d[1]\n",
        "test=np.array(test_image).reshape(-1,28,84)\n",
        "test_result= LSTM_model.predict(test)\n",
        "test_result=test_result.tolist()\n",
        "max_prob=max(test_result[0])\n",
        "test_index=test_result[0].index(max_prob)\n",
        "print(classes[test_index])"
      ]
    }
  ],
  "metadata": {
    "accelerator": "GPU",
    "colab": {
      "collapsed_sections": [
        "nJvq5OxBKj1j",
        "Xp6IRzqhu1Q9",
        "HgDV7Lt7Vi6P",
        "HmcQFTjCiRuV",
        "e8riReaNWdkV",
        "QgB2boWiW2dC",
        "b8-7mTrvXCub",
        "Y4Cw9UFa1rsr",
        "5i_16okiu1Rf",
        "QWd6H5Xyaujg",
        "kZQmaGqAbqFY"
      ],
      "provenance": []
    },
    "kernelspec": {
      "display_name": "Python 3",
      "language": "python",
      "name": "python3"
    },
    "language_info": {
      "codemirror_mode": {
        "name": "ipython",
        "version": 3
      },
      "file_extension": ".py",
      "mimetype": "text/x-python",
      "name": "python",
      "nbconvert_exporter": "python",
      "pygments_lexer": "ipython3",
      "version": "3.8.8"
    }
  },
  "nbformat": 4,
  "nbformat_minor": 0
}